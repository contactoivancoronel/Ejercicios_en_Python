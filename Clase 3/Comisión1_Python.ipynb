{
 "cells": [
  {
   "cell_type": "markdown",
   "id": "6709d582",
   "metadata": {},
   "source": [
    "<div class=\"alert alert-info text-center\">\n",
    "    <h2>Comisión 1 - Python</h2>\n",
    "</div>"
   ]
  },
  {
   "cell_type": "markdown",
   "id": "fcb76ee2",
   "metadata": {},
   "source": [
    "**Este es un texto en negrita**\n",
    "<br>\n",
    "*Este es un texto inclinado*\n",
    "<br>\n",
    "***Texto que combina negrita e inclinado***\n",
    "<br>\n",
    "* Opción 1\n",
    "* Opción 2\n",
    "* Opción 2\n",
    "<br>\n",
    "1. Ítem 1\n",
    "2. Ítem 2"
   ]
  },
  {
   "cell_type": "markdown",
   "id": "4276759d",
   "metadata": {},
   "source": [
    "***Variables***"
   ]
  },
  {
   "cell_type": "code",
   "execution_count": 2,
   "id": "b7ecc642",
   "metadata": {},
   "outputs": [
    {
     "name": "stdout",
     "output_type": "stream",
     "text": [
      "23\n",
      "45\n"
     ]
    }
   ],
   "source": [
    "# Vamos a ver el uso de variables.\n",
    "var1 = 23\n",
    "print(var1)\n",
    "\n",
    "# Podemos reutilizar las variables\n",
    "var1 = 45\n",
    "print(var1)"
   ]
  },
  {
   "cell_type": "code",
   "execution_count": 4,
   "id": "294595a3",
   "metadata": {},
   "outputs": [
    {
     "name": "stdout",
     "output_type": "stream",
     "text": [
      "Hola mundo\n"
     ]
    }
   ],
   "source": [
    "# También puedo reutilizar mis variables, cambiando el tipo de dato\n",
    "var1 = 'Hola mundo'\n",
    "print(var1)\n",
    "\n",
    "# Da lo mismo usar comillas simples o dobles.\n",
    "var2 = \"Clase 2 de Python\""
   ]
  },
  {
   "cell_type": "code",
   "execution_count": 5,
   "id": "f61cb4ae",
   "metadata": {},
   "outputs": [
    {
     "name": "stdout",
     "output_type": "stream",
     "text": [
      "Clase 2 de Python\n"
     ]
    }
   ],
   "source": [
    "print(var2)"
   ]
  },
  {
   "cell_type": "markdown",
   "id": "599c9b8d",
   "metadata": {},
   "source": [
    "***Comentarios***"
   ]
  },
  {
   "cell_type": "code",
   "execution_count": 6,
   "id": "cd72bc52",
   "metadata": {},
   "outputs": [],
   "source": [
    "# Esto es un comentario\n",
    "# Estas líneas son ignoradas por el intérprete\n"
   ]
  },
  {
   "cell_type": "markdown",
   "id": "09b33790",
   "metadata": {},
   "source": [
    "***Tipos de datos***"
   ]
  },
  {
   "cell_type": "code",
   "execution_count": 13,
   "id": "5bb7b366",
   "metadata": {},
   "outputs": [
    {
     "name": "stdout",
     "output_type": "stream",
     "text": [
      "<class 'float'>\n",
      "<class 'float'>\n",
      "<class 'float'>\n"
     ]
    }
   ],
   "source": [
    "# Datos numéricos\n",
    "var1 = 12\n",
    "#print(type(var1))\n",
    "\n",
    "# Valores base Octal\n",
    "var1 = 0o34\n",
    "#print(type(var1))\n",
    "\n",
    "# Valores decimales\n",
    "var1 = 3.5\n",
    "var2 = 2.5\n",
    "suma = var1 + var2\n",
    "\n",
    "print(type(var1))\n",
    "print(type(var2))\n",
    "print(type(suma))"
   ]
  },
  {
   "cell_type": "code",
   "execution_count": 41,
   "id": "9b224ee1",
   "metadata": {},
   "outputs": [
    {
     "name": "stdout",
     "output_type": "stream",
     "text": [
      "12\n",
      "5\n",
      "3\n",
      "Hola\n"
     ]
    }
   ],
   "source": [
    "# Asignación en línea\n",
    "valor1,valor2,valor3 = 12,5,3\n",
    "\n",
    "print(valor1)\n",
    "print(valor2)\n",
    "print(valor3)\n",
    "\n",
    "# Otro tipo de asignación múltiple\n",
    "v1=v2=v3 = 'Hola'\n",
    "print(v2)"
   ]
  },
  {
   "cell_type": "code",
   "execution_count": 15,
   "id": "f2598a10",
   "metadata": {},
   "outputs": [
    {
     "name": "stdout",
     "output_type": "stream",
     "text": [
      "(3+7j)\n"
     ]
    }
   ],
   "source": [
    "# Números complejos\n",
    "valor1 = 3 + 7j\n",
    "print(valor1)"
   ]
  },
  {
   "cell_type": "code",
   "execution_count": 16,
   "id": "4b515e26",
   "metadata": {},
   "outputs": [
    {
     "name": "stdout",
     "output_type": "stream",
     "text": [
      "3.0\n",
      "7.0\n"
     ]
    }
   ],
   "source": [
    "print(valor1.real)\n",
    "print(valor1.imag)"
   ]
  },
  {
   "cell_type": "markdown",
   "id": "eb688012",
   "metadata": {},
   "source": [
    "***Conversiones de tipo***\n",
    "<br>\n",
    "* int()\n",
    "* float()\n",
    "* complex()"
   ]
  },
  {
   "cell_type": "code",
   "execution_count": 21,
   "id": "8e0f339a",
   "metadata": {},
   "outputs": [
    {
     "name": "stdout",
     "output_type": "stream",
     "text": [
      "<class 'int'>\n",
      "23\n",
      "23.0\n"
     ]
    }
   ],
   "source": [
    "# Conversión de entero a coma flotante\n",
    "valor = 23\n",
    "print(type(valor))\n",
    "print(valor)\n",
    "\n",
    "valor = float(valor)\n",
    "print(valor)"
   ]
  },
  {
   "cell_type": "code",
   "execution_count": 22,
   "id": "ab918aae",
   "metadata": {},
   "outputs": [
    {
     "name": "stdout",
     "output_type": "stream",
     "text": [
      "2\n",
      "(2+0j)\n"
     ]
    }
   ],
   "source": [
    "# Entero a complejo\n",
    "valor = 2\n",
    "print(valor)\n",
    "\n",
    "valor = complex(valor)\n",
    "print(valor)"
   ]
  },
  {
   "cell_type": "code",
   "execution_count": 24,
   "id": "954a4cbd",
   "metadata": {},
   "outputs": [
    {
     "name": "stdout",
     "output_type": "stream",
     "text": [
      "3\n"
     ]
    }
   ],
   "source": [
    "# Flotante a entero\n",
    "var3 = 3.7\n",
    "var3 = int(var3)\n",
    "print(var3)"
   ]
  },
  {
   "cell_type": "code",
   "execution_count": 30,
   "id": "b5879317",
   "metadata": {},
   "outputs": [
    {
     "name": "stdout",
     "output_type": "stream",
     "text": [
      "Esta es mi variable var3 3\n"
     ]
    }
   ],
   "source": [
    "print('Esta es mi variable var3',var3)"
   ]
  },
  {
   "cell_type": "code",
   "execution_count": 31,
   "id": "55c65974",
   "metadata": {},
   "outputs": [
    {
     "name": "stdout",
     "output_type": "stream",
     "text": [
      "\n",
      "Línea 1\n",
      "Línea 2\n",
      "Línea 3\n",
      "\n"
     ]
    }
   ],
   "source": [
    "# Cadena con mas de una línea\n",
    "print(\"\"\"\n",
    "Línea 1\n",
    "Línea 2\n",
    "Línea 3\n",
    "\"\"\")"
   ]
  },
  {
   "cell_type": "code",
   "execution_count": 38,
   "id": "7b4fe6b8",
   "metadata": {},
   "outputs": [
    {
     "name": "stdout",
     "output_type": "stream",
     "text": [
      "☎\n",
      "ὠE\n"
     ]
    }
   ],
   "source": [
    "# Caracteres Unicode\n",
    "print('\\u260e')\n",
    "print('\\u1F60E')"
   ]
  },
  {
   "cell_type": "code",
   "execution_count": 39,
   "id": "35434dd2",
   "metadata": {},
   "outputs": [
    {
     "name": "stdout",
     "output_type": "stream",
     "text": [
      "<class 'bool'>\n"
     ]
    }
   ],
   "source": [
    "# Booleanos\n",
    "a = True\n",
    "print(type(a))"
   ]
  },
  {
   "cell_type": "markdown",
   "id": "157d7b8e",
   "metadata": {},
   "source": [
    "Ejemplo: Pedir al usuario un ingreso por teclado, que corresponde al radio de un círculo y mostrar por pantalla la superficie de dicho círculo."
   ]
  },
  {
   "cell_type": "code",
   "execution_count": 43,
   "id": "9d047f09",
   "metadata": {},
   "outputs": [
    {
     "name": "stdout",
     "output_type": "stream",
     "text": [
      "Ingrese su nombre: Guillermo Alfaro\n",
      "El nombre ingresado por teclado es:  Guillermo Alfaro\n"
     ]
    }
   ],
   "source": [
    "# Ejemplo Ingreso por teclado\n",
    "nombre = input('Ingrese su nombre: ')\n",
    "print('El nombre ingresado por teclado es: ',nombre)"
   ]
  },
  {
   "cell_type": "code",
   "execution_count": 47,
   "id": "eafaf427",
   "metadata": {},
   "outputs": [
    {
     "name": "stdout",
     "output_type": "stream",
     "text": [
      "Cálculo de la superficie de un círculo\n",
      "\n",
      "Ingrese el radio del círculo: 23\n",
      "La superficie calculada es:  1661.9024854\n"
     ]
    }
   ],
   "source": [
    "# Intento de solución del ejercicio\n",
    "print('Cálculo de la superficie de un círculo')\n",
    "print()\n",
    "radio = int(input('Ingrese el radio del círculo: '))\n",
    "PI = 3.1415926\n",
    "superficie = PI * (radio**2)\n",
    "print('La superficie calculada es: ',superficie)"
   ]
  },
  {
   "cell_type": "markdown",
   "id": "d8715ae2",
   "metadata": {},
   "source": [
    "***Método FORMAT***"
   ]
  },
  {
   "cell_type": "code",
   "execution_count": 4,
   "id": "50a82005",
   "metadata": {},
   "outputs": [
    {
     "name": "stdout",
     "output_type": "stream",
     "text": [
      "El valor de mi variable llamada VAR1 es: 4, y el de VAR2 5\n"
     ]
    }
   ],
   "source": [
    "# Es un método de la clase STR y me permite, entre otras cosas, agregar datos a un texto.\n",
    "var1 = 4\n",
    "var2 = 5\n",
    "print(\"El valor de mi variable llamada VAR1 es: {}, y el de VAR2 {}\".format(var1,var2))"
   ]
  },
  {
   "cell_type": "markdown",
   "id": "b9613063",
   "metadata": {},
   "source": [
    "***Operadores***"
   ]
  },
  {
   "cell_type": "markdown",
   "id": "1aaeb0b1",
   "metadata": {},
   "source": [
    "***Operadores aritméticos.***\n",
    "* Suma (+)\n",
    "* Resta (-)\n",
    "* Negativo (-)\n",
    "* Multiplicación (*)\n",
    "* Exponente (**)\n",
    "* División (/)\n",
    "* División entera (//)\n",
    "* Resto (%)"
   ]
  },
  {
   "cell_type": "code",
   "execution_count": 1,
   "id": "c504e1e2",
   "metadata": {},
   "outputs": [],
   "source": [
    "# Hacer y ejecutar un ejemplo de cada uno."
   ]
  },
  {
   "cell_type": "markdown",
   "id": "cea81318",
   "metadata": {},
   "source": [
    "***Operadores relacionales.***\n",
    "* Igual que (==)\n",
    "* Distinto que (!=)\n",
    "* Menor que (<)\n",
    "* Mayor que (>)\n",
    "* Menor o igual que (<=)\n",
    "* Mayor o igual que (>=)"
   ]
  },
  {
   "cell_type": "code",
   "execution_count": 6,
   "id": "e6cfc234",
   "metadata": {},
   "outputs": [
    {
     "name": "stdout",
     "output_type": "stream",
     "text": [
      "La variable a es mayor que 10: False\n"
     ]
    }
   ],
   "source": [
    "# Ejemplo\n",
    "a = 1\n",
    "print(\"La variable a es mayor que 10: {}\".format(a > 10))"
   ]
  },
  {
   "cell_type": "markdown",
   "id": "682faa49",
   "metadata": {},
   "source": [
    "***Operadores de asignación.***"
   ]
  },
  {
   "cell_type": "code",
   "execution_count": 8,
   "id": "d672c5a8",
   "metadata": {},
   "outputs": [
    {
     "name": "stdout",
     "output_type": "stream",
     "text": [
      "12\n",
      "Suma y asignación: 7\n",
      "Resta y asignación: 2\n"
     ]
    }
   ],
   "source": [
    "# Asignación simple\n",
    "a = 12\n",
    "print(a)\n",
    "\n",
    "# Suma y asignación\n",
    "a = 5\n",
    "a += 2\n",
    "print(\"Suma y asignación: {}\".format(a))\n",
    "\n",
    "# Resta y asignación\n",
    "a = 6\n",
    "a -= 4\n",
    "print(\"Resta y asignación: {}\".format(a))"
   ]
  },
  {
   "cell_type": "markdown",
   "id": "2bfcb009",
   "metadata": {},
   "source": [
    "***Operadores lógicos.***\n",
    "* and \n",
    "* or\n",
    "* not"
   ]
  },
  {
   "cell_type": "code",
   "execution_count": 14,
   "id": "b16cb009",
   "metadata": {},
   "outputs": [
    {
     "name": "stdout",
     "output_type": "stream",
     "text": [
      "AND es TRUE si y solo, ambas expresiones son verdaderas: True\n"
     ]
    }
   ],
   "source": [
    "# AND\n",
    "a = 5\n",
    "b = 10\n",
    "print(\"AND es TRUE si y solo, ambas expresiones son verdaderas: {}\".format(a==5 and b==10))"
   ]
  },
  {
   "cell_type": "code",
   "execution_count": 17,
   "id": "07db1ca6",
   "metadata": {},
   "outputs": [
    {
     "name": "stdout",
     "output_type": "stream",
     "text": [
      "OR es TRUE solo si, al menos una de las expresiones es verdadera: False\n"
     ]
    }
   ],
   "source": [
    "# OR\n",
    "c = 3\n",
    "d = 52\n",
    "print(\"OR es TRUE solo si, al menos una de las expresiones es verdadera: {}\".format(c==6 or d==5))"
   ]
  },
  {
   "cell_type": "code",
   "execution_count": 19,
   "id": "036c7230",
   "metadata": {},
   "outputs": [
    {
     "name": "stdout",
     "output_type": "stream",
     "text": [
      "NOT modifica el valor booleano de una expresión: False\n"
     ]
    }
   ],
   "source": [
    "# NOT\n",
    "var = 23\n",
    "print(\"NOT modifica el valor booleano de una expresión: {}\".format(not var==23))"
   ]
  },
  {
   "cell_type": "markdown",
   "id": "6f621f24",
   "metadata": {},
   "source": [
    "### Listas."
   ]
  },
  {
   "cell_type": "code",
   "execution_count": 21,
   "id": "c13d9acc",
   "metadata": {},
   "outputs": [
    {
     "name": "stdout",
     "output_type": "stream",
     "text": [
      "[1, 2, 3, 4]\n"
     ]
    }
   ],
   "source": [
    "# Tipo de elemento: LISTA\n",
    "lista1 = [1,2,3,4]\n",
    "print(lista1)"
   ]
  },
  {
   "cell_type": "code",
   "execution_count": 24,
   "id": "b56dedc6",
   "metadata": {},
   "outputs": [
    {
     "name": "stdout",
     "output_type": "stream",
     "text": [
      "56\n"
     ]
    }
   ],
   "source": [
    "# Las listas son elementos indexados\n",
    "lista2 = ['a','b',56,12,'Hola mundo']\n",
    "print(lista2[2])"
   ]
  },
  {
   "cell_type": "code",
   "execution_count": 27,
   "id": "0cf8f6be",
   "metadata": {},
   "outputs": [
    {
     "name": "stdout",
     "output_type": "stream",
     "text": [
      "['Hola', 'mundo']\n",
      "Hola mundo\n"
     ]
    }
   ],
   "source": [
    "# Ejemplo de uso\n",
    "l1 = ['Hola',4,5]\n",
    "l2 = ['mundo',3]\n",
    "l3 = [l1[0],l2[0]]\n",
    "\n",
    "print(l3)\n",
    "print(l1[0]+' '+l2[0])"
   ]
  },
  {
   "cell_type": "markdown",
   "id": "fa9e6347",
   "metadata": {},
   "source": [
    "***Función LEN.***"
   ]
  },
  {
   "cell_type": "code",
   "execution_count": 28,
   "id": "c64b79a6",
   "metadata": {},
   "outputs": [
    {
     "name": "stdout",
     "output_type": "stream",
     "text": [
      "[1, 2, 3, 4, 5]\n",
      "<class 'list'>\n",
      "5\n"
     ]
    }
   ],
   "source": [
    "# Me permite conocer la longitud de un elemento, por ejemplo, las listas.\n",
    "lista = [1,2,3,4,5]\n",
    "print(lista)\n",
    "print(type(lista))\n",
    "print(len(lista))"
   ]
  },
  {
   "cell_type": "markdown",
   "id": "50c79f42",
   "metadata": {},
   "source": [
    "***Métodos de LISTA.***"
   ]
  },
  {
   "cell_type": "code",
   "execution_count": 29,
   "id": "db1d81f3",
   "metadata": {},
   "outputs": [
    {
     "name": "stdout",
     "output_type": "stream",
     "text": [
      "['Juan', 'Pedro', 'Guillermo']\n",
      "['Juan', 'Pedro', 'Guillermo', 24]\n"
     ]
    }
   ],
   "source": [
    "# Método APPEND\n",
    "# Agrega un elemento al final de la lista.\n",
    "nombres = ['Juan','Pedro','Guillermo']\n",
    "print(nombres)\n",
    "nombres.append(24)\n",
    "print(nombres)"
   ]
  },
  {
   "cell_type": "code",
   "execution_count": 31,
   "id": "09f4ae18",
   "metadata": {},
   "outputs": [
    {
     "name": "stdout",
     "output_type": "stream",
     "text": [
      "2\n"
     ]
    }
   ],
   "source": [
    "# Método COUNT\n",
    "# Devuelve el número de ocurrencias de un elemento dentro de la lista.\n",
    "letras = ['a','b','c','a']\n",
    "print(letras.count('a'))"
   ]
  },
  {
   "cell_type": "code",
   "execution_count": 35,
   "id": "d49bf743",
   "metadata": {},
   "outputs": [
    {
     "name": "stdout",
     "output_type": "stream",
     "text": [
      "1\n"
     ]
    }
   ],
   "source": [
    "# Método INDEX\n",
    "# Devuelve el índice de la primer ocurrencia del elemento que le paso como argumento\n",
    "numeros = [1,2,3,4,5,2]\n",
    "print(numeros.index(2))"
   ]
  },
  {
   "cell_type": "code",
   "execution_count": 37,
   "id": "bcd868d8",
   "metadata": {},
   "outputs": [
    {
     "name": "stdout",
     "output_type": "stream",
     "text": [
      "[1, 2, 3, 4]\n",
      "[1, 2, 'Hola', 3, 4]\n",
      "[]\n"
     ]
    }
   ],
   "source": [
    "# Método INSERT\n",
    "lista = [1,2,3,4]\n",
    "print(lista)\n",
    "lista.insert(2,'Hola')\n",
    "print(lista)\n",
    "\n",
    "lista = []\n",
    "print(lista)"
   ]
  },
  {
   "cell_type": "code",
   "execution_count": 39,
   "id": "ff2da301",
   "metadata": {},
   "outputs": [
    {
     "name": "stdout",
     "output_type": "stream",
     "text": [
      "[1, 2, 3, 4, 5, 6]\n",
      "[1, 2, 3, 4, 5]\n",
      "6\n"
     ]
    }
   ],
   "source": [
    "# Método POP\n",
    "lista = [1,2,3,4,5,6]\n",
    "print(lista)\n",
    "a = lista.pop()\n",
    "print(lista)\n",
    "print(a)"
   ]
  },
  {
   "cell_type": "code",
   "execution_count": 43,
   "id": "8afa8f27",
   "metadata": {},
   "outputs": [
    {
     "name": "stdout",
     "output_type": "stream",
     "text": [
      "[1, 2, 3, 4, 5, 2, 2]\n",
      "[1, 3, 4, 5, 2, 2]\n"
     ]
    }
   ],
   "source": [
    "# Método REMOVE\n",
    "numeros = [1,2,3,4,5,2,2]\n",
    "print(numeros)\n",
    "numeros.remove(2)\n",
    "print(numeros)"
   ]
  },
  {
   "cell_type": "code",
   "execution_count": 45,
   "id": "5d0e809f",
   "metadata": {},
   "outputs": [
    {
     "name": "stdout",
     "output_type": "stream",
     "text": [
      "['a', 'b', 'd', 'c']\n",
      "['c', 'd', 'b', 'a']\n"
     ]
    }
   ],
   "source": [
    "# Método REVERSE\n",
    "# Invierte el orden de los elementos\n",
    "letras = ['a','b','d','c']\n",
    "print(letras)\n",
    "letras.reverse()\n",
    "print(letras)"
   ]
  },
  {
   "cell_type": "code",
   "execution_count": 47,
   "id": "23f6eb48",
   "metadata": {},
   "outputs": [
    {
     "name": "stdout",
     "output_type": "stream",
     "text": [
      "[2, 6, 34, 0, 23, 5]\n",
      "[0, 2, 5, 6, 23, 34]\n",
      "[34, 23, 6, 5, 2, 0]\n"
     ]
    }
   ],
   "source": [
    "# Método SORT\n",
    "# Ordena los elementos de una lista\n",
    "\n",
    "# Orden, de menor a mayor\n",
    "numeros = [2,6,34,0,23,5]\n",
    "print(numeros)\n",
    "numeros.sort()\n",
    "print(numeros)\n",
    "\n",
    "# Orden de mayor a menor\n",
    "numeros.sort(reverse=True)\n",
    "print(numeros)"
   ]
  },
  {
   "cell_type": "code",
   "execution_count": 49,
   "id": "242dc886",
   "metadata": {},
   "outputs": [
    {
     "name": "stdout",
     "output_type": "stream",
     "text": [
      "['f', 'x', 'a']\n",
      "['a', 'f', 'x']\n"
     ]
    }
   ],
   "source": [
    "# Puedo ordenar texto\n",
    "numeros = ['f','x','a']\n",
    "print(numeros)\n",
    "numeros.sort()\n",
    "print(numeros)"
   ]
  },
  {
   "cell_type": "markdown",
   "id": "36f9414b",
   "metadata": {},
   "source": [
    "### Operador de pertenencia"
   ]
  },
  {
   "cell_type": "code",
   "execution_count": 51,
   "id": "3958d546",
   "metadata": {},
   "outputs": [
    {
     "name": "stdout",
     "output_type": "stream",
     "text": [
      "False\n",
      "True\n"
     ]
    }
   ],
   "source": [
    "# Determinan si un elemento pertenece a una determinada colección\n",
    "a = 12\n",
    "lista = [1,2,3,4,5]\n",
    "print(a in lista)\n",
    "print(a not in lista)"
   ]
  },
  {
   "cell_type": "markdown",
   "id": "1d501ebd",
   "metadata": {},
   "source": [
    "## Estructuras."
   ]
  },
  {
   "cell_type": "markdown",
   "id": "ad37e219",
   "metadata": {},
   "source": [
    "***Condicional IF***"
   ]
  },
  {
   "cell_type": "code",
   "execution_count": 54,
   "id": "d627189b",
   "metadata": {},
   "outputs": [
    {
     "name": "stdout",
     "output_type": "stream",
     "text": [
      "Ingrese un número: 13\n",
      "El número es IMPAR\n",
      "Acá se termino todo\n"
     ]
    }
   ],
   "source": [
    "# Pedimos el ingreso de un número y verificamos si es par o impar.\n",
    "numero = int(input('Ingrese un número: '))\n",
    "resto = numero%2\n",
    "\n",
    "if resto == 0:\n",
    "    print('El número es PAR')\n",
    "else:\n",
    "    print('El número es IMPAR')\n",
    "\n",
    "print('Acá se termino todo')"
   ]
  },
  {
   "cell_type": "code",
   "execution_count": 57,
   "id": "eec73cf3",
   "metadata": {},
   "outputs": [
    {
     "name": "stdout",
     "output_type": "stream",
     "text": [
      "El número es menor que cero\n"
     ]
    }
   ],
   "source": [
    "# Otro ejemplo de IF\n",
    "a = -2\n",
    "if a<0:\n",
    "    print('El número es menor que cero')\n",
    "elif a>=0 and a<=10:\n",
    "    print('El número está entre 0 y 10 inclusive')\n",
    "else:\n",
    "    print('El número es mayor que 10')   "
   ]
  },
  {
   "cell_type": "markdown",
   "id": "756701ae",
   "metadata": {},
   "source": [
    "## Ejercicios propuestos"
   ]
  },
  {
   "cell_type": "markdown",
   "id": "2cef20f6",
   "metadata": {},
   "source": [
    "***Ejercicio 1.***\n",
    "Pedir el ingreso por teclado de 3 valores numéricos entre 1 y 10 correspondientes a las notas de un alumno.\n",
    "En base al promedio final de las tres notas, mostrar un mensaje por pantalla que indique si el alumno promociona la materia (nota final 7,8,9 o 10), debe rendir final (nota final 4,5 o 6) o recursa (nota 1,2,3).\n"
   ]
  },
  {
   "cell_type": "code",
   "execution_count": null,
   "id": "2c076871",
   "metadata": {},
   "outputs": [],
   "source": [
    "# Código del ejercicio 1"
   ]
  },
  {
   "cell_type": "markdown",
   "id": "1fb16556",
   "metadata": {},
   "source": [
    "***Ejercicio 2.***\n",
    "Solicitar por teclado la cantidad de partidos ganados, empatados y perdidos de un determinado club de fútbol. Calcular y mostrar el puntaje final sabiendo que cada partido ganado le otorga 3 puntos, cada partido empatado 1 punto y ningún punto por cada partido perdido. \n"
   ]
  },
  {
   "cell_type": "code",
   "execution_count": 58,
   "id": "00070641",
   "metadata": {},
   "outputs": [],
   "source": [
    "# Código del ejercicio 2"
   ]
  },
  {
   "cell_type": "markdown",
   "id": "10a856fb",
   "metadata": {},
   "source": [
    "***Ejercicio 3.***\n",
    "Solicitar por teclado el ingreso de un número entero.\n",
    "Asignar dicho número a una variable, transformarla a coma flotante y mostrarla por pantalla (valor y tipo de variable).\n"
   ]
  },
  {
   "cell_type": "code",
   "execution_count": 59,
   "id": "d3225193",
   "metadata": {},
   "outputs": [],
   "source": [
    "# Código del ejercicio 3"
   ]
  },
  {
   "cell_type": "markdown",
   "id": "9fd90f7f",
   "metadata": {},
   "source": [
    "***Ejercicio 4.***\n",
    "Desarrollar un programa que solicite al usuario los lados de un rectángulo y calcule su perímetro y su superficie.\n",
    "Informar ambos resultados por pantalla.\n"
   ]
  },
  {
   "cell_type": "code",
   "execution_count": 60,
   "id": "c96c5440",
   "metadata": {},
   "outputs": [],
   "source": [
    "# Código del ejercicio 4"
   ]
  },
  {
   "cell_type": "markdown",
   "id": "f3afda1e",
   "metadata": {},
   "source": [
    "***Ejercicio 5.***\n",
    "Pedir al usuario que ingrese por teclado dos números reales y utilizarlos para realizar todas las operaciones aritméticas vistas (suma, resta, multiplicación, división, potencia, división entera y resto).\n",
    "Mostar todos los resultados por pantalla (un resultado por línea) con su respectiva leyenda aclarando de que operación se trata.\n"
   ]
  },
  {
   "cell_type": "code",
   "execution_count": 61,
   "id": "1d4b4252",
   "metadata": {},
   "outputs": [],
   "source": [
    "# Código del ejercicio 5"
   ]
  },
  {
   "cell_type": "markdown",
   "id": "7cc5d05c",
   "metadata": {},
   "source": [
    "***Ejercicio 6.***\n",
    "Si creamos tres listas. La primera contiene 4 números, la segunda contiene 5 letras y en la tercera le cargamos como elementos las dos listas anteriores.\n",
    "¿Cuántos elementos contendrá la tercera lista? Demostrar mediante un breve código.\n"
   ]
  },
  {
   "cell_type": "code",
   "execution_count": 62,
   "id": "8855bc93",
   "metadata": {},
   "outputs": [],
   "source": [
    "# Código del ejercicio 6"
   ]
  },
  {
   "cell_type": "markdown",
   "id": "5bc23af4",
   "metadata": {},
   "source": [
    "***Ejercicio 7.***\n",
    "Escribir un programa que pida ingresar un número entero mayor que cero por teclado.\n",
    "Verificar si el número ingresado es múltiplo de 2, 3, 4, 5, 6, 7,8 o 9.\n",
    "Armar una lista con los números encontrados (por ejemplo, si el número ingresado es múltiplo de 3,6 y 7, armamos una lista que contenga estos tres números).\n",
    "Mostrar la lista por pantalla, ordenada de mayor a menor.\n",
    "En caso de que el número ingresado no sea múltiplo de estos números, mostrar por pantalla el mensaje “No se encontraron divisores exactos”.\n"
   ]
  },
  {
   "cell_type": "code",
   "execution_count": 63,
   "id": "98dc5b61",
   "metadata": {},
   "outputs": [],
   "source": [
    "# Código del ejercicio 7"
   ]
  },
  {
   "cell_type": "markdown",
   "id": "d0c33370",
   "metadata": {},
   "source": [
    "***Ejercicio 8.***\n",
    "Pedirle al usuario que ingrese dos números enteros por teclado y contar cuantos números pares hay entre ambos valores ingresados.\n"
   ]
  },
  {
   "cell_type": "code",
   "execution_count": 64,
   "id": "c32cb7c0",
   "metadata": {},
   "outputs": [],
   "source": [
    "# Código del ejercicio 8"
   ]
  },
  {
   "cell_type": "markdown",
   "id": "245fa1d5",
   "metadata": {},
   "source": [
    "***Ejercicio 9.***\n",
    "Escribir un programa que permita al usuario ingresar por teclado tantos números enteros como desee. Cuando no quiera ingresar más números, deberá ingresar el cero.\n",
    "A continuación, determinar cuál de los números ingresados es el mayor y cuál es el menor. Mostrar ambos por pantalla.\n"
   ]
  },
  {
   "cell_type": "code",
   "execution_count": 65,
   "id": "5bde0b16",
   "metadata": {},
   "outputs": [],
   "source": [
    "# Código del ejercicio 9"
   ]
  },
  {
   "cell_type": "code",
   "execution_count": null,
   "id": "deebeea4",
   "metadata": {},
   "outputs": [],
   "source": []
  }
 ],
 "metadata": {
  "kernelspec": {
   "display_name": "Python 3 (ipykernel)",
   "language": "python",
   "name": "python3"
  },
  "language_info": {
   "codemirror_mode": {
    "name": "ipython",
    "version": 3
   },
   "file_extension": ".py",
   "mimetype": "text/x-python",
   "name": "python",
   "nbconvert_exporter": "python",
   "pygments_lexer": "ipython3",
   "version": "3.9.13"
  }
 },
 "nbformat": 4,
 "nbformat_minor": 5
}
