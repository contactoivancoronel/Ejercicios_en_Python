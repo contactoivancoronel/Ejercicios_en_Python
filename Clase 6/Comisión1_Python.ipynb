{
 "cells": [
  {
   "cell_type": "markdown",
   "id": "6709d582",
   "metadata": {},
   "source": [
    "<div class=\"alert alert-info text-center\">\n",
    "    <h2>Comisión 1 - Python</h2>\n",
    "</div>"
   ]
  },
  {
   "cell_type": "markdown",
   "id": "fcb76ee2",
   "metadata": {},
   "source": [
    "**Este es un texto en negrita**\n",
    "<br>\n",
    "*Este es un texto inclinado*\n",
    "<br>\n",
    "***Texto que combina negrita e inclinado***\n",
    "<br>\n",
    "* Opción 1\n",
    "* Opción 2\n",
    "* Opción 2\n",
    "<br>\n",
    "1. Ítem 1\n",
    "2. Ítem 2"
   ]
  },
  {
   "cell_type": "markdown",
   "id": "4276759d",
   "metadata": {},
   "source": [
    "***Variables***"
   ]
  },
  {
   "cell_type": "code",
   "execution_count": null,
   "id": "b7ecc642",
   "metadata": {},
   "outputs": [],
   "source": [
    "# Vamos a ver el uso de variables.\n",
    "var1 = 23\n",
    "print(var1)\n",
    "\n",
    "# Podemos reutilizar las variables\n",
    "var1 = 45\n",
    "print(var1)"
   ]
  },
  {
   "cell_type": "code",
   "execution_count": null,
   "id": "294595a3",
   "metadata": {},
   "outputs": [],
   "source": [
    "# También puedo reutilizar mis variables, cambiando el tipo de dato\n",
    "var1 = 'Hola mundo'\n",
    "print(var1)\n",
    "\n",
    "# Da lo mismo usar comillas simples o dobles.\n",
    "var2 = \"Clase 2 de Python\""
   ]
  },
  {
   "cell_type": "code",
   "execution_count": null,
   "id": "f61cb4ae",
   "metadata": {},
   "outputs": [],
   "source": [
    "print(var2)"
   ]
  },
  {
   "cell_type": "markdown",
   "id": "599c9b8d",
   "metadata": {},
   "source": [
    "***Comentarios***"
   ]
  },
  {
   "cell_type": "code",
   "execution_count": null,
   "id": "cd72bc52",
   "metadata": {},
   "outputs": [],
   "source": [
    "# Esto es un comentario\n",
    "# Estas líneas son ignoradas por el intérprete\n"
   ]
  },
  {
   "cell_type": "markdown",
   "id": "09b33790",
   "metadata": {},
   "source": [
    "***Tipos de datos***"
   ]
  },
  {
   "cell_type": "code",
   "execution_count": null,
   "id": "5bb7b366",
   "metadata": {},
   "outputs": [],
   "source": [
    "# Datos numéricos\n",
    "var1 = 12\n",
    "#print(type(var1))\n",
    "\n",
    "# Valores base Octal\n",
    "var1 = 0o34\n",
    "#print(type(var1))\n",
    "\n",
    "# Valores decimales\n",
    "var1 = 3.5\n",
    "var2 = 2.5\n",
    "suma = var1 + var2\n",
    "\n",
    "print(type(var1))\n",
    "print(type(var2))\n",
    "print(type(suma))"
   ]
  },
  {
   "cell_type": "code",
   "execution_count": null,
   "id": "9b224ee1",
   "metadata": {},
   "outputs": [],
   "source": [
    "# Asignación en línea\n",
    "valor1,valor2,valor3 = 12,5,3\n",
    "\n",
    "print(valor1)\n",
    "print(valor2)\n",
    "print(valor3)\n",
    "\n",
    "# Otro tipo de asignación múltiple\n",
    "v1=v2=v3 = 'Hola'\n",
    "print(v2)"
   ]
  },
  {
   "cell_type": "code",
   "execution_count": null,
   "id": "f2598a10",
   "metadata": {},
   "outputs": [],
   "source": [
    "# Números complejos\n",
    "valor1 = 3 + 7j\n",
    "print(valor1)"
   ]
  },
  {
   "cell_type": "code",
   "execution_count": null,
   "id": "4b515e26",
   "metadata": {},
   "outputs": [],
   "source": [
    "print(valor1.real)\n",
    "print(valor1.imag)"
   ]
  },
  {
   "cell_type": "markdown",
   "id": "eb688012",
   "metadata": {},
   "source": [
    "***Conversiones de tipo***\n",
    "<br>\n",
    "* int()\n",
    "* float()\n",
    "* complex()"
   ]
  },
  {
   "cell_type": "code",
   "execution_count": null,
   "id": "8e0f339a",
   "metadata": {},
   "outputs": [],
   "source": [
    "# Conversión de entero a coma flotante\n",
    "valor = 23\n",
    "print(type(valor))\n",
    "print(valor)\n",
    "\n",
    "valor = float(valor)\n",
    "print(valor)"
   ]
  },
  {
   "cell_type": "code",
   "execution_count": null,
   "id": "ab918aae",
   "metadata": {},
   "outputs": [],
   "source": [
    "# Entero a complejo\n",
    "valor = 2\n",
    "print(valor)\n",
    "\n",
    "valor = complex(valor)\n",
    "print(valor)"
   ]
  },
  {
   "cell_type": "code",
   "execution_count": null,
   "id": "954a4cbd",
   "metadata": {},
   "outputs": [],
   "source": [
    "# Flotante a entero\n",
    "var3 = 3.7\n",
    "var3 = int(var3)\n",
    "print(var3)"
   ]
  },
  {
   "cell_type": "code",
   "execution_count": null,
   "id": "b5879317",
   "metadata": {},
   "outputs": [],
   "source": [
    "print('Esta es mi variable var3',var3)"
   ]
  },
  {
   "cell_type": "code",
   "execution_count": null,
   "id": "55c65974",
   "metadata": {},
   "outputs": [],
   "source": [
    "# Cadena con mas de una línea\n",
    "print(\"\"\"\n",
    "Línea 1\n",
    "Línea 2\n",
    "Línea 3\n",
    "\"\"\")"
   ]
  },
  {
   "cell_type": "code",
   "execution_count": null,
   "id": "7b4fe6b8",
   "metadata": {},
   "outputs": [],
   "source": [
    "# Caracteres Unicode\n",
    "print('\\u260e')\n",
    "print('\\u1F60E')"
   ]
  },
  {
   "cell_type": "code",
   "execution_count": null,
   "id": "35434dd2",
   "metadata": {},
   "outputs": [],
   "source": [
    "# Booleanos\n",
    "a = True\n",
    "print(type(a))"
   ]
  },
  {
   "cell_type": "markdown",
   "id": "157d7b8e",
   "metadata": {},
   "source": [
    "Ejemplo: Pedir al usuario un ingreso por teclado, que corresponde al radio de un círculo y mostrar por pantalla la superficie de dicho círculo."
   ]
  },
  {
   "cell_type": "code",
   "execution_count": null,
   "id": "9d047f09",
   "metadata": {},
   "outputs": [],
   "source": [
    "# Ejemplo Ingreso por teclado\n",
    "nombre = input('Ingrese su nombre: ')\n",
    "print('El nombre ingresado por teclado es: ',nombre)"
   ]
  },
  {
   "cell_type": "code",
   "execution_count": null,
   "id": "eafaf427",
   "metadata": {},
   "outputs": [],
   "source": [
    "# Intento de solución del ejercicio\n",
    "print('Cálculo de la superficie de un círculo')\n",
    "print()\n",
    "radio = int(input('Ingrese el radio del círculo: '))\n",
    "PI = 3.1415926\n",
    "superficie = PI * (radio**2)\n",
    "print('La superficie calculada es: ',superficie)"
   ]
  },
  {
   "cell_type": "markdown",
   "id": "6224b963",
   "metadata": {},
   "source": [
    "***Método FORMAT***"
   ]
  },
  {
   "cell_type": "code",
   "execution_count": null,
   "id": "efd801b0",
   "metadata": {},
   "outputs": [],
   "source": [
    "# Es un método de la clase STR y me permite, entre otras cosas, agregar datos a un texto.\n",
    "var1 = 4\n",
    "var2 = 5\n",
    "print(\"El valor de mi variable llamada VAR1 es: {}, y el de VAR2 {}\".format(var1,var2))"
   ]
  },
  {
   "cell_type": "markdown",
   "id": "b9613063",
   "metadata": {},
   "source": [
    "***Operadores***"
   ]
  },
  {
   "cell_type": "markdown",
   "id": "b0974ffe",
   "metadata": {},
   "source": [
    "***Operadores aritméticos.***\n",
    "* Suma (+)\n",
    "* Resta (-)\n",
    "* Negativo (-)\n",
    "* Multiplicación (*)\n",
    "* Exponente (**)\n",
    "* División (/)\n",
    "* División entera (//)\n",
    "* Resto (%)"
   ]
  },
  {
   "cell_type": "code",
   "execution_count": null,
   "id": "8932d46f",
   "metadata": {},
   "outputs": [],
   "source": [
    "# Hacer y ejecutar un ejemplo de cada uno."
   ]
  },
  {
   "cell_type": "markdown",
   "id": "a1058773",
   "metadata": {},
   "source": [
    "***Operadores relacionales.***\n",
    "* Igual que (==)\n",
    "* Distinto que (!=)\n",
    "* Menor que (<)\n",
    "* Mayor que (>)\n",
    "* Menor o igual que (<=)\n",
    "* Mayor o igual que (>=)"
   ]
  },
  {
   "cell_type": "code",
   "execution_count": null,
   "id": "02db0413",
   "metadata": {},
   "outputs": [],
   "source": [
    "# Ejemplo\n",
    "a = 1\n",
    "print(\"La variable a es mayor que 10: {}\".format(a > 10))"
   ]
  },
  {
   "cell_type": "markdown",
   "id": "6e6afe6d",
   "metadata": {},
   "source": [
    "***Operadores de asignación.***"
   ]
  },
  {
   "cell_type": "code",
   "execution_count": null,
   "id": "45601e44",
   "metadata": {},
   "outputs": [],
   "source": [
    "# Asignación simple\n",
    "a = 12\n",
    "print(a)\n",
    "\n",
    "# Suma y asignación\n",
    "a = 5\n",
    "a += 2\n",
    "print(\"Suma y asignación: {}\".format(a))\n",
    "\n",
    "# Resta y asignación\n",
    "a = 6\n",
    "a -= 4\n",
    "print(\"Resta y asignación: {}\".format(a))"
   ]
  },
  {
   "cell_type": "markdown",
   "id": "b95d0328",
   "metadata": {},
   "source": [
    "***Operadores lógicos.***\n",
    "* and \n",
    "* or\n",
    "* not"
   ]
  },
  {
   "cell_type": "code",
   "execution_count": null,
   "id": "e2eefe55",
   "metadata": {},
   "outputs": [],
   "source": [
    "# AND\n",
    "a = 5\n",
    "b = 10\n",
    "print(\"AND es TRUE si y solo, ambas expresiones son verdaderas: {}\".format(a==5 and b==10))"
   ]
  },
  {
   "cell_type": "code",
   "execution_count": null,
   "id": "292b4b53",
   "metadata": {},
   "outputs": [],
   "source": [
    "# OR\n",
    "c = 3\n",
    "d = 52\n",
    "print(\"OR es TRUE solo si, al menos una de las expresiones es verdadera: {}\".format(c==6 or d==5))"
   ]
  },
  {
   "cell_type": "code",
   "execution_count": null,
   "id": "23ca9bdb",
   "metadata": {},
   "outputs": [],
   "source": [
    "# NOT\n",
    "var = 23\n",
    "print(\"NOT modifica el valor booleano de una expresión: {}\".format(not var==23))"
   ]
  },
  {
   "cell_type": "markdown",
   "id": "e1267821",
   "metadata": {},
   "source": [
    "### Listas."
   ]
  },
  {
   "cell_type": "code",
   "execution_count": null,
   "id": "233a8e11",
   "metadata": {},
   "outputs": [],
   "source": [
    "# Tipo de elemento: LISTA\n",
    "lista1 = [1,2,3,4]\n",
    "print(lista1)"
   ]
  },
  {
   "cell_type": "code",
   "execution_count": null,
   "id": "88f89325",
   "metadata": {},
   "outputs": [],
   "source": [
    "# Las listas son elementos indexados\n",
    "lista2 = ['a','b',56,12,'Hola mundo']\n",
    "print(lista2[2])"
   ]
  },
  {
   "cell_type": "code",
   "execution_count": null,
   "id": "0c643674",
   "metadata": {},
   "outputs": [],
   "source": [
    "# Ejemplo de uso\n",
    "l1 = ['Hola',4,5]\n",
    "l2 = ['mundo',3]\n",
    "l3 = [l1[0],l2[0]]\n",
    "\n",
    "print(l3)\n",
    "print(l1[0]+' '+l2[0])"
   ]
  },
  {
   "cell_type": "markdown",
   "id": "b0852630",
   "metadata": {},
   "source": [
    "***Función LEN.***"
   ]
  },
  {
   "cell_type": "code",
   "execution_count": null,
   "id": "8c5b3fc5",
   "metadata": {},
   "outputs": [],
   "source": [
    "# Me permite conocer la longitud de un elemento, por ejemplo, las listas.\n",
    "lista = [1,2,3,4,5]\n",
    "print(lista)\n",
    "print(type(lista))\n",
    "print(len(lista))"
   ]
  },
  {
   "cell_type": "markdown",
   "id": "de331c43",
   "metadata": {},
   "source": [
    "***Métodos de LISTA.***"
   ]
  },
  {
   "cell_type": "code",
   "execution_count": null,
   "id": "5cf67970",
   "metadata": {},
   "outputs": [],
   "source": [
    "# Método APPEND\n",
    "# Agrega un elemento al final de la lista.\n",
    "nombres = ['Juan','Pedro','Guillermo']\n",
    "print(nombres)\n",
    "nombres.append(24)\n",
    "print(nombres)"
   ]
  },
  {
   "cell_type": "code",
   "execution_count": null,
   "id": "5c6f5938",
   "metadata": {},
   "outputs": [],
   "source": [
    "# Método COUNT\n",
    "# Devuelve el número de ocurrencias de un elemento dentro de la lista.\n",
    "letras = ['a','b','c','a']\n",
    "print(letras.count('a'))"
   ]
  },
  {
   "cell_type": "code",
   "execution_count": null,
   "id": "de1423dc",
   "metadata": {},
   "outputs": [],
   "source": [
    "# Método INDEX\n",
    "# Devuelve el índice de la primer ocurrencia del elemento que le paso como argumento\n",
    "numeros = [1,2,3,4,5,2]\n",
    "print(numeros.index(2))"
   ]
  },
  {
   "cell_type": "code",
   "execution_count": null,
   "id": "cb1e15c4",
   "metadata": {},
   "outputs": [],
   "source": [
    "# Método INSERT\n",
    "lista = [1,2,3,4]\n",
    "print(lista)\n",
    "lista.insert(2,'Hola')\n",
    "print(lista)\n",
    "\n",
    "lista = []\n",
    "print(lista)"
   ]
  },
  {
   "cell_type": "code",
   "execution_count": null,
   "id": "b59a9a1a",
   "metadata": {},
   "outputs": [],
   "source": [
    "# Método POP\n",
    "lista = [1,2,3,4,5,6]\n",
    "print(lista)\n",
    "a = lista.pop()\n",
    "print(lista)\n",
    "print(a)"
   ]
  },
  {
   "cell_type": "code",
   "execution_count": null,
   "id": "dfae186c",
   "metadata": {},
   "outputs": [],
   "source": [
    "# Método REMOVE\n",
    "numeros = [1,2,3,4,5,2,2]\n",
    "print(numeros)\n",
    "numeros.remove(2)\n",
    "print(numeros)"
   ]
  },
  {
   "cell_type": "code",
   "execution_count": null,
   "id": "0ae179b1",
   "metadata": {},
   "outputs": [],
   "source": [
    "# Método REVERSE\n",
    "# Invierte el orden de los elementos\n",
    "letras = ['a','b','d','c']\n",
    "print(letras)\n",
    "letras.reverse()\n",
    "print(letras)"
   ]
  },
  {
   "cell_type": "code",
   "execution_count": null,
   "id": "7e4489fe",
   "metadata": {},
   "outputs": [],
   "source": [
    "# Método SORT\n",
    "# Ordena los elementos de una lista\n",
    "\n",
    "# Orden, de menor a mayor\n",
    "numeros = [2,6,34,0,23,5]\n",
    "print(numeros)\n",
    "numeros.sort()\n",
    "print(numeros)\n",
    "\n",
    "# Orden de mayor a menor\n",
    "numeros.sort(reverse=True)\n",
    "print(numeros)"
   ]
  },
  {
   "cell_type": "code",
   "execution_count": null,
   "id": "f21e5e6a",
   "metadata": {},
   "outputs": [],
   "source": [
    "# Puedo ordenar texto\n",
    "numeros = ['f','x','a']\n",
    "print(numeros)\n",
    "numeros.sort()\n",
    "print(numeros)"
   ]
  },
  {
   "cell_type": "markdown",
   "id": "85720180",
   "metadata": {},
   "source": [
    "### Operador de pertenencia"
   ]
  },
  {
   "cell_type": "code",
   "execution_count": null,
   "id": "b233a235",
   "metadata": {},
   "outputs": [],
   "source": [
    "# Determinan si un elemento pertenece a una determinada colección\n",
    "a = 12\n",
    "lista = [1,2,3,4,5]\n",
    "print(a in lista)\n",
    "print(a not in lista)"
   ]
  },
  {
   "cell_type": "markdown",
   "id": "a750ac44",
   "metadata": {},
   "source": [
    "## Estructuras."
   ]
  },
  {
   "cell_type": "markdown",
   "id": "6df75f85",
   "metadata": {},
   "source": [
    "***Condicional IF***"
   ]
  },
  {
   "cell_type": "code",
   "execution_count": null,
   "id": "212fad59",
   "metadata": {},
   "outputs": [],
   "source": [
    "# Pedimos el ingreso de un número y verificamos si es par o impar.\n",
    "numero = int(input('Ingrese un número: '))\n",
    "resto = numero%2\n",
    "\n",
    "if resto == 0:\n",
    "    print('El número es PAR')\n",
    "else:\n",
    "    print('El número es IMPAR')\n",
    "\n",
    "print('Acá se termino todo')"
   ]
  },
  {
   "cell_type": "code",
   "execution_count": null,
   "id": "48c1d31f",
   "metadata": {},
   "outputs": [],
   "source": [
    "# Otro ejemplo de IF\n",
    "a = -2\n",
    "if a<0:\n",
    "    print('El número es menor que cero')\n",
    "elif a>=0 and a<=10:\n",
    "    print('El número está entre 0 y 10 inclusive')\n",
    "else:\n",
    "    print('El número es mayor que 10')   "
   ]
  },
  {
   "cell_type": "markdown",
   "id": "a394da6d",
   "metadata": {},
   "source": [
    "## Ejercicios propuestos"
   ]
  },
  {
   "cell_type": "markdown",
   "id": "6306f308",
   "metadata": {},
   "source": [
    "***Ejercicio 1.***\n",
    "Pedir el ingreso por teclado de 3 valores numéricos entre 1 y 10 correspondientes a las notas de un alumno.\n",
    "En base al promedio final de las tres notas, mostrar un mensaje por pantalla que indique si el alumno promociona la materia (nota final 7,8,9 o 10), debe rendir final (nota final 4,5 o 6) o recursa (nota 1,2,3).\n"
   ]
  },
  {
   "cell_type": "code",
   "execution_count": null,
   "id": "87ca1385",
   "metadata": {},
   "outputs": [],
   "source": [
    "# Código del ejercicio 1"
   ]
  },
  {
   "cell_type": "markdown",
   "id": "219156db",
   "metadata": {},
   "source": [
    "***Ejercicio 2.***\n",
    "Solicitar por teclado la cantidad de partidos ganados, empatados y perdidos de un determinado club de fútbol. Calcular y mostrar el puntaje final sabiendo que cada partido ganado le otorga 3 puntos, cada partido empatado 1 punto y ningún punto por cada partido perdido. \n"
   ]
  },
  {
   "cell_type": "code",
   "execution_count": null,
   "id": "80f12e4a",
   "metadata": {},
   "outputs": [],
   "source": [
    "# Código del ejercicio 2"
   ]
  },
  {
   "cell_type": "markdown",
   "id": "abf4912f",
   "metadata": {},
   "source": [
    "***Ejercicio 3.***\n",
    "Solicitar por teclado el ingreso de un número entero.\n",
    "Asignar dicho número a una variable, transformarla a coma flotante y mostrarla por pantalla (valor y tipo de variable).\n"
   ]
  },
  {
   "cell_type": "code",
   "execution_count": null,
   "id": "d06405e7",
   "metadata": {},
   "outputs": [],
   "source": [
    "# Código del ejercicio 3"
   ]
  },
  {
   "cell_type": "markdown",
   "id": "f9c57325",
   "metadata": {},
   "source": [
    "***Ejercicio 4.***\n",
    "Desarrollar un programa que solicite al usuario los lados de un rectángulo y calcule su perímetro y su superficie.\n",
    "Informar ambos resultados por pantalla.\n"
   ]
  },
  {
   "cell_type": "code",
   "execution_count": null,
   "id": "e1f8dffe",
   "metadata": {},
   "outputs": [],
   "source": [
    "# Código del ejercicio 4"
   ]
  },
  {
   "cell_type": "markdown",
   "id": "8bd7fed4",
   "metadata": {},
   "source": [
    "***Ejercicio 5.***\n",
    "Pedir al usuario que ingrese por teclado dos números reales y utilizarlos para realizar todas las operaciones aritméticas vistas (suma, resta, multiplicación, división, potencia, división entera y resto).\n",
    "Mostar todos los resultados por pantalla (un resultado por línea) con su respectiva leyenda aclarando de que operación se trata.\n"
   ]
  },
  {
   "cell_type": "code",
   "execution_count": null,
   "id": "c95736ce",
   "metadata": {},
   "outputs": [],
   "source": [
    "# Código del ejercicio 5"
   ]
  },
  {
   "cell_type": "markdown",
   "id": "35c6a20f",
   "metadata": {},
   "source": [
    "***Ejercicio 6.***\n",
    "Si creamos tres listas. La primera contiene 4 números, la segunda contiene 5 letras y en la tercera le cargamos como elementos las dos listas anteriores.\n",
    "¿Cuántos elementos contendrá la tercera lista? Demostrar mediante un breve código.\n"
   ]
  },
  {
   "cell_type": "code",
   "execution_count": null,
   "id": "b75ffc37",
   "metadata": {},
   "outputs": [],
   "source": [
    "# Código del ejercicio 6"
   ]
  },
  {
   "cell_type": "markdown",
   "id": "1ecc6280",
   "metadata": {},
   "source": [
    "***Ejercicio 7.***\n",
    "Escribir un programa que pida ingresar un número entero mayor que cero por teclado.\n",
    "Verificar si el número ingresado es múltiplo de 2, 3, 4, 5, 6, 7,8 o 9.\n",
    "Armar una lista con los números encontrados (por ejemplo, si el número ingresado es múltiplo de 3,6 y 7, armamos una lista que contenga estos tres números).\n",
    "Mostrar la lista por pantalla, ordenada de mayor a menor.\n",
    "En caso de que el número ingresado no sea múltiplo de estos números, mostrar por pantalla el mensaje “No se encontraron divisores exactos”.\n"
   ]
  },
  {
   "cell_type": "code",
   "execution_count": null,
   "id": "bb4ceda2",
   "metadata": {},
   "outputs": [],
   "source": [
    "# Código del ejercicio 7"
   ]
  },
  {
   "cell_type": "markdown",
   "id": "d163784f",
   "metadata": {},
   "source": [
    "***Ejercicio 8.***\n",
    "Pedirle al usuario que ingrese dos números enteros por teclado y contar cuantos números pares hay entre ambos valores ingresados.\n"
   ]
  },
  {
   "cell_type": "code",
   "execution_count": null,
   "id": "6236b2c0",
   "metadata": {},
   "outputs": [],
   "source": [
    "# Código del ejercicio 8"
   ]
  },
  {
   "cell_type": "markdown",
   "id": "c793336b",
   "metadata": {},
   "source": [
    "***Ejercicio 9.***\n",
    "Escribir un programa que permita al usuario ingresar por teclado tantos números enteros como desee. Cuando no quiera ingresar más números, deberá ingresar el cero.\n",
    "A continuación, determinar cuál de los números ingresados es el mayor y cuál es el menor. Mostrar ambos por pantalla.\n"
   ]
  },
  {
   "cell_type": "code",
   "execution_count": null,
   "id": "9029fbcb",
   "metadata": {},
   "outputs": [],
   "source": [
    "# Código del ejercicio 9"
   ]
  },
  {
   "cell_type": "code",
   "execution_count": null,
   "id": "132a5d72",
   "metadata": {},
   "outputs": [],
   "source": [
    "valor = input(\"ingrese un valor entre 1 y 3\")\n",
    "lista = ['1','2','3']\n",
    "print(valor in lista)\n"
   ]
  },
  {
   "cell_type": "markdown",
   "id": "5825133a",
   "metadata": {},
   "source": [
    "### Estructuras (parte 2)"
   ]
  },
  {
   "cell_type": "markdown",
   "id": "417e9984",
   "metadata": {},
   "source": [
    "***Estructura While***"
   ]
  },
  {
   "cell_type": "code",
   "execution_count": null,
   "id": "d4fda10e",
   "metadata": {},
   "outputs": [],
   "source": [
    "# Estructura While por contador.\n",
    "control = 1\n",
    "\n",
    "while control <= 5:\n",
    "    print(\"Valor de la variable de control: {}\".format(control))\n",
    "    control = control + 1\n",
    "    \n",
    "print(\"Fin del ciclo While, valor final de la variable: {}\".format(control))"
   ]
  },
  {
   "cell_type": "code",
   "execution_count": null,
   "id": "0bebf36b",
   "metadata": {},
   "outputs": [],
   "source": [
    "# Ejemplo de While simulando un DO WHILE\n",
    "contador = 0\n",
    "\n",
    "while True:\n",
    "    contador = contador + 1\n",
    "    print(\"Valor del contador: {}\".format(contador))\n",
    "    if contador == 4:\n",
    "        break\n",
    "        \n",
    "print(\"Fin del ciclo, valor final de la variable de control: {}\".format(contador))"
   ]
  },
  {
   "cell_type": "code",
   "execution_count": null,
   "id": "cf0dbfba",
   "metadata": {},
   "outputs": [],
   "source": [
    "# Ejercicio de ejemplo.\n",
    "notas = []\n",
    "nota = 0\n",
    "\n",
    "while nota != -1:\n",
    "    nota = int(input(\"Ingrese notas del 1 al 10 o -1 para finalizar.\"))\n",
    "    if nota == -1:\n",
    "        break\n",
    "    notas.append(nota)\n",
    "    \n",
    "print(\"Notas ingresadas: \",notas)\n",
    "print(\"Suma de las notas: \",sum(notas))\n",
    "print(\"Promedio de las notas: \",sum(notas)/len(notas))\n",
    "\n",
    "# Arreglar el problema de la división sobre cero."
   ]
  },
  {
   "cell_type": "markdown",
   "id": "5e908338",
   "metadata": {},
   "source": [
    "***Estructura FOR***"
   ]
  },
  {
   "cell_type": "code",
   "execution_count": null,
   "id": "d80c835e",
   "metadata": {},
   "outputs": [],
   "source": [
    "# Ejemplo de FOR\n",
    "lista = [1,2,3,4,'Hola',6]\n",
    "for valor in lista:\n",
    "    print(\"Valor cargado dentro del Iterador: {}\".format(valor))\n"
   ]
  },
  {
   "cell_type": "code",
   "execution_count": null,
   "id": "caca8f65",
   "metadata": {},
   "outputs": [],
   "source": [
    "# Función RANGE\n",
    "for mes in range(4,13):\n",
    "    print(\"Valor de mes obtenido; {}\".format(mes))"
   ]
  },
  {
   "cell_type": "code",
   "execution_count": null,
   "id": "97e68fff",
   "metadata": {},
   "outputs": [],
   "source": [
    "# Función RANGE con incremento / decremento\n",
    "for numero in range(1,6,2):\n",
    "    print(\"Valor del iterador: {}\".format(numero))"
   ]
  },
  {
   "cell_type": "code",
   "execution_count": null,
   "id": "8100a1a1",
   "metadata": {},
   "outputs": [],
   "source": [
    "# FOR con range y decremento\n",
    "for x in range(5,0,-1):\n",
    "    print(x)"
   ]
  },
  {
   "cell_type": "markdown",
   "id": "a3dc351f",
   "metadata": {},
   "source": [
    "***Cadenas de caracteres***"
   ]
  },
  {
   "cell_type": "code",
   "execution_count": null,
   "id": "5ea3f1cc",
   "metadata": {},
   "outputs": [],
   "source": [
    "# Caracter de escape\n",
    "print(\"Uso del caracter \\\"de\\\" escape.\")"
   ]
  },
  {
   "cell_type": "code",
   "execution_count": null,
   "id": "8c113f3e",
   "metadata": {},
   "outputs": [],
   "source": [
    "print(\"Taller\"+\" - \"+\"Integrador\")\n",
    "print(2 * \"Vamos Chaca\")\n",
    "print('Hola ' 'Mundo')"
   ]
  },
  {
   "cell_type": "code",
   "execution_count": null,
   "id": "c6bb9bf6",
   "metadata": {},
   "outputs": [],
   "source": [
    "# Lass cadenas están indexadas\n",
    "texto = \"Me gusta cursar los Martes\"\n",
    "print(texto[-1])"
   ]
  },
  {
   "cell_type": "code",
   "execution_count": null,
   "id": "7980a32c",
   "metadata": {},
   "outputs": [],
   "source": [
    "# Podemos convertir a lista el texto para usar sus métodos.\n",
    "a = \"Hola mundo\"\n",
    "print(type(a))\n",
    "a = list(a)\n",
    "print(type(a))\n",
    "print(a)\n",
    "a.append(12)\n",
    "print(a)"
   ]
  },
  {
   "cell_type": "markdown",
   "id": "517bcaff",
   "metadata": {},
   "source": [
    "***Sub cadenas***"
   ]
  },
  {
   "cell_type": "code",
   "execution_count": null,
   "id": "d46bfa3e",
   "metadata": {},
   "outputs": [],
   "source": [
    "# Ejemplo 1\n",
    "cadena = \"Taller integrador\"\n",
    "sub_cadena = cadena[1:6]\n",
    "print(sub_cadena)"
   ]
  },
  {
   "cell_type": "code",
   "execution_count": null,
   "id": "a505865c",
   "metadata": {},
   "outputs": [],
   "source": [
    "# Podemos ignorar alguno de los extremos\n",
    "cadena = \"Python\"\n",
    "print(cadena[:4])\n",
    "print(cadena[2:])\n",
    "print(cadena[:])"
   ]
  },
  {
   "cell_type": "code",
   "execution_count": null,
   "id": "3a316c6f",
   "metadata": {},
   "outputs": [],
   "source": [
    "# Las cadenas de texto son Inmutables\n",
    "texto = 'Hola'\n",
    "texto[0]='L'"
   ]
  },
  {
   "cell_type": "code",
   "execution_count": null,
   "id": "057ea57e",
   "metadata": {},
   "outputs": [],
   "source": [
    "# Las listas son Mutables\n",
    "lista = [1,2,3]\n",
    "lista[0] = 'a'\n",
    "print(lista)"
   ]
  },
  {
   "cell_type": "markdown",
   "id": "90bd659f",
   "metadata": {},
   "source": [
    "### Listas (continuación)"
   ]
  },
  {
   "cell_type": "code",
   "execution_count": null,
   "id": "10d8c6b5",
   "metadata": {},
   "outputs": [],
   "source": [
    "# Las listas se pueden rebanar creando sub listas\n",
    "lista = ['1','2','3','4','5','6']\n",
    "sub1 = lista[0:3]\n",
    "print(lista)\n",
    "print(sub1)\n",
    "\n",
    "# Probar la sintaxis aprendida con cadenas de texto"
   ]
  },
  {
   "cell_type": "markdown",
   "id": "b0a4245e",
   "metadata": {},
   "source": [
    "***Creamos una lista usando RANGE***"
   ]
  },
  {
   "cell_type": "code",
   "execution_count": null,
   "id": "249691b0",
   "metadata": {},
   "outputs": [],
   "source": [
    "# Si a Range le pasamos un solo argumento, lo toma com valor \"Hasta\"\n",
    "numeros = list(range(11))\n",
    "print(numeros)"
   ]
  },
  {
   "cell_type": "code",
   "execution_count": null,
   "id": "36b3fd9e",
   "metadata": {},
   "outputs": [],
   "source": [
    "lista = list(range(1,11,2))\n",
    "print(lista)"
   ]
  },
  {
   "cell_type": "markdown",
   "id": "f1fe0891",
   "metadata": {},
   "source": [
    "***Estructruras vacías***"
   ]
  },
  {
   "cell_type": "code",
   "execution_count": null,
   "id": "929f3953",
   "metadata": {},
   "outputs": [],
   "source": [
    "while True:\n",
    "    pass"
   ]
  },
  {
   "cell_type": "markdown",
   "id": "54519386",
   "metadata": {},
   "source": [
    "### Funciones "
   ]
  },
  {
   "cell_type": "code",
   "execution_count": 1,
   "id": "eabf977e",
   "metadata": {},
   "outputs": [
    {
     "name": "stdout",
     "output_type": "stream",
     "text": [
      "El valor 4 elevado al cuadrado es: 16\n"
     ]
    }
   ],
   "source": [
    "# Para definir una función utilizamos la palabra reservada DEF\n",
    "def cuadrado(valor):\n",
    "    resultado = valor**2\n",
    "    print(\"El valor {} elevado al cuadrado es: {}\".format(valor,resultado))\n",
    "    \n",
    "cuadrado(4)"
   ]
  },
  {
   "cell_type": "markdown",
   "id": "fda12906",
   "metadata": {},
   "source": [
    "***Ejercico propuesto***\n",
    "<br>\n",
    "Armar un programa que pida números a un usuario, cada uno lo eleve al cubo y muestre el resultado, hasta que el usuairo ingrese el valor 0."
   ]
  },
  {
   "cell_type": "code",
   "execution_count": 2,
   "id": "7b529490",
   "metadata": {},
   "outputs": [
    {
     "name": "stdout",
     "output_type": "stream",
     "text": [
      "<class 'function'>\n"
     ]
    }
   ],
   "source": [
    "# Las funciones tienen su propia clase\n",
    "print(type(cuadrado))"
   ]
  },
  {
   "cell_type": "code",
   "execution_count": 3,
   "id": "228b94cb",
   "metadata": {},
   "outputs": [
    {
     "name": "stdout",
     "output_type": "stream",
     "text": [
      "<class 'int'>\n",
      "<class 'function'>\n"
     ]
    }
   ],
   "source": [
    "# \n",
    "a = 4\n",
    "print(type(a))\n",
    "\n",
    "a = cuadrado\n",
    "print(type(a))"
   ]
  },
  {
   "cell_type": "code",
   "execution_count": 4,
   "id": "bbb5fb0d",
   "metadata": {},
   "outputs": [
    {
     "name": "stdout",
     "output_type": "stream",
     "text": [
      "El valor 3 elevado al cuadrado es: 9\n"
     ]
    }
   ],
   "source": [
    "a(3)"
   ]
  },
  {
   "cell_type": "markdown",
   "id": "a92b7535",
   "metadata": {},
   "source": [
    "***Retorno de valores.***"
   ]
  },
  {
   "cell_type": "code",
   "execution_count": 5,
   "id": "b7f2416c",
   "metadata": {},
   "outputs": [
    {
     "name": "stdout",
     "output_type": "stream",
     "text": [
      "El resultado de elevar 5 al cuadrado es: 25\n"
     ]
    }
   ],
   "source": [
    "def cuadrado(valor):\n",
    "    resultado = valor**2\n",
    "    return(resultado)\n",
    "\n",
    "valor = cuadrado(5)\n",
    "print(\"El resultado de elevar 5 al cuadrado es: {}\".format(valor))"
   ]
  },
  {
   "cell_type": "markdown",
   "id": "4c3c75b5",
   "metadata": {},
   "source": [
    "***Pasaje de argumentos por posición.***"
   ]
  },
  {
   "cell_type": "code",
   "execution_count": 7,
   "id": "8e71d4f0",
   "metadata": {},
   "outputs": [
    {
     "name": "stdout",
     "output_type": "stream",
     "text": [
      "Resultado de la resta: -7\n"
     ]
    }
   ],
   "source": [
    "def resta(x,y):\n",
    "    res = x - y\n",
    "    print(\"Resultado de la resta: {}\".format(res))\n",
    "    \n",
    "resta(3,10)"
   ]
  },
  {
   "cell_type": "markdown",
   "id": "a39127e2",
   "metadata": {},
   "source": [
    "***Pasaje de argumentos por nombre.***"
   ]
  },
  {
   "cell_type": "code",
   "execution_count": 8,
   "id": "9ed185af",
   "metadata": {},
   "outputs": [
    {
     "name": "stdout",
     "output_type": "stream",
     "text": [
      "Resultado de la resta: 7\n"
     ]
    }
   ],
   "source": [
    "resta(y=3,x=10)"
   ]
  },
  {
   "cell_type": "markdown",
   "id": "17d08ebd",
   "metadata": {},
   "source": [
    "***Función invocada sin argumentos*** "
   ]
  },
  {
   "cell_type": "code",
   "execution_count": 14,
   "id": "dbefc5b5",
   "metadata": {},
   "outputs": [
    {
     "name": "stdout",
     "output_type": "stream",
     "text": [
      "Resultado de la resta: 0\n"
     ]
    }
   ],
   "source": [
    "def resta(x=None,y=None):\n",
    "    if x==None or y==None:\n",
    "        print(\"Error, debe ingresar dos valores.\")\n",
    "        return\n",
    "    res = x-y\n",
    "    print(\"Resultado de la resta: {}\".format(res))\n",
    "    \n",
    "resta(4,4)\n",
    "\n",
    "# Corregir el caso (,4)"
   ]
  },
  {
   "cell_type": "markdown",
   "id": "aa905d11",
   "metadata": {},
   "source": [
    "### Números aleatorios"
   ]
  },
  {
   "cell_type": "code",
   "execution_count": 16,
   "id": "9abab269",
   "metadata": {},
   "outputs": [
    {
     "name": "stdout",
     "output_type": "stream",
     "text": [
      "Número al azar entre 0 y 10 6\n"
     ]
    }
   ],
   "source": [
    "import random\n",
    "print(\"Número al azar entre 0 y 10\",random.randrange(11))"
   ]
  },
  {
   "cell_type": "code",
   "execution_count": 18,
   "id": "5a77c088",
   "metadata": {},
   "outputs": [
    {
     "name": "stdout",
     "output_type": "stream",
     "text": [
      "Número al azar entre 20 y 40 20\n"
     ]
    }
   ],
   "source": [
    "print(\"Número al azar entre 20 y 40\",random.randrange(20,41))"
   ]
  },
  {
   "cell_type": "code",
   "execution_count": 21,
   "id": "7ca73eff",
   "metadata": {},
   "outputs": [
    {
     "name": "stdout",
     "output_type": "stream",
     "text": [
      "Número al azar entre 1 y 20, que sea impar. 9\n"
     ]
    }
   ],
   "source": [
    "print(\"Número al azar entre 1 y 20, que sea impar.\",random.randrange(1,21,2))"
   ]
  },
  {
   "cell_type": "code",
   "execution_count": 28,
   "id": "a4bc6768",
   "metadata": {},
   "outputs": [
    {
     "name": "stdout",
     "output_type": "stream",
     "text": [
      "Número al azar entre 1 y 5:  5\n"
     ]
    }
   ],
   "source": [
    "# RANDINT: incluye también el HASTA\n",
    "print(\"Número al azar entre 1 y 5: \",random.randint(1,5))"
   ]
  },
  {
   "cell_type": "code",
   "execution_count": 31,
   "id": "bfcea8b9",
   "metadata": {},
   "outputs": [
    {
     "name": "stdout",
     "output_type": "stream",
     "text": [
      "Próximo campeón:  Chaca\n"
     ]
    }
   ],
   "source": [
    "# Método CHOICE\n",
    "# Devuelce un elemento al azar, de una lista predefinida.\n",
    "lista = [\"River\",\"Boca\",\"Chaca\"]\n",
    "print(\"Próximo campeón: \",random.choice(lista))"
   ]
  },
  {
   "cell_type": "code",
   "execution_count": 32,
   "id": "3984a067",
   "metadata": {},
   "outputs": [
    {
     "name": "stdout",
     "output_type": "stream",
     "text": [
      "[1, 2, 3, 4, 5, 6]\n",
      "[5, 4, 2, 3, 6, 1]\n",
      "[3, 4, 6, 5, 2, 1]\n"
     ]
    }
   ],
   "source": [
    "# Método SHUFFLE\n",
    "# Mezcla al azar los elementos de una lista\n",
    "numeros = [1,2,3,4,5,6]\n",
    "print(numeros)\n",
    "\n",
    "random.shuffle(numeros)\n",
    "print(numeros)\n",
    "\n",
    "random.shuffle(numeros)\n",
    "print(numeros)"
   ]
  },
  {
   "cell_type": "markdown",
   "id": "7a5b025c",
   "metadata": {},
   "source": [
    "### Colecciones"
   ]
  },
  {
   "cell_type": "markdown",
   "id": "b8674a50",
   "metadata": {},
   "source": [
    "***Tuplas.***"
   ]
  },
  {
   "cell_type": "code",
   "execution_count": 3,
   "id": "f3a7187b",
   "metadata": {},
   "outputs": [
    {
     "name": "stdout",
     "output_type": "stream",
     "text": [
      "['a', 'b', 'c']\n",
      "(1, 2, 3, 4)\n",
      "<class 'tuple'>\n"
     ]
    }
   ],
   "source": [
    "tupla1 = (1,2,3,4)\n",
    "lista1 = ['a','b','c']\n",
    "\n",
    "print(lista1)\n",
    "print(tupla1)\n",
    "\n",
    "print(type(tupla1))"
   ]
  },
  {
   "cell_type": "code",
   "execution_count": 6,
   "id": "6282c7c4",
   "metadata": {},
   "outputs": [
    {
     "name": "stdout",
     "output_type": "stream",
     "text": [
      "(2, 3, 4)\n"
     ]
    }
   ],
   "source": [
    "# Las Tuplas están indexadas\n",
    "print(tupla1[1:])"
   ]
  },
  {
   "cell_type": "code",
   "execution_count": 8,
   "id": "ab18ec29",
   "metadata": {},
   "outputs": [
    {
     "name": "stdout",
     "output_type": "stream",
     "text": [
      "2\n",
      "6\n"
     ]
    }
   ],
   "source": [
    "tupla2 = ([1,2,3],[4,5,6])\n",
    "print(len(tupla2))\n",
    "\n",
    "print(tupla2[1][2])"
   ]
  },
  {
   "cell_type": "code",
   "execution_count": 9,
   "id": "cdd01876",
   "metadata": {},
   "outputs": [
    {
     "ename": "TypeError",
     "evalue": "'tuple' object does not support item assignment",
     "output_type": "error",
     "traceback": [
      "\u001b[1;31m---------------------------------------------------------------------------\u001b[0m",
      "\u001b[1;31mTypeError\u001b[0m                                 Traceback (most recent call last)",
      "\u001b[1;32m~\\AppData\\Local\\Temp\\ipykernel_33820\\2833153737.py\u001b[0m in \u001b[0;36m<module>\u001b[1;34m\u001b[0m\n\u001b[0;32m      1\u001b[0m \u001b[1;31m# Las Tuplas son Inmutables\u001b[0m\u001b[1;33m\u001b[0m\u001b[1;33m\u001b[0m\u001b[0m\n\u001b[1;32m----> 2\u001b[1;33m \u001b[0mtupla1\u001b[0m\u001b[1;33m[\u001b[0m\u001b[1;36m0\u001b[0m\u001b[1;33m]\u001b[0m\u001b[1;33m=\u001b[0m\u001b[1;34m'a'\u001b[0m\u001b[1;33m\u001b[0m\u001b[1;33m\u001b[0m\u001b[0m\n\u001b[0m",
      "\u001b[1;31mTypeError\u001b[0m: 'tuple' object does not support item assignment"
     ]
    }
   ],
   "source": [
    "# Las Tuplas son Inmutables\n",
    "tupla1[0]='a'"
   ]
  },
  {
   "cell_type": "markdown",
   "id": "5c29568a",
   "metadata": {},
   "source": [
    "***Método INDEX***"
   ]
  },
  {
   "cell_type": "code",
   "execution_count": 12,
   "id": "5ade6acd",
   "metadata": {},
   "outputs": [
    {
     "name": "stdout",
     "output_type": "stream",
     "text": [
      "4\n"
     ]
    }
   ],
   "source": [
    "tupla3 = (1,2,3,4,5)\n",
    "print(tupla3.index(5))"
   ]
  },
  {
   "cell_type": "markdown",
   "id": "f16e688f",
   "metadata": {},
   "source": [
    "***Método COUNT***"
   ]
  },
  {
   "cell_type": "code",
   "execution_count": 14,
   "id": "5297c02b",
   "metadata": {},
   "outputs": [
    {
     "name": "stdout",
     "output_type": "stream",
     "text": [
      "0\n"
     ]
    }
   ],
   "source": [
    "tupla4 = (1,2,3,4,6,6,6,8,9,10,'a')\n",
    "print(tupla4.count(88))"
   ]
  },
  {
   "cell_type": "markdown",
   "id": "a3783de6",
   "metadata": {},
   "source": [
    "***Conjuntos.***"
   ]
  },
  {
   "cell_type": "code",
   "execution_count": 15,
   "id": "89f3dbb7",
   "metadata": {},
   "outputs": [
    {
     "name": "stdout",
     "output_type": "stream",
     "text": [
      "set()\n",
      "<class 'set'>\n"
     ]
    }
   ],
   "source": [
    "# Declaración\n",
    "conjunto1 = set()\n",
    "print(conjunto1)\n",
    "print(type(conjunto1))"
   ]
  },
  {
   "cell_type": "code",
   "execution_count": 16,
   "id": "78a3675c",
   "metadata": {},
   "outputs": [
    {
     "name": "stdout",
     "output_type": "stream",
     "text": [
      "{1, 2, 3, 4}\n"
     ]
    }
   ],
   "source": [
    "# Declaración\n",
    "conjunto2 = {1,2,3,4}\n",
    "print(conjunto2)"
   ]
  },
  {
   "cell_type": "code",
   "execution_count": 17,
   "id": "5ea6064a",
   "metadata": {},
   "outputs": [
    {
     "name": "stdout",
     "output_type": "stream",
     "text": [
      "{1, 2, 3, 4, 'Hola'}\n",
      "<class 'set'>\n"
     ]
    }
   ],
   "source": [
    "# Método ADD\n",
    "conjunto2.add('Hola')\n",
    "print(conjunto2)\n",
    "print(type(conjunto2))"
   ]
  },
  {
   "cell_type": "code",
   "execution_count": 24,
   "id": "2792e12f",
   "metadata": {},
   "outputs": [],
   "source": [
    "# Probamos de agregar elementos repetidos\n",
    "conjunto2.add(4)"
   ]
  },
  {
   "cell_type": "code",
   "execution_count": 25,
   "id": "04f40bc3",
   "metadata": {},
   "outputs": [
    {
     "name": "stdout",
     "output_type": "stream",
     "text": [
      "{1, 2, 3, 4, 'Hola'}\n"
     ]
    }
   ],
   "source": [
    "print(conjunto2)"
   ]
  },
  {
   "cell_type": "code",
   "execution_count": 28,
   "id": "c78a53bd",
   "metadata": {},
   "outputs": [
    {
     "name": "stdout",
     "output_type": "stream",
     "text": [
      "{1, 2, 3, 4}\n",
      "{0, 1, 2, 3, 4}\n",
      "{0, 1, 2, 3, 4, 'M', 'Z', 'A'}\n"
     ]
    }
   ],
   "source": [
    "# Los conjuntos son listas de elementos desordenadas y sin elementos repetidos\n",
    "conjunto3 = {1,2,3}\n",
    "conjunto3.add(4)\n",
    "print(conjunto3)\n",
    "conjunto3.add(0)\n",
    "print(conjunto3)\n",
    "conjunto3.add('M')\n",
    "conjunto3.add('Z')\n",
    "conjunto3.add('A')\n",
    "print(conjunto3)"
   ]
  },
  {
   "cell_type": "markdown",
   "id": "62fa09e4",
   "metadata": {},
   "source": [
    "***Pertenencia***"
   ]
  },
  {
   "cell_type": "code",
   "execution_count": 30,
   "id": "bacc4c46",
   "metadata": {},
   "outputs": [
    {
     "name": "stdout",
     "output_type": "stream",
     "text": [
      "True\n"
     ]
    }
   ],
   "source": [
    "conjunto4 = {'hola','chau'}\n",
    "print('buenas tardes' not in conjunto4)"
   ]
  },
  {
   "cell_type": "markdown",
   "id": "083585b1",
   "metadata": {},
   "source": [
    "***Duplicados***"
   ]
  },
  {
   "cell_type": "code",
   "execution_count": 31,
   "id": "0635f3fe",
   "metadata": {},
   "outputs": [
    {
     "name": "stdout",
     "output_type": "stream",
     "text": [
      "{1, 2, 3, 4}\n",
      "4\n"
     ]
    }
   ],
   "source": [
    "conjunto5 = {1,2,3,4,4,4,4}\n",
    "print(conjunto5)\n",
    "print(len(conjunto5))"
   ]
  },
  {
   "cell_type": "code",
   "execution_count": 34,
   "id": "27af3b07",
   "metadata": {},
   "outputs": [
    {
     "name": "stdout",
     "output_type": "stream",
     "text": [
      "[2, 2, 2, 3, 4, 5, 6, 6, 6, 6, 8, 8, 1, 1, 1, 1, 5, 5, 5, 7]\n",
      "{1, 2, 3, 4, 5, 6, 7, 8}\n",
      "[1, 2, 3, 4, 5, 6, 7, 8]\n"
     ]
    }
   ],
   "source": [
    "# Pasando de lista a conjunto\n",
    "lista = [2,2,2,3,4,5,6,6,6,6,8,8,1,1,1,1,5,5,5,7]\n",
    "print(lista)\n",
    "\n",
    "# Creo un conjunto a partir de la lista\n",
    "conjunto6 = set(lista)\n",
    "print(conjunto6)\n",
    "\n",
    "# Reutilizamos la lista\n",
    "lista = list(conjunto6)\n",
    "print(lista)"
   ]
  },
  {
   "cell_type": "markdown",
   "id": "66c592a6",
   "metadata": {},
   "source": [
    "***Diccionarios***"
   ]
  },
  {
   "cell_type": "code",
   "execution_count": 35,
   "id": "3a52167d",
   "metadata": {},
   "outputs": [
    {
     "name": "stdout",
     "output_type": "stream",
     "text": [
      "<class 'dict'>\n"
     ]
    }
   ],
   "source": [
    "diccionario1 = {}\n",
    "print(type(diccionario1))"
   ]
  },
  {
   "cell_type": "code",
   "execution_count": 37,
   "id": "bba0edba",
   "metadata": {},
   "outputs": [
    {
     "name": "stdout",
     "output_type": "stream",
     "text": [
      "Two\n"
     ]
    }
   ],
   "source": [
    "diccionario2 = {'Uno':'One','Dos':'Two','Tres':'Three'}\n",
    "print(diccionario2['Dos'])"
   ]
  },
  {
   "cell_type": "code",
   "execution_count": 39,
   "id": "8c15e927",
   "metadata": {},
   "outputs": [
    {
     "name": "stdout",
     "output_type": "stream",
     "text": [
      "Three\n"
     ]
    }
   ],
   "source": [
    "diccionario3 = {1:'One',2:'Two',3:'Three'}\n",
    "print(diccionario3[3])"
   ]
  },
  {
   "cell_type": "code",
   "execution_count": 40,
   "id": "75917399",
   "metadata": {},
   "outputs": [
    {
     "name": "stdout",
     "output_type": "stream",
     "text": [
      "{1: 'One', 2: 'Two', 3: 'Hola mundo'}\n"
     ]
    }
   ],
   "source": [
    "diccionario3[3]='Hola mundo'\n",
    "print(diccionario3)"
   ]
  },
  {
   "cell_type": "code",
   "execution_count": 41,
   "id": "cd3666c2",
   "metadata": {},
   "outputs": [
    {
     "name": "stdout",
     "output_type": "stream",
     "text": [
      "{1: 'One', 2: 'Two'}\n"
     ]
    }
   ],
   "source": [
    "# Eliminamos un elemento\n",
    "del(diccionario3[3])\n",
    "print(diccionario3)"
   ]
  },
  {
   "cell_type": "code",
   "execution_count": 44,
   "id": "45d35a56",
   "metadata": {},
   "outputs": [
    {
     "name": "stdout",
     "output_type": "stream",
     "text": [
      "Uno One\n",
      "Dos Two\n",
      "Tres Three\n"
     ]
    }
   ],
   "source": [
    "# Recorro el diccionario\n",
    "for x in diccionario2:\n",
    "    print(x,diccionario2[x])"
   ]
  },
  {
   "cell_type": "code",
   "execution_count": 45,
   "id": "ac665bbc",
   "metadata": {},
   "outputs": [
    {
     "name": "stdout",
     "output_type": "stream",
     "text": [
      "Uno One\n",
      "Dos Two\n",
      "Tres Three\n"
     ]
    }
   ],
   "source": [
    "# items\n",
    "for x,y in diccionario2.items():\n",
    "    print(x,y)"
   ]
  },
  {
   "cell_type": "code",
   "execution_count": 46,
   "id": "2f12e7e5",
   "metadata": {},
   "outputs": [
    {
     "name": "stdout",
     "output_type": "stream",
     "text": [
      "dict_keys(['Uno', 'Dos', 'Tres'])\n"
     ]
    }
   ],
   "source": [
    "# keys\n",
    "print(diccionario2.keys())"
   ]
  },
  {
   "cell_type": "code",
   "execution_count": 47,
   "id": "6ad5a0a7",
   "metadata": {},
   "outputs": [
    {
     "name": "stdout",
     "output_type": "stream",
     "text": [
      "dict_values(['One', 'Two', 'Three'])\n"
     ]
    }
   ],
   "source": [
    "# values\n",
    "print(diccionario2.values())"
   ]
  },
  {
   "cell_type": "code",
   "execution_count": 49,
   "id": "2b70d471",
   "metadata": {},
   "outputs": [
    {
     "name": "stdout",
     "output_type": "stream",
     "text": [
      "{1: 'One', 2: 'Two'}\n",
      "{}\n"
     ]
    }
   ],
   "source": [
    "# clear\n",
    "print(diccionario3)\n",
    "diccionario3.clear()\n",
    "print(diccionario3)"
   ]
  },
  {
   "cell_type": "code",
   "execution_count": 50,
   "id": "dfb34245",
   "metadata": {},
   "outputs": [
    {
     "name": "stdout",
     "output_type": "stream",
     "text": [
      "True\n"
     ]
    }
   ],
   "source": [
    "# IN y NOT IN trabajan sobre la clacve del diccionario\n",
    "print('Uno' in diccionario2)"
   ]
  },
  {
   "cell_type": "markdown",
   "id": "62eb6864",
   "metadata": {},
   "source": [
    "### Funciones (continuación)"
   ]
  },
  {
   "cell_type": "code",
   "execution_count": 51,
   "id": "bd791b16",
   "metadata": {},
   "outputs": [],
   "source": [
    "# Declaración\n",
    "def nombreFuncion():\n",
    "    \"Acá va mi código\""
   ]
  },
  {
   "cell_type": "code",
   "execution_count": 54,
   "id": "f5087a3b",
   "metadata": {},
   "outputs": [
    {
     "name": "stdout",
     "output_type": "stream",
     "text": [
      "[1, 2, 3]\n",
      "['a', 2, 3]\n"
     ]
    }
   ],
   "source": [
    "# Si el tipo de elemento que paso es Mutable, el pasaje es por referencia\n",
    "def usoLista(lista1):\n",
    "    lista1[0]='a'\n",
    "    \n",
    "# Declaro una lista\n",
    "lista = [1,2,3]\n",
    "print(lista)\n",
    "\n",
    "# Paso mi lista a la función\n",
    "usoLista(lista)\n",
    "\n",
    "# Veo como quedó la lista\n",
    "print(lista)"
   ]
  },
  {
   "cell_type": "code",
   "execution_count": 55,
   "id": "a959ff4c",
   "metadata": {},
   "outputs": [
    {
     "name": "stdout",
     "output_type": "stream",
     "text": [
      "23\n",
      "23\n"
     ]
    }
   ],
   "source": [
    "# Si el tipo de elemento que paso es Inmutable, el pasaje es por valor\n",
    "def usoVariable(a):\n",
    "    a = 'Hola'\n",
    "    \n",
    "a = 23\n",
    "print(a)\n",
    "\n",
    "usoVariable(a)\n",
    "print(a)"
   ]
  },
  {
   "cell_type": "markdown",
   "id": "3bb98ba1",
   "metadata": {},
   "source": [
    "***Argumentos de largo variable.***"
   ]
  },
  {
   "cell_type": "code",
   "execution_count": 58,
   "id": "82e64b8c",
   "metadata": {},
   "outputs": [
    {
     "name": "stdout",
     "output_type": "stream",
     "text": [
      "1\n",
      "2\n"
     ]
    }
   ],
   "source": [
    "# Operador *\n",
    "def miFuncion(*valores):\n",
    "    for x in valores:\n",
    "        print(x)\n",
    "        \n",
    "miFuncion(1,2)        "
   ]
  },
  {
   "cell_type": "code",
   "execution_count": 59,
   "id": "5134d110",
   "metadata": {},
   "outputs": [
    {
     "name": "stdout",
     "output_type": "stream",
     "text": [
      "{'a': 3, 'b': 5, 'c': 2}\n"
     ]
    }
   ],
   "source": [
    "# Operador **\n",
    "def miFuncion(**valores):\n",
    "    print(valores)\n",
    "    \n",
    "miFuncion(a=3,b=5,c=2)"
   ]
  },
  {
   "cell_type": "code",
   "execution_count": 60,
   "id": "1fc54007",
   "metadata": {},
   "outputs": [
    {
     "name": "stdout",
     "output_type": "stream",
     "text": [
      "Nombre: Guillermo\n",
      "Apellido; Apellido\n",
      "Edad: 53\n",
      "Pcia: Bs.As\n",
      "\n",
      "Nombre: Pedro\n",
      "Apellido; Gutierrez\n",
      "Edad: 45\n"
     ]
    }
   ],
   "source": [
    "# Podemos combinas diferentes tipos de parámetros\n",
    "def cliente(nombre,apellido,**datos):\n",
    "    print(\"Nombre: {}\".format(nombre))\n",
    "    print(\"Apellido; {}\".format(apellido))\n",
    "    for x in datos:\n",
    "        print(\"{0}: {1}\".format(x,datos[x]))\n",
    "        \n",
    "cliente(\"Guillermo\",\"Apellido\",Edad=53,Pcia=\"Bs.As\")\n",
    "print()\n",
    "cliente(\"Pedro\",\"Gutierrez\",Edad=45)"
   ]
  },
  {
   "cell_type": "markdown",
   "id": "9b699a63",
   "metadata": {},
   "source": [
    "***Desempaquetado de argumentos***"
   ]
  },
  {
   "cell_type": "code",
   "execution_count": 61,
   "id": "a473d8bc",
   "metadata": {},
   "outputs": [
    {
     "name": "stdout",
     "output_type": "stream",
     "text": [
      "1 2 3\n"
     ]
    }
   ],
   "source": [
    "# Pasamos elementos de una lista como valores independientes\n",
    "def miFun(a,b,c):\n",
    "    print(a,b,c)\n",
    "    \n",
    "lista = [1,2,3]\n",
    "miFun(*lista)"
   ]
  },
  {
   "cell_type": "code",
   "execution_count": 62,
   "id": "84e33282",
   "metadata": {},
   "outputs": [
    {
     "name": "stdout",
     "output_type": "stream",
     "text": [
      "1 4 2\n"
     ]
    }
   ],
   "source": [
    "# Ejemplo con **\n",
    "def miFun(a,b,c):\n",
    "    print(a,b,c)\n",
    "    \n",
    "diccionario = {'a':1,'c':2,'b':4}\n",
    "miFun(**diccionario)"
   ]
  },
  {
   "cell_type": "code",
   "execution_count": 63,
   "id": "590ab6c9",
   "metadata": {},
   "outputs": [
    {
     "name": "stdout",
     "output_type": "stream",
     "text": [
      "1 0 2\n"
     ]
    }
   ],
   "source": [
    "# Otro ejemplo con **\n",
    "def miFun(a=0,b=0,c=0):\n",
    "    print(a,b,c)\n",
    "    \n",
    "diccionario = {'a':1,'c':2}\n",
    "miFun(**diccionario)"
   ]
  },
  {
   "cell_type": "markdown",
   "id": "d18c3a04",
   "metadata": {},
   "source": [
    "## Funciones anónimas"
   ]
  },
  {
   "cell_type": "code",
   "execution_count": 64,
   "id": "bf43423f",
   "metadata": {},
   "outputs": [
    {
     "name": "stdout",
     "output_type": "stream",
     "text": [
      "8\n"
     ]
    }
   ],
   "source": [
    "# Doble de un valor numérico con función lambda\n",
    "x = lambda x : print(x*2)\n",
    "x(4)"
   ]
  },
  {
   "cell_type": "code",
   "execution_count": 65,
   "id": "927c44e9",
   "metadata": {},
   "outputs": [
    {
     "name": "stdout",
     "output_type": "stream",
     "text": [
      "10\n"
     ]
    }
   ],
   "source": [
    "# Doble de un valor numérico con función tradicinal\n",
    "def z(a):\n",
    "    a = a*2\n",
    "    return(a)\n",
    "\n",
    "print(z(5))"
   ]
  },
  {
   "cell_type": "markdown",
   "id": "ed9b3831",
   "metadata": {},
   "source": [
    "***Ejemplo de uso.***"
   ]
  },
  {
   "cell_type": "code",
   "execution_count": 69,
   "id": "cd31d651",
   "metadata": {},
   "outputs": [
    {
     "name": "stdout",
     "output_type": "stream",
     "text": [
      "Lista original: [1, 2, 3, 4]\n",
      "Lista mapeada: [3, 6, 9, 12]\n"
     ]
    }
   ],
   "source": [
    "# Uso de MAP\n",
    "lista=[1,2,3,4]\n",
    "print(\"Lista original: {}\".format(lista))\n",
    "print(\"Lista mapeada: {}\".format(list(map(lambda x:x*3,lista))))"
   ]
  },
  {
   "cell_type": "code",
   "execution_count": 70,
   "id": "a4eafff4",
   "metadata": {},
   "outputs": [
    {
     "name": "stdout",
     "output_type": "stream",
     "text": [
      "Lista original: [1, 2, 3, 4, 5, 6]\n",
      "Lista filtrada: [2, 4, 6]\n"
     ]
    }
   ],
   "source": [
    "# Uso de FILTER\n",
    "lista = [1,2,3,4,5,6]\n",
    "print(\"Lista original: {}\".format(lista))\n",
    "print(\"Lista filtrada: {}\".format(list(filter(lambda x:x%2==0,lista))))"
   ]
  },
  {
   "cell_type": "code",
   "execution_count": 71,
   "id": "f5f05b52",
   "metadata": {},
   "outputs": [
    {
     "name": "stdout",
     "output_type": "stream",
     "text": [
      "30\n",
      "30\n"
     ]
    }
   ],
   "source": [
    "#\n",
    "y=5\n",
    "a=lambda x:x+y\n",
    "\n",
    "y=20\n",
    "b=lambda x:x+y\n",
    "\n",
    "print(a(10)) # Suponemos que el resultado es 15\n",
    "print(b(10)) # Suponemos que el resultado es 30"
   ]
  },
  {
   "cell_type": "code",
   "execution_count": 72,
   "id": "bd7da827",
   "metadata": {},
   "outputs": [
    {
     "name": "stdout",
     "output_type": "stream",
     "text": [
      "15\n",
      "30\n"
     ]
    }
   ],
   "source": [
    "#\n",
    "y=5\n",
    "a=lambda x,y=y:x+y\n",
    "\n",
    "y=20\n",
    "b=lambda x,y=y:x+y\n",
    "\n",
    "print(a(10)) # Suponemos que el resultado es 15\n",
    "print(b(10)) # Suponemos que el resultado es 30"
   ]
  },
  {
   "cell_type": "markdown",
   "id": "d980f215",
   "metadata": {},
   "source": [
    "### Programación orientada a objetos."
   ]
  },
  {
   "cell_type": "code",
   "execution_count": 2,
   "id": "f6767768",
   "metadata": {},
   "outputs": [],
   "source": [
    "# Los nombres por convención se escriben con la primer letra de cada palabra en mayúscula\n",
    "class Cliente:\n",
    "    pass\n",
    "\n",
    "class cliente:\n",
    "    pass"
   ]
  },
  {
   "cell_type": "markdown",
   "id": "86b6f2ce",
   "metadata": {},
   "source": [
    "***Atributos***"
   ]
  },
  {
   "cell_type": "code",
   "execution_count": 3,
   "id": "48626083",
   "metadata": {},
   "outputs": [],
   "source": [
    "class Cliente:\n",
    "    nombre=''\n",
    "    apellido=''\n",
    "    domicilio=''"
   ]
  },
  {
   "cell_type": "markdown",
   "id": "f25e8117",
   "metadata": {},
   "source": [
    "***Métodos***"
   ]
  },
  {
   "cell_type": "code",
   "execution_count": 4,
   "id": "644117eb",
   "metadata": {},
   "outputs": [],
   "source": [
    "class Cliente:\n",
    "    nombre=''\n",
    "    apellido=''\n",
    "    domicilio=''\n",
    "    \n",
    "    def saludar(self):\n",
    "        mensaje='Hola, buenas tardes.'\n",
    "        return mensaje"
   ]
  },
  {
   "cell_type": "markdown",
   "id": "fc21594a",
   "metadata": {},
   "source": [
    "***Objetos***"
   ]
  },
  {
   "cell_type": "code",
   "execution_count": 7,
   "id": "0aac2d33",
   "metadata": {},
   "outputs": [],
   "source": [
    "cliente1 = Cliente()\n",
    "cliente2 = Cliente()"
   ]
  },
  {
   "cell_type": "code",
   "execution_count": 9,
   "id": "02983298",
   "metadata": {},
   "outputs": [
    {
     "name": "stdout",
     "output_type": "stream",
     "text": [
      "sin datos\n",
      "Rojo\n",
      "Color del auto2: sin datos\n"
     ]
    }
   ],
   "source": [
    "# Ejemplo de métodos que modifican atributos\n",
    "class Auto():\n",
    "    color='sin datos'\n",
    "    puertas='sin datos'\n",
    "    combustible='sin datos'\n",
    "    \n",
    "    def pintar(self,pintura):\n",
    "        self.color = pintura\n",
    "        \n",
    "# Instanciar la clase\n",
    "auto1 = Auto()\n",
    "auto2 = Auto()\n",
    "\n",
    "# Invocar el método o los atributos de cada objeto\n",
    "print(auto1.color)\n",
    "auto1.pintar('Rojo')\n",
    "print(auto1.color)\n",
    "\n",
    "print(\"Color del auto2: {}\".format(auto2.color))"
   ]
  },
  {
   "cell_type": "code",
   "execution_count": 10,
   "id": "ad206cd8",
   "metadata": {},
   "outputs": [
    {
     "name": "stdout",
     "output_type": "stream",
     "text": [
      "el resultado de la suma es: 9\n"
     ]
    }
   ],
   "source": [
    "# Ejemplo 2\n",
    "class Calculadora():\n",
    "    def sumar(self,a,b):\n",
    "        resultado = a+b\n",
    "        return resultado\n",
    "    \n",
    "calc1 = Calculadora()\n",
    "print(\"el resultado de la suma es: {}\".format(calc1.sumar(4,5)))"
   ]
  },
  {
   "cell_type": "markdown",
   "id": "0243dbf3",
   "metadata": {},
   "source": [
    "***Creación de atributos***"
   ]
  },
  {
   "cell_type": "code",
   "execution_count": 11,
   "id": "59c0346f",
   "metadata": {},
   "outputs": [],
   "source": [
    "# Ejemplo 1\n",
    "class Moto():\n",
    "    pass"
   ]
  },
  {
   "cell_type": "code",
   "execution_count": 12,
   "id": "6121f7bc",
   "metadata": {},
   "outputs": [],
   "source": [
    "# Instancio la clase\n",
    "moto1 = Moto()\n",
    "\n",
    "# Creamos atributos\n",
    "moto1.color = 'Blanco'\n",
    "moto1.ruedas = 2"
   ]
  },
  {
   "cell_type": "code",
   "execution_count": 13,
   "id": "1ef838b5",
   "metadata": {},
   "outputs": [
    {
     "name": "stdout",
     "output_type": "stream",
     "text": [
      "Color de la moto 1: Blanco\n",
      "Cantidad de ruedas de la moto 1: 2\n"
     ]
    }
   ],
   "source": [
    "# Accedo a los atributos recién creados\n",
    "print(\"Color de la moto 1: {}\".format(moto1.color))\n",
    "print(\"Cantidad de ruedas de la moto 1: {}\".format(moto1.ruedas))"
   ]
  },
  {
   "cell_type": "markdown",
   "id": "5fb394be",
   "metadata": {},
   "source": [
    "***Método INIT***"
   ]
  },
  {
   "cell_type": "code",
   "execution_count": 16,
   "id": "5e413ac0",
   "metadata": {},
   "outputs": [
    {
     "name": "stdout",
     "output_type": "stream",
     "text": [
      "Hemos creado una persona\n"
     ]
    }
   ],
   "source": [
    "# Ejemplo de uso de INIT\n",
    "class Persona():\n",
    "    ojos = 2\n",
    "    \n",
    "    def __init__(self):\n",
    "        print(\"Hemos creado una persona\")\n",
    "        self.ojos = 12\n",
    "        \n",
    "# Instanciamos la clase\n",
    "persona1 = Persona()\n"
   ]
  },
  {
   "cell_type": "code",
   "execution_count": 17,
   "id": "6b70450f",
   "metadata": {},
   "outputs": [
    {
     "name": "stdout",
     "output_type": "stream",
     "text": [
      "Cantidad de ojos de la persona 1: 12\n"
     ]
    }
   ],
   "source": [
    "print(\"Cantidad de ojos de la persona 1: {}\".format(persona1.ojos))"
   ]
  },
  {
   "cell_type": "code",
   "execution_count": 18,
   "id": "b8154509",
   "metadata": {},
   "outputs": [
    {
     "name": "stdout",
     "output_type": "stream",
     "text": [
      "Color del auto: Azul\n",
      "Cantidad de puertas: 4\n"
     ]
    }
   ],
   "source": [
    "# Método INIT con parámetros\n",
    "\n",
    "class Auto:\n",
    "    def __init__(self,color,puertas):\n",
    "        self.color = color\n",
    "        self.puertas = puertas\n",
    "        \n",
    "# Instanciamos la clase\n",
    "auto1 = Auto('Azul',4)\n",
    "\n",
    "# Accedo a los atributos\n",
    "print(\"Color del auto: {}\".format(auto1.color))\n",
    "print(\"Cantidad de puertas: {}\".format(auto1.puertas))"
   ]
  },
  {
   "cell_type": "code",
   "execution_count": null,
   "id": "2cb75ed5",
   "metadata": {},
   "outputs": [],
   "source": [
    "# Ejercicio propuesto.\n",
    "# Declarar una clase Cliente, que solicite nombre, apellido por teclado\n",
    "# Luego de instanciada deberá mostrar por pantalla un mensaje notificando que se ha creado el nuevo cliente y muestre los datos\n"
   ]
  },
  {
   "cell_type": "markdown",
   "id": "7b1e4dde",
   "metadata": {},
   "source": [
    "***Método destructor***"
   ]
  },
  {
   "cell_type": "code",
   "execution_count": 20,
   "id": "382c86eb",
   "metadata": {},
   "outputs": [],
   "source": [
    "class Cliente:\n",
    "    def __init__(self):\n",
    "        self.nombre=input(\"Ingrese el nombre: \")\n",
    "        self.apellido=input(\"Ingrese el apellido: \")\n",
    "        print(\"Se creo exitosamente el cliente {1}, {0}\".format(self.nombre,self.apellido))\n",
    "        \n",
    "    def __del__(self):\n",
    "        print(\"Objeto eliminado\")"
   ]
  },
  {
   "cell_type": "code",
   "execution_count": 21,
   "id": "d1979705",
   "metadata": {},
   "outputs": [
    {
     "name": "stdout",
     "output_type": "stream",
     "text": [
      "Ingrese el nombre: Guillermo\n",
      "Ingrese el apellido: Alfaro\n",
      "Se creo exitosamente el cliente Alfaro, Guillermo\n",
      "Apellido del cliente: Alfaro\n",
      "Objeto eliminado\n"
     ]
    }
   ],
   "source": [
    "# Instanciamos la clase\n",
    "cliente1 = Cliente()\n",
    "\n",
    "# Accedo al apellido\n",
    "print(\"Apellido del cliente: {}\".format(cliente1.apellido))\n",
    "\n",
    "# Eliminamos el objeto cliente1\n",
    "del(cliente1)"
   ]
  },
  {
   "cell_type": "markdown",
   "id": "0fbbb180",
   "metadata": {},
   "source": [
    "***Encapsulado***"
   ]
  },
  {
   "cell_type": "code",
   "execution_count": 30,
   "id": "043c6e66",
   "metadata": {},
   "outputs": [],
   "source": [
    "# Ejemplo de atributo privado\n",
    "\n",
    "class Cliente:\n",
    "    __mensaje = 'Este es un atributo privado'\n",
    "    \n",
    "    def __metodo(self):\n",
    "        print(\"Método privado\")\n",
    "    \n",
    "    def get_atributo(self):\n",
    "        return self.__mensaje\n",
    "    \n",
    "    def usar_metodo(self):\n",
    "        return self.__metodo\n",
    "    \n"
   ]
  },
  {
   "cell_type": "code",
   "execution_count": 31,
   "id": "e6e18d67",
   "metadata": {},
   "outputs": [
    {
     "name": "stdout",
     "output_type": "stream",
     "text": [
      "Este es un atributo privado\n"
     ]
    }
   ],
   "source": [
    "cliente1 = Cliente()\n",
    "\n",
    "print(cliente1.get_atributo())"
   ]
  },
  {
   "cell_type": "code",
   "execution_count": 32,
   "id": "dd8c0247",
   "metadata": {},
   "outputs": [
    {
     "data": {
      "text/plain": [
       "<bound method Cliente.__metodo of <__main__.Cliente object at 0x000002B6A99FC160>>"
      ]
     },
     "execution_count": 32,
     "metadata": {},
     "output_type": "execute_result"
    }
   ],
   "source": [
    "cliente1.usar_metodo()"
   ]
  },
  {
   "cell_type": "markdown",
   "id": "e685ffc4",
   "metadata": {},
   "source": [
    "***Herencia***"
   ]
  },
  {
   "cell_type": "code",
   "execution_count": 34,
   "id": "0ea8c89f",
   "metadata": {},
   "outputs": [
    {
     "name": "stdout",
     "output_type": "stream",
     "text": [
      "Ingrese el nombre: qwqwq\n",
      "Ingrese el apellido: qwqwq\n",
      "Ingrese el nombre: qwwq\n",
      "Ingrese el apellido: qwqwq\n",
      "Ingrese la gerencia: qwqwq\n",
      "\n",
      "<__main__.Empleado object at 0x000002B6A99FCA90>\n"
     ]
    }
   ],
   "source": [
    "# Ejemplo de uso\n",
    "class Empleado():\n",
    "    def __init__(self):\n",
    "        self.nombre=input(\"Ingrese el nombre: \")\n",
    "        self.apellido=input(\"Ingrese el apellido: \")\n",
    "        \n",
    "class Gerente(Empleado):\n",
    "    def __init__(self):\n",
    "        super().__init__()\n",
    "        self.gerencia=input(\"Ingrese la gerencia: \")\n",
    "        \n",
    "# Instanciamos las clases\n",
    "emp1 = Empleado()\n",
    "emp2 = Gerente()\n",
    "\n",
    "print()\n",
    "print(emp1)"
   ]
  },
  {
   "cell_type": "markdown",
   "id": "7a3b59dd",
   "metadata": {},
   "source": [
    "***Método especial STR***"
   ]
  },
  {
   "cell_type": "code",
   "execution_count": 38,
   "id": "e023e147",
   "metadata": {},
   "outputs": [],
   "source": [
    "# Ejemplo de uso\n",
    "class Empleado():\n",
    "    def __init__(self):\n",
    "        self.nombre=input(\"Ingrese el nombre: \")\n",
    "        self.apellido=input(\"Ingrese el apellido: \")\n",
    "        \n",
    "    def __str__(self):\n",
    "        mensaje=self.apellido+' '+self.nombre\n",
    "        return mensaje\n",
    "        \n",
    "class Gerente(Empleado):\n",
    "    def __init__(self):\n",
    "        super().__init__()\n",
    "        self.gerencia=input(\"Ingrese la gerencia: \")"
   ]
  },
  {
   "cell_type": "code",
   "execution_count": 39,
   "id": "c6429455",
   "metadata": {},
   "outputs": [
    {
     "name": "stdout",
     "output_type": "stream",
     "text": [
      "Ingrese el nombre: Guillermo\n",
      "Ingrese el apellido: Alfaro\n"
     ]
    }
   ],
   "source": [
    "emp3 = Empleado()"
   ]
  },
  {
   "cell_type": "code",
   "execution_count": 40,
   "id": "d20a9bd1",
   "metadata": {},
   "outputs": [
    {
     "name": "stdout",
     "output_type": "stream",
     "text": [
      "Alfaro Guillermo\n"
     ]
    }
   ],
   "source": [
    "print(emp3)"
   ]
  },
  {
   "cell_type": "code",
   "execution_count": 41,
   "id": "21608dfd",
   "metadata": {},
   "outputs": [],
   "source": [
    "# Ejercicio propuesto\n",
    "#Crear una clase Alumno que al instanciarse pida nombre, apellido y nota final del alumno. Sobrescribir el método STR \n",
    "# para que al imprimir el objeto se vea por pantalla los datos del alumno y un mensaje de si promocionó, rinde final o recursa."
   ]
  },
  {
   "cell_type": "markdown",
   "id": "3477c9d2",
   "metadata": {},
   "source": [
    "### Funciones de orden superior"
   ]
  },
  {
   "cell_type": "code",
   "execution_count": 42,
   "id": "f3cd7f43",
   "metadata": {},
   "outputs": [],
   "source": [
    "# Funciones simples\n",
    "def m2(v):\n",
    "    if v%2==0:\n",
    "        print(\"Es múltiplo de 2\")\n",
    "    else:\n",
    "        print(\"No es múltiplo de 2\")\n",
    "        \n",
    "def m3(v):\n",
    "    if v%3==0:\n",
    "        print(\"Es múltiplo de 3\")\n",
    "    else:\n",
    "        print(\"No es múltiplo de 3\")\n",
    "        \n",
    "# Función de orden superior\n",
    "def multiplo(v,fn):\n",
    "    return fn(v)\n"
   ]
  },
  {
   "cell_type": "code",
   "execution_count": 45,
   "id": "03e5d24a",
   "metadata": {},
   "outputs": [
    {
     "name": "stdout",
     "output_type": "stream",
     "text": [
      "Es múltiplo de 2\n",
      "No es múltiplo de 3\n"
     ]
    }
   ],
   "source": [
    "# Invocamos la función\n",
    "multiplo(12,m2)\n",
    "multiplo(40,m3)"
   ]
  },
  {
   "cell_type": "code",
   "execution_count": null,
   "id": "bf1f3374",
   "metadata": {},
   "outputs": [],
   "source": []
  }
 ],
 "metadata": {
  "kernelspec": {
   "display_name": "Python 3 (ipykernel)",
   "language": "python",
   "name": "python3"
  },
  "language_info": {
   "codemirror_mode": {
    "name": "ipython",
    "version": 3
   },
   "file_extension": ".py",
   "mimetype": "text/x-python",
   "name": "python",
   "nbconvert_exporter": "python",
   "pygments_lexer": "ipython3",
   "version": "3.9.13"
  }
 },
 "nbformat": 4,
 "nbformat_minor": 5
}
