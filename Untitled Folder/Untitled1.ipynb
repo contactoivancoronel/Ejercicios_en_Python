{
 "cells": [
  {
   "cell_type": "code",
   "execution_count": 5,
   "id": "0ac66ae2",
   "metadata": {},
   "outputs": [
    {
     "name": "stdout",
     "output_type": "stream",
     "text": [
      "6\n"
     ]
    }
   ],
   "source": [
    "def sumador(*args):\n",
    "    suma = 0\n",
    "    for num in args:\n",
    "        suma += num\n",
    "    return suma\n",
    "resultado = sumador(1, 2, 3)\n",
    "print(resultado)\n"
   ]
  },
  {
   "cell_type": "code",
   "execution_count": 7,
   "id": "0c99663b",
   "metadata": {},
   "outputs": [
    {
     "name": "stdout",
     "output_type": "stream",
     "text": [
      "El alumno Guillermo aprobo las materias:\n",
      "    - Python\n",
      "    - Php\n",
      "    - Etica Profesional\n",
      "\n"
     ]
    }
   ],
   "source": [
    "def mostrarAlumno(nombre, materias_aprob):\n",
    "    if len(materias_aprob) > 0:\n",
    "        mensaje = \"El alumno {} aprobo las materias:\\n\".format(nombre)\n",
    "        for materia in materias_aprob:\n",
    "            mensaje += \"    - {}\\n\".format(materia)\n",
    "    else:\n",
    "        mensaje = \"El alumno {} no aprobo ninguna materia\\n\".format(nombre)\n",
    "    return mensaje\n",
    "\n",
    "\n",
    "\n",
    "nombre_alumno = \"Guillermo\"\n",
    "materias_aprob = [\"Python\", \"Php\", \"Etica Profesional\"]\n",
    "mensaje = mostrarAlumno(nombre_alumno, materias_aprob)\n",
    "print(mensaje)"
   ]
  },
  {
   "cell_type": "code",
   "execution_count": 9,
   "id": "36b7a7be",
   "metadata": {},
   "outputs": [
    {
     "name": "stdout",
     "output_type": "stream",
     "text": [
      "[(1, 2), (1, 3), (1, 4), (2, 3), (2, 4), (3, 4)]\n"
     ]
    }
   ],
   "source": [
    "def dame_subconjuntos(lista):\n",
    "    subconjuntos = []\n",
    "    for i in range(len(lista)):\n",
    "        for j in range(i + 1, len(lista)):\n",
    "            subconjuntos.append((lista[i], lista[j]))\n",
    "    return subconjuntos\n",
    "\n",
    "lista_numeros = [1, 2, 3, 4]\n",
    "subconjuntos = dame_subconjuntos(lista_numeros)\n",
    "print(subconjuntos)\n"
   ]
  },
  {
   "cell_type": "code",
   "execution_count": 13,
   "id": "dd326120",
   "metadata": {},
   "outputs": [
    {
     "name": "stdout",
     "output_type": "stream",
     "text": [
      "Nombre:  Guillermo\n",
      "Nombre del plan:  Prepago\n",
      "Saldo:  100000\n"
     ]
    }
   ],
   "source": [
    "class Cliente:\n",
    "    def __init__(self, nombre, plan, saldo):\n",
    "        self.nombre = nombre\n",
    "        self.plan = plan\n",
    "        self.saldo = saldo\n",
    "\n",
    "a = Cliente(nombre='Guillermo', plan='Prepago', saldo=100000)\n",
    "\n",
    "print(\"Nombre: \", a.nombre)\n",
    "print(\"Nombre del plan: \", a.plan)\n",
    "print(\"Saldo: \", a.saldo)\n"
   ]
  },
  {
   "cell_type": "code",
   "execution_count": 14,
   "id": "d39b8dcc",
   "metadata": {},
   "outputs": [],
   "source": [
    "class Cliente:\n",
    "    precio_minuto = 0.5  \n",
    "\n",
    "    def __init__(self, nombre, plan, saldo):\n",
    "        self.nombre = nombre\n",
    "        self. plan = plan\n",
    "        self.saldo = saldo\n",
    "\n",
    "    def calcular_minutos_llamada(self):\n",
    "        minutos = self.saldo / self.precio_minuto\n",
    "        return minutos\n"
   ]
  },
  {
   "cell_type": "code",
   "execution_count": null,
   "id": "34270d55",
   "metadata": {},
   "outputs": [],
   "source": []
  }
 ],
 "metadata": {
  "kernelspec": {
   "display_name": "Python 3 (ipykernel)",
   "language": "python",
   "name": "python3"
  },
  "language_info": {
   "codemirror_mode": {
    "name": "ipython",
    "version": 3
   },
   "file_extension": ".py",
   "mimetype": "text/x-python",
   "name": "python",
   "nbconvert_exporter": "python",
   "pygments_lexer": "ipython3",
   "version": "3.9.13"
  }
 },
 "nbformat": 4,
 "nbformat_minor": 5
}
