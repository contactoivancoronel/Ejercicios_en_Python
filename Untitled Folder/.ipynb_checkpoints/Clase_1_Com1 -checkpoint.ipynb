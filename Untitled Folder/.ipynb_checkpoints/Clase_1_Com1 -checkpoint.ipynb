{
 "cells": [
  {
   "cell_type": "markdown",
   "id": "8c8da574",
   "metadata": {},
   "source": [
    "## Clase 2 21/03"
   ]
  },
  {
   "cell_type": "markdown",
   "id": "814a0e06",
   "metadata": {},
   "source": [
    "** Este es un texto ** "
   ]
  },
  {
   "cell_type": "markdown",
   "id": "e773423d",
   "metadata": {},
   "source": [
    "**Este es un texto en negrita**"
   ]
  },
  {
   "cell_type": "markdown",
   "id": "bbf5a13b",
   "metadata": {},
   "source": [
    "*Este es un texto inclinado*\n"
   ]
  },
  {
   "cell_type": "markdown",
   "id": "d19255e1",
   "metadata": {},
   "source": [
    "***Texto que combina negrita e inclinado***"
   ]
  },
  {
   "cell_type": "markdown",
   "id": "74ecf134",
   "metadata": {},
   "source": [
    "* Opcion 1"
   ]
  },
  {
   "cell_type": "markdown",
   "id": "a7f476f5",
   "metadata": {},
   "source": [
    "1. Item 1\n",
    "2. Item 2"
   ]
  },
  {
   "cell_type": "markdown",
   "id": "6be3f2be",
   "metadata": {},
   "source": [
    "### Variables"
   ]
  },
  {
   "cell_type": "markdown",
   "id": "6bfb55cc",
   "metadata": {},
   "source": [
    "# Vamos a ver el uso de variables.\n",
    "var1= 23\n",
    "print(var1)\n",
    "#Podemos reutilizar las variables.\n",
    "var1= 45\n",
    "print(var1)"
   ]
  },
  {
   "cell_type": "code",
   "execution_count": 1,
   "id": "af662ded",
   "metadata": {},
   "outputs": [
    {
     "name": "stdout",
     "output_type": "stream",
     "text": [
      "Hola mundo\n"
     ]
    }
   ],
   "source": [
    "# Tambien puedo reutilizar mis variables, cambiando el tipo de dato.\n",
    "var1 = \"Hola mundo\"\n",
    "print(var1)"
   ]
  },
  {
   "cell_type": "code",
   "execution_count": 2,
   "id": "5847bb25",
   "metadata": {},
   "outputs": [],
   "source": [
    "var2 = 'Clase de python'\n"
   ]
  },
  {
   "cell_type": "code",
   "execution_count": 3,
   "id": "586b7682",
   "metadata": {},
   "outputs": [
    {
     "name": "stdout",
     "output_type": "stream",
     "text": [
      "Clase de python\n"
     ]
    }
   ],
   "source": [
    "print(var2)"
   ]
  },
  {
   "cell_type": "markdown",
   "id": "e3fb40c4",
   "metadata": {},
   "source": [
    "***Comentarios***"
   ]
  },
  {
   "cell_type": "code",
   "execution_count": 4,
   "id": "5676b637",
   "metadata": {},
   "outputs": [],
   "source": [
    "# Esto es un comentario\n",
    "# Estas lineas son ignoradas por el interprete"
   ]
  },
  {
   "cell_type": "markdown",
   "id": "0df45bb4",
   "metadata": {},
   "source": [
    "***Tipos de datos***"
   ]
  },
  {
   "cell_type": "code",
   "execution_count": 5,
   "id": "de12db02",
   "metadata": {},
   "outputs": [
    {
     "name": "stdout",
     "output_type": "stream",
     "text": [
      "<class 'float'>\n",
      "<class 'float'>\n",
      "<class 'float'>\n"
     ]
    }
   ],
   "source": [
    "# Datos numericos\n",
    "var1= 12\n",
    "#print(type(var1))\n",
    "\n",
    "#Valores base Octal\n",
    "var1 = 0o34\n",
    "#print(type(var1))\n",
    "\n",
    "# Valores decimales\n",
    "var1= 34.5\n",
    "var2= 3.45\n",
    "suma = var1+var2\n",
    "print(type(var1))\n",
    "print(type(var2))\n",
    "print(type(suma))"
   ]
  },
  {
   "cell_type": "code",
   "execution_count": 6,
   "id": "3b739a50",
   "metadata": {},
   "outputs": [
    {
     "name": "stdout",
     "output_type": "stream",
     "text": [
      "12\n",
      "5\n",
      "3\n"
     ]
    }
   ],
   "source": [
    "#asignacion en linea\n",
    "v1,v2,v3 = 12,5,3\n",
    "\n",
    "print(v1)\n",
    "print(v2)\n",
    "print(v3)\n"
   ]
  },
  {
   "cell_type": "code",
   "execution_count": 7,
   "id": "b53c4b3f",
   "metadata": {},
   "outputs": [
    {
     "name": "stdout",
     "output_type": "stream",
     "text": [
      "(3+7j)\n"
     ]
    }
   ],
   "source": [
    "# numeros complejos\n",
    "valor1 = 3+7j\n",
    "print(valor1)"
   ]
  },
  {
   "cell_type": "code",
   "execution_count": 8,
   "id": "a57602fa",
   "metadata": {},
   "outputs": [
    {
     "name": "stdout",
     "output_type": "stream",
     "text": [
      "3.0\n",
      "7.0\n"
     ]
    }
   ],
   "source": [
    "print(valor1.real)\n",
    "print(valor1.imag)"
   ]
  },
  {
   "cell_type": "markdown",
   "id": "dcf6be61",
   "metadata": {},
   "source": [
    "***Conversiones de tipo***\n",
    "<br>\n",
    "* int()\n",
    "* float()\n",
    "* complex()"
   ]
  },
  {
   "cell_type": "code",
   "execution_count": 9,
   "id": "c59b7f1a",
   "metadata": {},
   "outputs": [
    {
     "name": "stdout",
     "output_type": "stream",
     "text": [
      "<class 'int'>\n",
      "23\n"
     ]
    }
   ],
   "source": [
    "#Conversion de entero a coma flotante\n",
    "valor = 23\n",
    "print(type(valor))\n",
    "print(valor)\n",
    "valor = float(valor)"
   ]
  },
  {
   "cell_type": "code",
   "execution_count": 10,
   "id": "b78cf24d",
   "metadata": {},
   "outputs": [
    {
     "name": "stdout",
     "output_type": "stream",
     "text": [
      "2\n",
      "(2+0j)\n"
     ]
    }
   ],
   "source": [
    "# entero a complejo\n",
    "valor1= 2\n",
    "print (valor1)\n",
    "valor1 = complex(valor1)\n",
    "print(valor1)"
   ]
  },
  {
   "cell_type": "code",
   "execution_count": 11,
   "id": "3faea51d",
   "metadata": {},
   "outputs": [
    {
     "name": "stdout",
     "output_type": "stream",
     "text": [
      "3\n"
     ]
    }
   ],
   "source": [
    "# flotante a entero\n",
    "\n",
    "var1 = 3.6\n",
    "var1 = int(var1)\n",
    "print(var1)"
   ]
  },
  {
   "cell_type": "code",
   "execution_count": 12,
   "id": "f5c59f41",
   "metadata": {},
   "outputs": [
    {
     "name": "stdout",
     "output_type": "stream",
     "text": [
      "Esta es mi variable var1 3\n"
     ]
    }
   ],
   "source": [
    "print(\"Esta es mi variable var1\",var1)"
   ]
  },
  {
   "cell_type": "code",
   "execution_count": 13,
   "id": "f7b774f1",
   "metadata": {},
   "outputs": [
    {
     "name": "stdout",
     "output_type": "stream",
     "text": [
      "\n",
      "Linea1\n",
      "Linea2\n",
      "Linea3\n",
      "\n"
     ]
    }
   ],
   "source": [
    "# Cadena con mas de una linea\n",
    "print(\"\"\"\n",
    "Linea1\n",
    "Linea2\n",
    "Linea3\n",
    "\"\"\")"
   ]
  },
  {
   "cell_type": "code",
   "execution_count": 14,
   "id": "6fd6cd96",
   "metadata": {},
   "outputs": [
    {
     "name": "stdout",
     "output_type": "stream",
     "text": [
      "ح\n",
      "☎\n"
     ]
    }
   ],
   "source": [
    "# Caracteres unicode\n",
    "print('\\u062d')\n",
    "print (\"\\u260e\")"
   ]
  },
  {
   "cell_type": "markdown",
   "id": "7d246cdc",
   "metadata": {},
   "source": [
    "***Operadores***\n"
   ]
  },
  {
   "cell_type": "markdown",
   "id": "243ea85d",
   "metadata": {},
   "source": [
    "Ejemplo : Ingreso por teclado el radio de un circulo y mostrar por pantalla la superficie.\n"
   ]
  },
  {
   "cell_type": "code",
   "execution_count": null,
   "id": "bef99810",
   "metadata": {},
   "outputs": [],
   "source": [
    "#Ingreso por teclado\n",
    "\n",
    "nombre = input('Ingrese su nombre: ')\n",
    "print(\"Su nombre es\",nombre)"
   ]
  },
  {
   "cell_type": "code",
   "execution_count": null,
   "id": "d596c1f5",
   "metadata": {},
   "outputs": [],
   "source": [
    "print(\"Calculo de la superficie\")\n",
    "print()\n",
    "radio = int(input(\"Ingrese el radio del circulo: \"))\n",
    "print(radio*2)\n"
   ]
  },
  {
   "cell_type": "markdown",
   "id": "d5835be1",
   "metadata": {},
   "source": [
    "***Metodo FORMAT***"
   ]
  },
  {
   "cell_type": "code",
   "execution_count": null,
   "id": "4d21be31",
   "metadata": {},
   "outputs": [],
   "source": [
    "# Es un metodo de la clase STR y me permite entre otras cosas agregar datos a un texto\n",
    "var1 = 4\n",
    "var2 = 5\n",
    "print(\"El valor de mi variable llamada VAR es: {} y el de VAR2 {}\".format(var1,var2))"
   ]
  },
  {
   "cell_type": "markdown",
   "id": "cc04ff36",
   "metadata": {},
   "source": [
    "***Operadores***"
   ]
  },
  {
   "cell_type": "markdown",
   "id": "c32d17c8",
   "metadata": {},
   "source": [
    "***Operadores aritmeticos.***\n",
    "+ Suma\n",
    "- Resta\n",
    "- Negativo\n",
    "* Multiplicacion\n",
    "** Exponente\n",
    "/ Division\n",
    "// Division entera\n",
    "% Resto\n"
   ]
  },
  {
   "cell_type": "code",
   "execution_count": null,
   "id": "8d65c881",
   "metadata": {},
   "outputs": [],
   "source": [
    "#Hacer y ejecutar un ejemplo de cada uno.\n"
   ]
  },
  {
   "cell_type": "markdown",
   "id": "4a680679",
   "metadata": {},
   "source": [
    "***Operadores Relacionales.***\n",
    "* Igual que (==)\n",
    "* Distinto que (!=)\n",
    "* Menor que (<)\n",
    "* Mayor que (>)\n",
    "* Menor o igual (<=)\n",
    "* Mayor o igual (>=)\n"
   ]
  },
  {
   "cell_type": "code",
   "execution_count": null,
   "id": "4433cbae",
   "metadata": {},
   "outputs": [],
   "source": [
    "# Ejemplo\n",
    "a = 15\n",
    "print(\"La variable a es mayor que 10: {} \".format(a > 10))"
   ]
  },
  {
   "cell_type": "markdown",
   "id": "d8695906",
   "metadata": {},
   "source": [
    "***Operadores de asignacion***"
   ]
  },
  {
   "cell_type": "code",
   "execution_count": null,
   "id": "d32eb1de",
   "metadata": {},
   "outputs": [],
   "source": [
    "#Asignacion simple \n",
    "\n",
    "a=12\n",
    "print (a)\n",
    "#Suma y asignacion\n",
    "\n",
    "a=5\n",
    "a+=2\n",
    "print (\"Suma y asignacion: {}\".format(a))\n",
    "\n",
    "#Resta y asignacion\n",
    "\n",
    "a =6\n",
    "a-= 4\n",
    "print(\"Resta y asignacion: {}\".format(a))"
   ]
  },
  {
   "cell_type": "code",
   "execution_count": null,
   "id": "fc7cceec",
   "metadata": {},
   "outputs": [],
   "source": [
    "b= 20\n",
    "b =-10\n",
    "print(b)"
   ]
  },
  {
   "cell_type": "markdown",
   "id": "ce6beffa",
   "metadata": {},
   "source": [
    "***Operadores logicos***"
   ]
  },
  {
   "cell_type": "markdown",
   "id": "78b9bcac",
   "metadata": {},
   "source": [
    "* and\n",
    "* or \n",
    "* not\n"
   ]
  },
  {
   "cell_type": "code",
   "execution_count": null,
   "id": "3ed47b96",
   "metadata": {},
   "outputs": [],
   "source": [
    "# AND\n",
    "a = 5\n",
    "b = 10\n",
    "print (\"AND es TRUE si y solo si, ambas expresiones son verdaderas: {}\".format(a==5 and b==10))"
   ]
  },
  {
   "cell_type": "code",
   "execution_count": null,
   "id": "980f622a",
   "metadata": {},
   "outputs": [],
   "source": [
    "# OR \n",
    "c = 6\n",
    "d = 5\n",
    "print (\"OR es TRUE solo si, al menos una de las expresiones es verdadera: {}\".format(c==6 or d==7))"
   ]
  },
  {
   "cell_type": "code",
   "execution_count": null,
   "id": "0af201e4",
   "metadata": {},
   "outputs": [],
   "source": [
    "# NOT  \n",
    "var = 23\n",
    "print(\"NOT modifica el valor booleano de una expresion: {}\".format(not var == 24))"
   ]
  },
  {
   "cell_type": "markdown",
   "id": "791619bb",
   "metadata": {},
   "source": [
    "### Listas."
   ]
  },
  {
   "cell_type": "code",
   "execution_count": null,
   "id": "ef65515c",
   "metadata": {},
   "outputs": [],
   "source": [
    "# Tipo de elemento: LISTA\n",
    "lista1 = [1,2,3,4]\n",
    "print (lista1)\n"
   ]
  },
  {
   "cell_type": "code",
   "execution_count": null,
   "id": "54a85335",
   "metadata": {},
   "outputs": [],
   "source": [
    "#Las listas son elentos indexados\n",
    "lista2 = [\"a\",\"b\",56,12,\"Hola Mundo\"]\n",
    "print(lista2[0])"
   ]
  },
  {
   "cell_type": "code",
   "execution_count": null,
   "id": "93f66116",
   "metadata": {},
   "outputs": [],
   "source": [
    "#Ejemplo de uso\n",
    "l1= [\"Hola\",4,5]\n",
    "l2 = [\"Mundo\",3]\n",
    "l3 = [l1[0],l2[0]]\n",
    "print(l3)\n",
    "print(l1[0]+\" \"+l2[0])"
   ]
  },
  {
   "cell_type": "markdown",
   "id": "8bc89953",
   "metadata": {},
   "source": [
    "***Funcion LEN.***"
   ]
  },
  {
   "cell_type": "code",
   "execution_count": null,
   "id": "3ef0ed31",
   "metadata": {},
   "outputs": [],
   "source": [
    "# Me permite conocer la longitud de un elemento, por ejemplo, las listas.\n",
    "lista = [1,2,3,4,5]\n",
    "print(lista)\n",
    "print(type(lista))\n",
    "print(len(lista))"
   ]
  },
  {
   "cell_type": "markdown",
   "id": "1a9ed0e4",
   "metadata": {},
   "source": [
    "***Metodos de LISTA***"
   ]
  },
  {
   "cell_type": "code",
   "execution_count": null,
   "id": "079c8527",
   "metadata": {},
   "outputs": [],
   "source": [
    "#Metodo APPEND\n",
    "# Agrega un elemento al final de la lista.\n",
    "nombres = [\"Juan\",\"Pedro\",\"Guillermo\"]\n",
    "print(nombres)\n",
    "nombres.append(24)\n",
    "print(nombres)"
   ]
  },
  {
   "cell_type": "code",
   "execution_count": null,
   "id": "eb07ad66",
   "metadata": {},
   "outputs": [],
   "source": [
    "# Metodo COUNT\n",
    "# Devuelve el numero de ocurrencias dentro de la lista.\n",
    "letras = [\"a\",\"b\",\"c\",\"a\"]\n",
    "print(letras.count(\"a\"))"
   ]
  },
  {
   "cell_type": "code",
   "execution_count": null,
   "id": "07923905",
   "metadata": {},
   "outputs": [],
   "source": [
    "# Metodo INDEX\n",
    "# Devuelve el indice de la primer ocurrencia del elemento que le paso como argumento\n",
    "numeros = [1,2,3,4,5]\n",
    "print(numeros.index(3))\n"
   ]
  },
  {
   "cell_type": "code",
   "execution_count": null,
   "id": "eefea48a",
   "metadata": {},
   "outputs": [],
   "source": [
    "# Metodo INSERT\n",
    "# \n",
    "lista = [1,2,3,4]\n",
    "print(lista)\n",
    "lista.insert(2,\"Hola\")\n",
    "print(lista)\n",
    "\n",
    "lista = []\n",
    "print (lista)"
   ]
  },
  {
   "cell_type": "code",
   "execution_count": null,
   "id": "aec7043d",
   "metadata": {},
   "outputs": [],
   "source": [
    "# Metodo POP\n",
    "#Devuelve el ultimo lugar de la lista. Si no lo guardamos lo borra.\n",
    "lista = [1,2,3,4,5,6]\n",
    "print(lista)\n",
    "a = lista.pop()\n",
    "print(lista)\n",
    "print()"
   ]
  },
  {
   "cell_type": "code",
   "execution_count": null,
   "id": "2fea5929",
   "metadata": {},
   "outputs": [],
   "source": [
    "#Metodo REMOVE\n",
    "#Elimina la primera aparicion\n",
    "numeros = [1,2,3,4,5,2,2]\n",
    "print(numeros)\n",
    "numeros.remove(2)\n",
    "print(numeros)\n"
   ]
  },
  {
   "cell_type": "code",
   "execution_count": null,
   "id": "fdd9e881",
   "metadata": {},
   "outputs": [],
   "source": [
    "# Metodo REVERSE\n",
    "#Invierte el orden de los elementos de una lista\n",
    "letras = [\"a\",\"b\",\"c\",\"d\"]\n",
    "print(letras)\n",
    "letras.reverse()\n",
    "print(letras)"
   ]
  },
  {
   "cell_type": "code",
   "execution_count": null,
   "id": "913cf2ce",
   "metadata": {},
   "outputs": [],
   "source": [
    "# Metodo SORT\n",
    "# Ordena los elementos de una lista\n",
    "\n",
    "#Orden de menor a mayor\n",
    "numeros = [2,4,6,34,0,12,3]\n",
    "print(numeros)\n",
    "numeros.sort()\n",
    "print(numeros)\n",
    "\n",
    "# Orden de mayor a menor\n",
    "numeros.sort(reverse = True)\n",
    "print(numeros)\n",
    "\n",
    "#Puedo ordenar texto por unicode\n",
    "letras = [\"f\",\"x\",\"a\"]\n",
    "print(letras)\n",
    "letras.sort()\n",
    "print(letras)"
   ]
  },
  {
   "cell_type": "markdown",
   "id": "4452e492",
   "metadata": {},
   "source": [
    "### Operador de pertenencia"
   ]
  },
  {
   "cell_type": "code",
   "execution_count": null,
   "id": "4a9e07b4",
   "metadata": {},
   "outputs": [],
   "source": [
    "#Determina si un elemento pertenece a una determina coleccion\n",
    "\n",
    "a=12\n",
    "lista = [1,2,3,4,5]\n",
    "print(a in lista)\n",
    "print(a not in lista)\n"
   ]
  },
  {
   "cell_type": "markdown",
   "id": "2286db66",
   "metadata": {},
   "source": [
    "### Estructuras"
   ]
  },
  {
   "cell_type": "markdown",
   "id": "3c1d0362",
   "metadata": {},
   "source": [
    "***Condicional IF***"
   ]
  },
  {
   "cell_type": "code",
   "execution_count": null,
   "id": "48ded977",
   "metadata": {},
   "outputs": [],
   "source": [
    "# Pedimos el ingreso de un numero y verificamos si es par o impar.\n",
    "numero = int(input(\"Ingrese un numero: \"))\n",
    "resto = numero%2\n",
    "\n",
    "if resto == 0: \n",
    "    print(\"El numero es PAR\")\n",
    "else:\n",
    "    print(\"El numero es impar\")\n"
   ]
  },
  {
   "cell_type": "code",
   "execution_count": null,
   "id": "c5007cc7",
   "metadata": {},
   "outputs": [],
   "source": [
    "# Otro ejemplo de IF\n",
    "a = 12\n",
    "if a<0:\n",
    "    print(\"El numero es menor que cero\")\n",
    "elif a>=0 and a <=10:\n",
    "    print(\"El numero esta entre 0 y 10 inclusive\")\n",
    "else:\n",
    "    print(\"El numero es mayor que 10\")"
   ]
  },
  {
   "cell_type": "code",
   "execution_count": null,
   "id": "3391e96f",
   "metadata": {},
   "outputs": [],
   "source": [
    "valor = input (\"ingrese un valor entre 1 y 3\")\n",
    "lista = [\"1\",\"2\",\"3\"]\n",
    "print (valor in lista)"
   ]
  },
  {
   "cell_type": "markdown",
   "id": "7f2e42f0",
   "metadata": {},
   "source": [
    "### Estructuras (parte 2)"
   ]
  },
  {
   "cell_type": "markdown",
   "id": "52491a82",
   "metadata": {},
   "source": [
    "***Estructura While***"
   ]
  },
  {
   "cell_type": "code",
   "execution_count": null,
   "id": "9dd1aaa3",
   "metadata": {},
   "outputs": [],
   "source": [
    "# Estructura While por contador\n",
    "control = 1\n",
    "\n",
    "while control <= 5:\n",
    "    print(\"Valor de la variable de control: {}\".format(control))\n",
    "    control = control + 1\n",
    "    \n",
    "print(\"Fin de ciclo While, valor final de la variable: {}\".format(control))"
   ]
  },
  {
   "cell_type": "code",
   "execution_count": null,
   "id": "7c11b002",
   "metadata": {},
   "outputs": [],
   "source": [
    "# Ejemplo de While simulando un DO WHILE\n",
    "\n",
    "contador = 0\n",
    "\n",
    "while True:\n",
    "    contador = contador + 1\n",
    "    print(\"Valor del contador: {}\".format(contador))\n",
    "    if contador == 4:\n",
    "        break\n",
    "        \n",
    "print(\"Fin del ciclo, valor final de la variable de control: {}\".format(contador))"
   ]
  },
  {
   "cell_type": "code",
   "execution_count": null,
   "id": "df29d305",
   "metadata": {},
   "outputs": [],
   "source": [
    "#Ejercicio de ejemplo\n",
    "notas=[]\n",
    "nota = 0\n",
    "\n",
    "while nota != -1:\n",
    "    nota=int(input(\"Ingrese notas del 1 al 10 o -1 para finalizar.\"))\n",
    "    if nota == -1:\n",
    "        break\n",
    "    notas.append(nota)\n",
    "    \n",
    "print(\"Notas ingresadas:\",notas)\n",
    "print(\"Suma de las notas \",sum (notas))\n",
    "print(\"Promedio de las notas: \",sum(notas)/len(notas))\n",
    "\n",
    "#Arreglar el problema de la division sobre cero.\n",
    "\n",
    "\n"
   ]
  },
  {
   "cell_type": "markdown",
   "id": "d767c0f3",
   "metadata": {},
   "source": [
    "***Estructura FOR***\n"
   ]
  },
  {
   "cell_type": "code",
   "execution_count": null,
   "id": "4f12d6b3",
   "metadata": {},
   "outputs": [],
   "source": [
    "#Ejemplo de FOR \n",
    "lista = [1,2,3,4,5,6]\n",
    "for valor in lista:\n",
    "    print(\"Valor cargado dentro del iterador: {}\".format(valor))\n",
    "    "
   ]
  },
  {
   "cell_type": "code",
   "execution_count": null,
   "id": "ba59ce0e",
   "metadata": {},
   "outputs": [],
   "source": [
    "# Funcion RANGE \n",
    "\n",
    "for mes in range (4,12):\n",
    "    print(\"Valor de mes obtenido: {}\".format(mes))"
   ]
  },
  {
   "cell_type": "code",
   "execution_count": null,
   "id": "4640e1cd",
   "metadata": {},
   "outputs": [],
   "source": [
    "# Funcion RANGE con incremento / decremento\n",
    "for numero in range(1,6,2):\n",
    "    print(\"Valor del iterador: {}\".format(numero))"
   ]
  },
  {
   "cell_type": "code",
   "execution_count": null,
   "id": "65b2c009",
   "metadata": {},
   "outputs": [],
   "source": [
    "#FOR con Range y decremento\n",
    "for x in range(5,0,-1):\n",
    "    print(x)"
   ]
  },
  {
   "cell_type": "markdown",
   "id": "ff01d2b5",
   "metadata": {},
   "source": [
    "***Cadenas de caracteres***\n"
   ]
  },
  {
   "cell_type": "code",
   "execution_count": null,
   "id": "12994a08",
   "metadata": {},
   "outputs": [],
   "source": [
    "#Caracter de escape \n",
    "print(\"Uso del caracter \\\"de\\\" escape.\")"
   ]
  },
  {
   "cell_type": "code",
   "execution_count": null,
   "id": "4cb9e09b",
   "metadata": {},
   "outputs": [],
   "source": [
    "print(\"Taller\"+\" - \"+\"Integrador\")\n",
    "print(2*\"Vamos Boca\")\n",
    "print(\"Hola \" \"Mundo\")"
   ]
  },
  {
   "cell_type": "code",
   "execution_count": null,
   "id": "0350d6be",
   "metadata": {},
   "outputs": [],
   "source": [
    "#Las cadenas estan indexadas\n",
    "texto = \"Me gusta cursar los Martes\"\n",
    "print(texto[0])"
   ]
  },
  {
   "cell_type": "code",
   "execution_count": null,
   "id": "6ba77268",
   "metadata": {},
   "outputs": [],
   "source": [
    "# Podemos convertir a lista el texto para usar sus métodos.\n",
    "a = \"Hola mundo\"\n",
    "print(type(a))\n",
    "a = list(a)\n",
    "print(type(a))\n",
    "print(a)\n",
    "a.append(12)\n",
    "print(a)"
   ]
  },
  {
   "cell_type": "markdown",
   "id": "75c96b63",
   "metadata": {},
   "source": [
    "***Sub cadenas***"
   ]
  },
  {
   "cell_type": "code",
   "execution_count": null,
   "id": "bce9490a",
   "metadata": {},
   "outputs": [],
   "source": [
    "# Ejemplo 1\n",
    "cadena = \"Taller integrador\"\n",
    "sub_cadena = cadena[1:6]\n",
    "print(sub_cadena)"
   ]
  },
  {
   "cell_type": "code",
   "execution_count": null,
   "id": "2e5ef4b7",
   "metadata": {},
   "outputs": [],
   "source": [
    "# Podemos ignorar alguno de los extremos\n",
    "cadena = \"Python\"\n",
    "print(cadena[:4])\n",
    "print(cadena[2:])\n",
    "print(cadena[:])"
   ]
  },
  {
   "cell_type": "code",
   "execution_count": null,
   "id": "bcea9592",
   "metadata": {},
   "outputs": [],
   "source": [
    "# Las cadenas de texto son Inmutables\n",
    "texto = 'Hola'\n",
    "texto[0]='L'"
   ]
  },
  {
   "cell_type": "code",
   "execution_count": null,
   "id": "138ca923",
   "metadata": {},
   "outputs": [],
   "source": [
    "# Las listas son Mutables\n",
    "lista = [1,2,3]\n",
    "lista[0] = 'a'\n",
    "print(lista)"
   ]
  },
  {
   "cell_type": "markdown",
   "id": "ead678c9",
   "metadata": {},
   "source": [
    "***Listas (Continuacion)***"
   ]
  },
  {
   "cell_type": "code",
   "execution_count": null,
   "id": "49ce2567",
   "metadata": {},
   "outputs": [],
   "source": [
    "# Las listas se pueden rebanar creando sub listas\n",
    "lista = ['1','2','3','4','5','6']\n",
    "sub1 = lista[0:3]\n",
    "print(lista)\n",
    "print(sub1)\n",
    "\n",
    "# Probar la sintaxis aprendida con cadenas de texto"
   ]
  },
  {
   "cell_type": "markdown",
   "id": "65bd7138",
   "metadata": {},
   "source": [
    "***Creando listas usando RANGE***"
   ]
  },
  {
   "cell_type": "code",
   "execution_count": null,
   "id": "2c422d79",
   "metadata": {},
   "outputs": [],
   "source": [
    "# Si a Range le pasamos un solo argumento, lo toma com valor \"Hasta\"\n",
    "numeros = list(range(11))\n",
    "print(numeros)"
   ]
  },
  {
   "cell_type": "code",
   "execution_count": null,
   "id": "c2b3546c",
   "metadata": {},
   "outputs": [],
   "source": [
    "lista = list(range(1,11,2))\n",
    "print(lista)"
   ]
  },
  {
   "cell_type": "markdown",
   "id": "33902538",
   "metadata": {},
   "source": [
    "***Estructuras vacias***"
   ]
  },
  {
   "cell_type": "code",
   "execution_count": null,
   "id": "84ebad75",
   "metadata": {},
   "outputs": [],
   "source": [
    "while True:\n",
    "    pass"
   ]
  },
  {
   "cell_type": "markdown",
   "id": "d6d03e55",
   "metadata": {},
   "source": [
    "***Funciones***"
   ]
  },
  {
   "cell_type": "code",
   "execution_count": null,
   "id": "264d3e78",
   "metadata": {},
   "outputs": [],
   "source": [
    "# Para definir una función utilizamos la palabra reservada DEF\n",
    "def cuadrado(valor):\n",
    "    resultado = valor**2\n",
    "    print(\"El valor {} elevado al cuadrado es: {}\".format(valor,resultado))\n",
    "    \n",
    "cuadrado(4)"
   ]
  },
  {
   "cell_type": "markdown",
   "id": "46f8b722",
   "metadata": {},
   "source": [
    "***Ejercico propuesto***\n",
    "<br>\n",
    "Armar un programa que pida números a un usuario, cada uno lo eleve al cubo y muestre el resultado, hasta que el usuairo ingrese el valor 0."
   ]
  },
  {
   "cell_type": "code",
   "execution_count": null,
   "id": "29758d75",
   "metadata": {},
   "outputs": [],
   "source": [
    "# Las funciones tienen su propia clase\n",
    "print(type(cuadrado))"
   ]
  },
  {
   "cell_type": "code",
   "execution_count": null,
   "id": "a635018e",
   "metadata": {},
   "outputs": [],
   "source": [
    "# \n",
    "a = 4\n",
    "print(type(a))\n",
    "\n",
    "a = cuadrado\n",
    "print(type(a))"
   ]
  },
  {
   "cell_type": "code",
   "execution_count": null,
   "id": "811a5535",
   "metadata": {},
   "outputs": [],
   "source": [
    "a(3)"
   ]
  },
  {
   "cell_type": "markdown",
   "id": "9a5ee77c",
   "metadata": {},
   "source": [
    "***Retorno de Valores ***"
   ]
  },
  {
   "cell_type": "code",
   "execution_count": null,
   "id": "633f2bf8",
   "metadata": {},
   "outputs": [],
   "source": [
    "def cuadrado(valor):\n",
    "    resultado = valor**2\n",
    "    return(resultado)\n",
    "\n",
    "valor = cuadrado(5)\n",
    "print(\"El resultado de elevar 5 al cuadrado es: {}\".format(valor))"
   ]
  },
  {
   "cell_type": "markdown",
   "id": "30cf7355",
   "metadata": {},
   "source": [
    "***Pasaje de argumentos por posicion***"
   ]
  },
  {
   "cell_type": "code",
   "execution_count": null,
   "id": "9a08f2ec",
   "metadata": {},
   "outputs": [],
   "source": [
    "def resta(x,y):\n",
    "    res = x - y\n",
    "    print(\"Resultado de la resta: {}\".format(res))\n",
    "    \n",
    "resta(3,10)"
   ]
  },
  {
   "cell_type": "markdown",
   "id": "34a6071a",
   "metadata": {},
   "source": [
    "***Pasaje de argumentos por nombre***"
   ]
  },
  {
   "cell_type": "code",
   "execution_count": null,
   "id": "778c7f3b",
   "metadata": {},
   "outputs": [],
   "source": [
    "resta(y=3,x=10)"
   ]
  },
  {
   "cell_type": "markdown",
   "id": "a13b4b54",
   "metadata": {},
   "source": [
    "***Funcion invocada sin argumentos***"
   ]
  },
  {
   "cell_type": "code",
   "execution_count": null,
   "id": "14867160",
   "metadata": {},
   "outputs": [],
   "source": [
    "def resta(x=None,y=None):\n",
    "    if x==None or y==None:\n",
    "        print(\"Error, debe ingresar dos valores.\")\n",
    "        return\n",
    "    res = x-y\n",
    "    print(\"Resultado de la resta: {}\".format(res))\n",
    "    \n",
    "resta(4,4)\n",
    "\n",
    "# Corregir el caso (,4)"
   ]
  },
  {
   "cell_type": "markdown",
   "id": "b80b2200",
   "metadata": {},
   "source": [
    "***Numeros Aleatorios***"
   ]
  },
  {
   "cell_type": "code",
   "execution_count": null,
   "id": "8c71a435",
   "metadata": {},
   "outputs": [],
   "source": [
    "import random\n",
    "print(\"Número al azar entre 0 y 10\",random.randrange(11))"
   ]
  },
  {
   "cell_type": "code",
   "execution_count": null,
   "id": "f678ba9d",
   "metadata": {},
   "outputs": [],
   "source": [
    "print(\"Número al azar entre 20 y 40\",random.randrange(20,41))"
   ]
  },
  {
   "cell_type": "code",
   "execution_count": null,
   "id": "1dbb05a6",
   "metadata": {},
   "outputs": [],
   "source": [
    "print(\"Número al azar entre 1 y 20, que sea impar.\",random.randrange(1,21,2))"
   ]
  },
  {
   "cell_type": "code",
   "execution_count": null,
   "id": "58b52f30",
   "metadata": {},
   "outputs": [],
   "source": [
    "# RANDINT: incluye también el HASTA\n",
    "print(\"Número al azar entre 1 y 5: \",random.randint(1,5))"
   ]
  },
  {
   "cell_type": "code",
   "execution_count": null,
   "id": "85a46b9d",
   "metadata": {},
   "outputs": [],
   "source": [
    "# Método CHOICE\n",
    "# Devuelce un elemento al azar, de una lista predefinida.\n",
    "lista = [\"River\",\"Boca\",\"Chaca\"]\n",
    "print(\"Próximo campeón: \",random.choice(lista))"
   ]
  },
  {
   "cell_type": "code",
   "execution_count": null,
   "id": "f117f51d",
   "metadata": {},
   "outputs": [],
   "source": [
    "# Método SHUFFLE\n",
    "# Mezcla al azar los elementos de una lista\n",
    "numeros = [1,2,3,4,5,6]\n",
    "print(numeros)\n",
    "\n",
    "random.shuffle(numeros)\n",
    "print(numeros)\n",
    "\n",
    "random.shuffle(numeros)\n",
    "print(numeros)"
   ]
  },
  {
   "cell_type": "code",
   "execution_count": null,
   "id": "e5bcd7d0",
   "metadata": {},
   "outputs": [],
   "source": []
  }
 ],
 "metadata": {
  "kernelspec": {
   "display_name": "Python 3 (ipykernel)",
   "language": "python",
   "name": "python3"
  },
  "language_info": {
   "codemirror_mode": {
    "name": "ipython",
    "version": 3
   },
   "file_extension": ".py",
   "mimetype": "text/x-python",
   "name": "python",
   "nbconvert_exporter": "python",
   "pygments_lexer": "ipython3",
   "version": "3.9.13"
  }
 },
 "nbformat": 4,
 "nbformat_minor": 5
}
