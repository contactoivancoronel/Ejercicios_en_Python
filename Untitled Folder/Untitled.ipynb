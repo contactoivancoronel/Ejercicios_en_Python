{
 "cells": [
  {
   "cell_type": "code",
   "execution_count": 1,
   "id": "5bd31a38",
   "metadata": {},
   "outputs": [
    {
     "name": "stdout",
     "output_type": "stream",
     "text": [
      "Ingrese el primer lado del triángulo: 2\n",
      "Ingrese el segundo lado del triángulo: 3\n",
      "Ingrese el tercer lado del triángulo: 4\n",
      "triángulo escaleno\n"
     ]
    }
   ],
   "source": [
    "l1 = float(input(\"Ingrese el primer lado del triángulo: \"))\n",
    "l2 = float(input(\"Ingrese el segundo lado del triángulo: \"))\n",
    "l3 = float(input(\"Ingrese el tercer lado del triángulo: \"))\n",
    "\n",
    "if l1 == l2 and l2 == l3:\n",
    "    print(\"triángulo equilátero\")\n",
    "elif l1 == l2 or l2 == l3 or l1 == l3:\n",
    "    print(\"triángulo isósceles\")\n",
    "else:\n",
    "    print(\"triángulo escaleno\")\n"
   ]
  },
  {
   "cell_type": "code",
   "execution_count": 2,
   "id": "4f8b7273",
   "metadata": {},
   "outputs": [
    {
     "name": "stdout",
     "output_type": "stream",
     "text": [
      "El mayor valor de las tres listas es: 15\n",
      "Los 3 menores valores de las tres listas son: [1, 1, 2, 3, 4, 5, 6, 11, 12]\n"
     ]
    }
   ],
   "source": [
    "l1 = [2, 10, 5, 8, 3]\n",
    "l2 = [6, 4, 9, 1, 7]\n",
    "l3 = [12, 1, 15, 11, 13]\n",
    "\n",
    "may = float('-inf')  \n",
    "for lista in [l1, l2, l3]:\n",
    "    for num in lista:\n",
    "        if num> may:\n",
    "            may = num\n",
    "print(\"El mayor valor de las tres listas es:\", may)\n",
    "\n",
    "men = []  \n",
    "for lista in [l1, l2, l3]:\n",
    "    men_lista = sorted(lista)[:3]  \n",
    "    men+= men_lista  \n",
    "print(\"Los 3 menores valores de las tres listas son:\", sorted(men))\n"
   ]
  },
  {
   "cell_type": "code",
   "execution_count": 3,
   "id": "282a7e38",
   "metadata": {},
   "outputs": [
    {
     "name": "stdout",
     "output_type": "stream",
     "text": [
      "El mayor valor de las tres listas es: 55\n",
      "Los 3 menores valores de las tres listas son: [2, 8, 9, 10, 11, 21, 22, 23, 33]\n"
     ]
    }
   ],
   "source": [
    "l1 = [22, 45, 39, 23, 11]\n",
    "l2 = [10, 8, 55, 41, 33]\n",
    "l3 = [21, 9, 26, 44, 2]\n",
    "\n",
    "may = float('-inf')  \n",
    "for lista in [l1, l2, l3]:\n",
    "    for num in lista:\n",
    "        if num> may:\n",
    "            may = num\n",
    "print(\"El mayor valor de las tres listas es:\", may)\n",
    "\n",
    "men = []  \n",
    "for lista in [l1, l2, l3]:\n",
    "    men_lista = sorted(lista)[:3]  \n",
    "    men+= men_lista  \n",
    "print(\"Los 3 menores valores de las tres listas son:\", sorted(men))\n",
    "\n"
   ]
  },
  {
   "cell_type": "code",
   "execution_count": 4,
   "id": "fab4eba4",
   "metadata": {},
   "outputs": [
    {
     "ename": "SyntaxError",
     "evalue": "invalid syntax (2727048526.py, line 3)",
     "output_type": "error",
     "traceback": [
      "\u001b[1;36m  File \u001b[1;32m\"C:\\Users\\ivy_c\\AppData\\Local\\Temp\\ipykernel_1528\\2727048526.py\"\u001b[1;36m, line \u001b[1;32m3\u001b[0m\n\u001b[1;33m    pass = input(\"Ingrese clave: \")\u001b[0m\n\u001b[1;37m         ^\u001b[0m\n\u001b[1;31mSyntaxError\u001b[0m\u001b[1;31m:\u001b[0m invalid syntax\n"
     ]
    }
   ],
   "source": [
    "while True:\n",
    "    user = input(\"Ingrese usuario: \")\n",
    "    pass = input(\"Ingrese clave: \")\n",
    "\n",
    "    if len(pass) < 6 or len(pass) > 12:\n",
    "        print(\"La clave debe tener una longitud entre 6 - 12 caracteres.\")\n",
    "        continue\n",
    "\n",
    "    yes_minus = False\n",
    "    yes_mayus = False\n",
    "    yes_num= False\n",
    "    for chr in clave:\n",
    "        if chr.islower():\n",
    "            yes_minus = True\n",
    "        elif chr.isupper():\n",
    "           yes_mayus = True\n",
    "        elif chr.isdigit():\n",
    "           yes_num = True\n",
    "\n",
    "    if not yes_minus:\n",
    "        print(\"La clave debe contener al menos una letra en minúscula.\")\n",
    "        continue\n",
    "\n",
    "    if not yes_mayus:\n",
    "        print(\"La clave debe contener al menos una letra en mayúscula.\")\n",
    "        continue\n",
    "\n",
    "    if not yes_num:\n",
    "        print(\"A la clave le falta un número.\")\n",
    "        continue\n",
    "\n",
    "    print(\"Registro exitoso.\")\n",
    "    break\n"
   ]
  },
  {
   "cell_type": "code",
   "execution_count": 5,
   "id": "ab4c0867",
   "metadata": {},
   "outputs": [
    {
     "ename": "SyntaxError",
     "evalue": "invalid syntax (496000855.py, line 3)",
     "output_type": "error",
     "traceback": [
      "\u001b[1;36m  File \u001b[1;32m\"C:\\Users\\ivy_c\\AppData\\Local\\Temp\\ipykernel_1528\\496000855.py\"\u001b[1;36m, line \u001b[1;32m3\u001b[0m\n\u001b[1;33m    pass = input(\"Ingrese clave: \")\u001b[0m\n\u001b[1;37m         ^\u001b[0m\n\u001b[1;31mSyntaxError\u001b[0m\u001b[1;31m:\u001b[0m invalid syntax\n"
     ]
    }
   ],
   "source": [
    "while True:\n",
    "    user = input(\"Ingrese usuario: \")\n",
    "    pass = input(\"Ingrese clave: \")\n",
    "\n",
    "    if len(pass) < 6 or len(pass) > 12:\n",
    "        print(\"La clave debe tener una longitud entre 6 - 12 caracteres.\")\n",
    "        continue\n",
    "\n",
    "    yes_minus = False\n",
    "    yes_mayus = False\n",
    "    yes_num= False\n",
    "    for chr in pass:\n",
    "        if chr.islower():\n",
    "            yes_minus = True\n",
    "        elif chr.isupper():\n",
    "           yes_mayus = True\n",
    "        elif chr.isdigit():\n",
    "           yes_num = True\n",
    "\n",
    "    if not yes_minus:\n",
    "        print(\"La clave debe contener al menos una letra en minúscula.\")\n",
    "        continue\n",
    "\n",
    "    if not yes_mayus:\n",
    "        print(\"La clave debe contener al menos una letra en mayúscula.\")\n",
    "        continue\n",
    "\n",
    "    if not yes_num:\n",
    "        print(\"A la clave le falta un número.\")\n",
    "        continue\n",
    "\n",
    "    print(\"Registro exitoso.\")\n",
    "    break\n"
   ]
  },
  {
   "cell_type": "code",
   "execution_count": 6,
   "id": "d4a8c92e",
   "metadata": {},
   "outputs": [
    {
     "name": "stdout",
     "output_type": "stream",
     "text": [
      "Ingrese su usuario: aa\n",
      "Ingrese su clave: ss\n",
      "La clave debe tener una longitud mínima de 6 caracteres y una longitud máxima de 12 caracteres.\n",
      "Ingrese su usuario: aa\n",
      "Ingrese su clave: ssseeeee23\n",
      "La clave debe contener al menos una letra en mayúscula.\n",
      "Ingrese su usuario: aaaa\n",
      "Ingrese su clave: sssssseeee23R\n",
      "La clave debe tener una longitud mínima de 6 caracteres y una longitud máxima de 12 caracteres.\n",
      "Ingrese su usuario: SEEEeee234\n",
      "Ingrese su clave: seeeE234\n",
      "Registro exitoso.\n"
     ]
    }
   ],
   "source": [
    "while True:\n",
    "    usuario = input(\"Ingrese su usuario: \")\n",
    "    clave = input(\"Ingrese su clave: \")\n",
    "\n",
    "    if len(clave) < 6 or len(clave) > 12:\n",
    "        print(\"La clave debe tener una longitud mínima de 6 caracteres y una longitud máxima de 12 caracteres.\")\n",
    "        continue\n",
    "\n",
    "    tiene_minusculas = False\n",
    "    tiene_mayusculas = False\n",
    "    tiene_numeros = False\n",
    "    for caracter in clave:\n",
    "        if caracter.islower():\n",
    "            tiene_minusculas = True\n",
    "        elif caracter.isupper():\n",
    "            tiene_mayusculas = True\n",
    "        elif caracter.isdigit():\n",
    "            tiene_numeros = True\n",
    "\n",
    "    if not tiene_minusculas:\n",
    "        print(\"La clave debe contener al menos una letra en minúscula.\")\n",
    "        continue\n",
    "\n",
    "    if not tiene_mayusculas:\n",
    "        print(\"La clave debe contener al menos una letra en mayúscula.\")\n",
    "        continue\n",
    "\n",
    "    if not tiene_numeros:\n",
    "        print(\"La clave debe contener al menos un número.\")\n",
    "        continue\n",
    "\n",
    "    print(\"Registro exitoso.\")\n",
    "    break\n"
   ]
  },
  {
   "cell_type": "code",
   "execution_count": 8,
   "id": "a398492c",
   "metadata": {},
   "outputs": [
    {
     "ename": "SyntaxError",
     "evalue": "invalid syntax (2810786298.py, line 3)",
     "output_type": "error",
     "traceback": [
      "\u001b[1;36m  File \u001b[1;32m\"C:\\Users\\ivy_c\\AppData\\Local\\Temp\\ipykernel_1528\\2810786298.py\"\u001b[1;36m, line \u001b[1;32m3\u001b[0m\n\u001b[1;33m    pass = input(\"Ingrese clave: \")\u001b[0m\n\u001b[1;37m         ^\u001b[0m\n\u001b[1;31mSyntaxError\u001b[0m\u001b[1;31m:\u001b[0m invalid syntax\n"
     ]
    }
   ],
   "source": [
    "while True:\n",
    "    user = input(\"Ingrese usuario: \")\n",
    "    pass = input(\"Ingrese clave: \")\n",
    "\n",
    "    if len(pass) < 6 or len(pass) > 12:\n",
    "        print(\"La clave debe tener una longitud entre 6 - 12 caracteres.\")\n",
    "        continue\n",
    "\n",
    "    yes_minus = False\n",
    "    yes_mayus = False\n",
    "    yes_num= False\n",
    "    for chr in pass:\n",
    "        if chr.islower():\n",
    "            yes_minus = True\n",
    "        elif chr.isupper():\n",
    "           yes_mayus = True\n",
    "        elif chr.isdigit():\n",
    "           yes_num = True\n",
    "\n",
    "    if not yes_minus:\n",
    "        print(\"La clave debe contener al menos una letra en minúscula.\")\n",
    "        continue\n",
    "\n",
    "    if not yes_mayus:\n",
    "        print(\"La clave debe contener al menos una letra en mayúscula.\")\n",
    "        continue\n",
    "\n",
    "    if not yes_num:\n",
    "        print(\"A la clave le falta un número.\")\n",
    "        continue\n",
    "\n",
    "    print(\"Registro exitoso.\")\n",
    "    break\n"
   ]
  },
  {
   "cell_type": "code",
   "execution_count": 1,
   "id": "78458479",
   "metadata": {},
   "outputs": [
    {
     "ename": "SyntaxError",
     "evalue": "invalid syntax (3942160337.py, line 7)",
     "output_type": "error",
     "traceback": [
      "\u001b[1;36m  File \u001b[1;32m\"C:\\Users\\ivy_c\\AppData\\Local\\Temp\\ipykernel_1736\\3942160337.py\"\u001b[1;36m, line \u001b[1;32m7\u001b[0m\n\u001b[1;33m    for num lista:\u001b[0m\n\u001b[1;37m            ^\u001b[0m\n\u001b[1;31mSyntaxError\u001b[0m\u001b[1;31m:\u001b[0m invalid syntax\n"
     ]
    }
   ],
   "source": [
    "l1 = [22, 45, 39, 23, 11]\n",
    "l2 = [10, 8, 55, 41, 33]\n",
    "l3 = [21, 9, 26, 44, 2]\n",
    "\n",
    "may = l1[0] \n",
    "for lista in [l1, l2, l3]:\n",
    "    for num lista:\n",
    "        if num > may:\n",
    "            may = num\n",
    "print(\"El mayor valor de las tres listas es:\", may)\n",
    "\n",
    "men = []  \n",
    "for lista in [l1, l2, l3]:\n",
    "    men_lista = sorted(lista)[:3]  \n",
    "    men+= men_lista  # Agregar los 3 menores valores a la lista global\n",
    "print(\"Los 3 menores valores de las tres listas son:\", sorted(men))\n"
   ]
  },
  {
   "cell_type": "code",
   "execution_count": null,
   "id": "0a72217a",
   "metadata": {},
   "outputs": [],
   "source": []
  }
 ],
 "metadata": {
  "kernelspec": {
   "display_name": "Python 3 (ipykernel)",
   "language": "python",
   "name": "python3"
  },
  "language_info": {
   "codemirror_mode": {
    "name": "ipython",
    "version": 3
   },
   "file_extension": ".py",
   "mimetype": "text/x-python",
   "name": "python",
   "nbconvert_exporter": "python",
   "pygments_lexer": "ipython3",
   "version": "3.9.13"
  }
 },
 "nbformat": 4,
 "nbformat_minor": 5
}
