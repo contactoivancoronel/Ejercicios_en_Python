{
 "cells": [
  {
   "cell_type": "markdown",
   "id": "6709d582",
   "metadata": {},
   "source": [
    "<div class=\"alert alert-info text-center\">\n",
    "    <h2>Comisión 1 - Python</h2>\n",
    "</div>"
   ]
  },
  {
   "cell_type": "markdown",
   "id": "fcb76ee2",
   "metadata": {},
   "source": [
    "**Este es un texto en negrita**\n",
    "<br>\n",
    "*Este es un texto inclinado*\n",
    "<br>\n",
    "***Texto que combina negrita e inclinado***\n",
    "<br>\n",
    "* Opción 1\n",
    "* Opción 2\n",
    "* Opción 2\n",
    "<br>\n",
    "1. Ítem 1\n",
    "2. Ítem 2"
   ]
  },
  {
   "cell_type": "markdown",
   "id": "4276759d",
   "metadata": {},
   "source": [
    "***Variables***"
   ]
  },
  {
   "cell_type": "code",
   "execution_count": null,
   "id": "b7ecc642",
   "metadata": {},
   "outputs": [],
   "source": [
    "# Vamos a ver el uso de variables.\n",
    "var1 = 23\n",
    "print(var1)\n",
    "\n",
    "# Podemos reutilizar las variables\n",
    "var1 = 45\n",
    "print(var1)"
   ]
  },
  {
   "cell_type": "code",
   "execution_count": null,
   "id": "294595a3",
   "metadata": {},
   "outputs": [],
   "source": [
    "# También puedo reutilizar mis variables, cambiando el tipo de dato\n",
    "var1 = 'Hola mundo'\n",
    "print(var1)\n",
    "\n",
    "# Da lo mismo usar comillas simples o dobles.\n",
    "var2 = \"Clase 2 de Python\""
   ]
  },
  {
   "cell_type": "code",
   "execution_count": null,
   "id": "f61cb4ae",
   "metadata": {},
   "outputs": [],
   "source": [
    "print(var2)"
   ]
  },
  {
   "cell_type": "markdown",
   "id": "599c9b8d",
   "metadata": {},
   "source": [
    "***Comentarios***"
   ]
  },
  {
   "cell_type": "code",
   "execution_count": null,
   "id": "cd72bc52",
   "metadata": {},
   "outputs": [],
   "source": [
    "# Esto es un comentario\n",
    "# Estas líneas son ignoradas por el intérprete\n"
   ]
  },
  {
   "cell_type": "markdown",
   "id": "09b33790",
   "metadata": {},
   "source": [
    "***Tipos de datos***"
   ]
  },
  {
   "cell_type": "code",
   "execution_count": null,
   "id": "5bb7b366",
   "metadata": {},
   "outputs": [],
   "source": [
    "# Datos numéricos\n",
    "var1 = 12\n",
    "#print(type(var1))\n",
    "\n",
    "# Valores base Octal\n",
    "var1 = 0o34\n",
    "#print(type(var1))\n",
    "\n",
    "# Valores decimales\n",
    "var1 = 3.5\n",
    "var2 = 2.5\n",
    "suma = var1 + var2\n",
    "\n",
    "print(type(var1))\n",
    "print(type(var2))\n",
    "print(type(suma))"
   ]
  },
  {
   "cell_type": "code",
   "execution_count": null,
   "id": "9b224ee1",
   "metadata": {},
   "outputs": [],
   "source": [
    "# Asignación en línea\n",
    "valor1,valor2,valor3 = 12,5,3\n",
    "\n",
    "print(valor1)\n",
    "print(valor2)\n",
    "print(valor3)\n",
    "\n",
    "# Otro tipo de asignación múltiple\n",
    "v1=v2=v3 = 'Hola'\n",
    "print(v2)"
   ]
  },
  {
   "cell_type": "code",
   "execution_count": null,
   "id": "f2598a10",
   "metadata": {},
   "outputs": [],
   "source": [
    "# Números complejos\n",
    "valor1 = 3 + 7j\n",
    "print(valor1)"
   ]
  },
  {
   "cell_type": "code",
   "execution_count": null,
   "id": "4b515e26",
   "metadata": {},
   "outputs": [],
   "source": [
    "print(valor1.real)\n",
    "print(valor1.imag)"
   ]
  },
  {
   "cell_type": "markdown",
   "id": "eb688012",
   "metadata": {},
   "source": [
    "***Conversiones de tipo***\n",
    "<br>\n",
    "* int()\n",
    "* float()\n",
    "* complex()"
   ]
  },
  {
   "cell_type": "code",
   "execution_count": null,
   "id": "8e0f339a",
   "metadata": {},
   "outputs": [],
   "source": [
    "# Conversión de entero a coma flotante\n",
    "valor = 23\n",
    "print(type(valor))\n",
    "print(valor)\n",
    "\n",
    "valor = float(valor)\n",
    "print(valor)"
   ]
  },
  {
   "cell_type": "code",
   "execution_count": null,
   "id": "ab918aae",
   "metadata": {},
   "outputs": [],
   "source": [
    "# Entero a complejo\n",
    "valor = 2\n",
    "print(valor)\n",
    "\n",
    "valor = complex(valor)\n",
    "print(valor)"
   ]
  },
  {
   "cell_type": "code",
   "execution_count": null,
   "id": "954a4cbd",
   "metadata": {},
   "outputs": [],
   "source": [
    "# Flotante a entero\n",
    "var3 = 3.7\n",
    "var3 = int(var3)\n",
    "print(var3)"
   ]
  },
  {
   "cell_type": "code",
   "execution_count": null,
   "id": "b5879317",
   "metadata": {},
   "outputs": [],
   "source": [
    "print('Esta es mi variable var3',var3)"
   ]
  },
  {
   "cell_type": "code",
   "execution_count": null,
   "id": "55c65974",
   "metadata": {},
   "outputs": [],
   "source": [
    "# Cadena con mas de una línea\n",
    "print(\"\"\"\n",
    "Línea 1\n",
    "Línea 2\n",
    "Línea 3\n",
    "\"\"\")"
   ]
  },
  {
   "cell_type": "code",
   "execution_count": null,
   "id": "7b4fe6b8",
   "metadata": {},
   "outputs": [],
   "source": [
    "# Caracteres Unicode\n",
    "print('\\u260e')\n",
    "print('\\u1F60E')"
   ]
  },
  {
   "cell_type": "code",
   "execution_count": null,
   "id": "35434dd2",
   "metadata": {},
   "outputs": [],
   "source": [
    "# Booleanos\n",
    "a = True\n",
    "print(type(a))"
   ]
  },
  {
   "cell_type": "markdown",
   "id": "157d7b8e",
   "metadata": {},
   "source": [
    "Ejemplo: Pedir al usuario un ingreso por teclado, que corresponde al radio de un círculo y mostrar por pantalla la superficie de dicho círculo."
   ]
  },
  {
   "cell_type": "code",
   "execution_count": null,
   "id": "9d047f09",
   "metadata": {},
   "outputs": [],
   "source": [
    "# Ejemplo Ingreso por teclado\n",
    "nombre = input('Ingrese su nombre: ')\n",
    "print('El nombre ingresado por teclado es: ',nombre)"
   ]
  },
  {
   "cell_type": "code",
   "execution_count": null,
   "id": "eafaf427",
   "metadata": {},
   "outputs": [],
   "source": [
    "# Intento de solución del ejercicio\n",
    "print('Cálculo de la superficie de un círculo')\n",
    "print()\n",
    "radio = int(input('Ingrese el radio del círculo: '))\n",
    "PI = 3.1415926\n",
    "superficie = PI * (radio**2)\n",
    "print('La superficie calculada es: ',superficie)"
   ]
  },
  {
   "cell_type": "markdown",
   "id": "6224b963",
   "metadata": {},
   "source": [
    "***Método FORMAT***"
   ]
  },
  {
   "cell_type": "code",
   "execution_count": null,
   "id": "efd801b0",
   "metadata": {},
   "outputs": [],
   "source": [
    "# Es un método de la clase STR y me permite, entre otras cosas, agregar datos a un texto.\n",
    "var1 = 4\n",
    "var2 = 5\n",
    "print(\"El valor de mi variable llamada VAR1 es: {}, y el de VAR2 {}\".format(var1,var2))"
   ]
  },
  {
   "cell_type": "markdown",
   "id": "b9613063",
   "metadata": {},
   "source": [
    "***Operadores***"
   ]
  },
  {
   "cell_type": "markdown",
   "id": "b0974ffe",
   "metadata": {},
   "source": [
    "***Operadores aritméticos.***\n",
    "* Suma (+)\n",
    "* Resta (-)\n",
    "* Negativo (-)\n",
    "* Multiplicación (*)\n",
    "* Exponente (**)\n",
    "* División (/)\n",
    "* División entera (//)\n",
    "* Resto (%)"
   ]
  },
  {
   "cell_type": "code",
   "execution_count": null,
   "id": "8932d46f",
   "metadata": {},
   "outputs": [],
   "source": [
    "# Hacer y ejecutar un ejemplo de cada uno."
   ]
  },
  {
   "cell_type": "markdown",
   "id": "a1058773",
   "metadata": {},
   "source": [
    "***Operadores relacionales.***\n",
    "* Igual que (==)\n",
    "* Distinto que (!=)\n",
    "* Menor que (<)\n",
    "* Mayor que (>)\n",
    "* Menor o igual que (<=)\n",
    "* Mayor o igual que (>=)"
   ]
  },
  {
   "cell_type": "code",
   "execution_count": null,
   "id": "02db0413",
   "metadata": {},
   "outputs": [],
   "source": [
    "# Ejemplo\n",
    "a = 1\n",
    "print(\"La variable a es mayor que 10: {}\".format(a > 10))"
   ]
  },
  {
   "cell_type": "markdown",
   "id": "6e6afe6d",
   "metadata": {},
   "source": [
    "***Operadores de asignación.***"
   ]
  },
  {
   "cell_type": "code",
   "execution_count": null,
   "id": "45601e44",
   "metadata": {},
   "outputs": [],
   "source": [
    "# Asignación simple\n",
    "a = 12\n",
    "print(a)\n",
    "\n",
    "# Suma y asignación\n",
    "a = 5\n",
    "a += 2\n",
    "print(\"Suma y asignación: {}\".format(a))\n",
    "\n",
    "# Resta y asignación\n",
    "a = 6\n",
    "a -= 4\n",
    "print(\"Resta y asignación: {}\".format(a))"
   ]
  },
  {
   "cell_type": "markdown",
   "id": "b95d0328",
   "metadata": {},
   "source": [
    "***Operadores lógicos.***\n",
    "* and \n",
    "* or\n",
    "* not"
   ]
  },
  {
   "cell_type": "code",
   "execution_count": null,
   "id": "e2eefe55",
   "metadata": {},
   "outputs": [],
   "source": [
    "# AND\n",
    "a = 5\n",
    "b = 10\n",
    "print(\"AND es TRUE si y solo, ambas expresiones son verdaderas: {}\".format(a==5 and b==10))"
   ]
  },
  {
   "cell_type": "code",
   "execution_count": null,
   "id": "292b4b53",
   "metadata": {},
   "outputs": [],
   "source": [
    "# OR\n",
    "c = 3\n",
    "d = 52\n",
    "print(\"OR es TRUE solo si, al menos una de las expresiones es verdadera: {}\".format(c==6 or d==5))"
   ]
  },
  {
   "cell_type": "code",
   "execution_count": null,
   "id": "23ca9bdb",
   "metadata": {},
   "outputs": [],
   "source": [
    "# NOT\n",
    "var = 23\n",
    "print(\"NOT modifica el valor booleano de una expresión: {}\".format(not var==23))"
   ]
  },
  {
   "cell_type": "markdown",
   "id": "e1267821",
   "metadata": {},
   "source": [
    "### Listas."
   ]
  },
  {
   "cell_type": "code",
   "execution_count": null,
   "id": "233a8e11",
   "metadata": {},
   "outputs": [],
   "source": [
    "# Tipo de elemento: LISTA\n",
    "lista1 = [1,2,3,4]\n",
    "print(lista1)"
   ]
  },
  {
   "cell_type": "code",
   "execution_count": null,
   "id": "88f89325",
   "metadata": {},
   "outputs": [],
   "source": [
    "# Las listas son elementos indexados\n",
    "lista2 = ['a','b',56,12,'Hola mundo']\n",
    "print(lista2[2])"
   ]
  },
  {
   "cell_type": "code",
   "execution_count": null,
   "id": "0c643674",
   "metadata": {},
   "outputs": [],
   "source": [
    "# Ejemplo de uso\n",
    "l1 = ['Hola',4,5]\n",
    "l2 = ['mundo',3]\n",
    "l3 = [l1[0],l2[0]]\n",
    "\n",
    "print(l3)\n",
    "print(l1[0]+' '+l2[0])"
   ]
  },
  {
   "cell_type": "markdown",
   "id": "b0852630",
   "metadata": {},
   "source": [
    "***Función LEN.***"
   ]
  },
  {
   "cell_type": "code",
   "execution_count": null,
   "id": "8c5b3fc5",
   "metadata": {},
   "outputs": [],
   "source": [
    "# Me permite conocer la longitud de un elemento, por ejemplo, las listas.\n",
    "lista = [1,2,3,4,5]\n",
    "print(lista)\n",
    "print(type(lista))\n",
    "print(len(lista))"
   ]
  },
  {
   "cell_type": "markdown",
   "id": "de331c43",
   "metadata": {},
   "source": [
    "***Métodos de LISTA.***"
   ]
  },
  {
   "cell_type": "code",
   "execution_count": null,
   "id": "5cf67970",
   "metadata": {},
   "outputs": [],
   "source": [
    "# Método APPEND\n",
    "# Agrega un elemento al final de la lista.\n",
    "nombres = ['Juan','Pedro','Guillermo']\n",
    "print(nombres)\n",
    "nombres.append(24)\n",
    "print(nombres)"
   ]
  },
  {
   "cell_type": "code",
   "execution_count": null,
   "id": "5c6f5938",
   "metadata": {},
   "outputs": [],
   "source": [
    "# Método COUNT\n",
    "# Devuelve el número de ocurrencias de un elemento dentro de la lista.\n",
    "letras = ['a','b','c','a']\n",
    "print(letras.count('a'))"
   ]
  },
  {
   "cell_type": "code",
   "execution_count": null,
   "id": "de1423dc",
   "metadata": {},
   "outputs": [],
   "source": [
    "# Método INDEX\n",
    "# Devuelve el índice de la primer ocurrencia del elemento que le paso como argumento\n",
    "numeros = [1,2,3,4,5,2]\n",
    "print(numeros.index(2))"
   ]
  },
  {
   "cell_type": "code",
   "execution_count": null,
   "id": "cb1e15c4",
   "metadata": {},
   "outputs": [],
   "source": [
    "# Método INSERT\n",
    "lista = [1,2,3,4]\n",
    "print(lista)\n",
    "lista.insert(2,'Hola')\n",
    "print(lista)\n",
    "\n",
    "lista = []\n",
    "print(lista)"
   ]
  },
  {
   "cell_type": "code",
   "execution_count": null,
   "id": "b59a9a1a",
   "metadata": {},
   "outputs": [],
   "source": [
    "# Método POP\n",
    "lista = [1,2,3,4,5,6]\n",
    "print(lista)\n",
    "a = lista.pop()\n",
    "print(lista)\n",
    "print(a)"
   ]
  },
  {
   "cell_type": "code",
   "execution_count": null,
   "id": "dfae186c",
   "metadata": {},
   "outputs": [],
   "source": [
    "# Método REMOVE\n",
    "numeros = [1,2,3,4,5,2,2]\n",
    "print(numeros)\n",
    "numeros.remove(2)\n",
    "print(numeros)"
   ]
  },
  {
   "cell_type": "code",
   "execution_count": null,
   "id": "0ae179b1",
   "metadata": {},
   "outputs": [],
   "source": [
    "# Método REVERSE\n",
    "# Invierte el orden de los elementos\n",
    "letras = ['a','b','d','c']\n",
    "print(letras)\n",
    "letras.reverse()\n",
    "print(letras)"
   ]
  },
  {
   "cell_type": "code",
   "execution_count": null,
   "id": "7e4489fe",
   "metadata": {},
   "outputs": [],
   "source": [
    "# Método SORT\n",
    "# Ordena los elementos de una lista\n",
    "\n",
    "# Orden, de menor a mayor\n",
    "numeros = [2,6,34,0,23,5]\n",
    "print(numeros)\n",
    "numeros.sort()\n",
    "print(numeros)\n",
    "\n",
    "# Orden de mayor a menor\n",
    "numeros.sort(reverse=True)\n",
    "print(numeros)"
   ]
  },
  {
   "cell_type": "code",
   "execution_count": null,
   "id": "f21e5e6a",
   "metadata": {},
   "outputs": [],
   "source": [
    "# Puedo ordenar texto\n",
    "numeros = ['f','x','a']\n",
    "print(numeros)\n",
    "numeros.sort()\n",
    "print(numeros)"
   ]
  },
  {
   "cell_type": "markdown",
   "id": "85720180",
   "metadata": {},
   "source": [
    "### Operador de pertenencia"
   ]
  },
  {
   "cell_type": "code",
   "execution_count": null,
   "id": "b233a235",
   "metadata": {},
   "outputs": [],
   "source": [
    "# Determinan si un elemento pertenece a una determinada colección\n",
    "a = 12\n",
    "lista = [1,2,3,4,5]\n",
    "print(a in lista)\n",
    "print(a not in lista)"
   ]
  },
  {
   "cell_type": "markdown",
   "id": "a750ac44",
   "metadata": {},
   "source": [
    "## Estructuras."
   ]
  },
  {
   "cell_type": "markdown",
   "id": "6df75f85",
   "metadata": {},
   "source": [
    "***Condicional IF***"
   ]
  },
  {
   "cell_type": "code",
   "execution_count": null,
   "id": "212fad59",
   "metadata": {},
   "outputs": [],
   "source": [
    "# Pedimos el ingreso de un número y verificamos si es par o impar.\n",
    "numero = int(input('Ingrese un número: '))\n",
    "resto = numero%2\n",
    "\n",
    "if resto == 0:\n",
    "    print('El número es PAR')\n",
    "else:\n",
    "    print('El número es IMPAR')\n",
    "\n",
    "print('Acá se termino todo')"
   ]
  },
  {
   "cell_type": "code",
   "execution_count": null,
   "id": "48c1d31f",
   "metadata": {},
   "outputs": [],
   "source": [
    "# Otro ejemplo de IF\n",
    "a = -2\n",
    "if a<0:\n",
    "    print('El número es menor que cero')\n",
    "elif a>=0 and a<=10:\n",
    "    print('El número está entre 0 y 10 inclusive')\n",
    "else:\n",
    "    print('El número es mayor que 10')   "
   ]
  },
  {
   "cell_type": "markdown",
   "id": "a394da6d",
   "metadata": {},
   "source": [
    "## Ejercicios propuestos"
   ]
  },
  {
   "cell_type": "markdown",
   "id": "6306f308",
   "metadata": {},
   "source": [
    "***Ejercicio 1.***\n",
    "Pedir el ingreso por teclado de 3 valores numéricos entre 1 y 10 correspondientes a las notas de un alumno.\n",
    "En base al promedio final de las tres notas, mostrar un mensaje por pantalla que indique si el alumno promociona la materia (nota final 7,8,9 o 10), debe rendir final (nota final 4,5 o 6) o recursa (nota 1,2,3).\n"
   ]
  },
  {
   "cell_type": "code",
   "execution_count": null,
   "id": "87ca1385",
   "metadata": {},
   "outputs": [],
   "source": [
    "# Código del ejercicio 1"
   ]
  },
  {
   "cell_type": "markdown",
   "id": "219156db",
   "metadata": {},
   "source": [
    "***Ejercicio 2.***\n",
    "Solicitar por teclado la cantidad de partidos ganados, empatados y perdidos de un determinado club de fútbol. Calcular y mostrar el puntaje final sabiendo que cada partido ganado le otorga 3 puntos, cada partido empatado 1 punto y ningún punto por cada partido perdido. \n"
   ]
  },
  {
   "cell_type": "code",
   "execution_count": null,
   "id": "80f12e4a",
   "metadata": {},
   "outputs": [],
   "source": [
    "# Código del ejercicio 2"
   ]
  },
  {
   "cell_type": "markdown",
   "id": "abf4912f",
   "metadata": {},
   "source": [
    "***Ejercicio 3.***\n",
    "Solicitar por teclado el ingreso de un número entero.\n",
    "Asignar dicho número a una variable, transformarla a coma flotante y mostrarla por pantalla (valor y tipo de variable).\n"
   ]
  },
  {
   "cell_type": "code",
   "execution_count": null,
   "id": "d06405e7",
   "metadata": {},
   "outputs": [],
   "source": [
    "# Código del ejercicio 3"
   ]
  },
  {
   "cell_type": "markdown",
   "id": "f9c57325",
   "metadata": {},
   "source": [
    "***Ejercicio 4.***\n",
    "Desarrollar un programa que solicite al usuario los lados de un rectángulo y calcule su perímetro y su superficie.\n",
    "Informar ambos resultados por pantalla.\n"
   ]
  },
  {
   "cell_type": "code",
   "execution_count": null,
   "id": "e1f8dffe",
   "metadata": {},
   "outputs": [],
   "source": [
    "# Código del ejercicio 4"
   ]
  },
  {
   "cell_type": "markdown",
   "id": "8bd7fed4",
   "metadata": {},
   "source": [
    "***Ejercicio 5.***\n",
    "Pedir al usuario que ingrese por teclado dos números reales y utilizarlos para realizar todas las operaciones aritméticas vistas (suma, resta, multiplicación, división, potencia, división entera y resto).\n",
    "Mostar todos los resultados por pantalla (un resultado por línea) con su respectiva leyenda aclarando de que operación se trata.\n"
   ]
  },
  {
   "cell_type": "code",
   "execution_count": null,
   "id": "c95736ce",
   "metadata": {},
   "outputs": [],
   "source": [
    "# Código del ejercicio 5"
   ]
  },
  {
   "cell_type": "markdown",
   "id": "35c6a20f",
   "metadata": {},
   "source": [
    "***Ejercicio 6.***\n",
    "Si creamos tres listas. La primera contiene 4 números, la segunda contiene 5 letras y en la tercera le cargamos como elementos las dos listas anteriores.\n",
    "¿Cuántos elementos contendrá la tercera lista? Demostrar mediante un breve código.\n"
   ]
  },
  {
   "cell_type": "code",
   "execution_count": null,
   "id": "b75ffc37",
   "metadata": {},
   "outputs": [],
   "source": [
    "# Código del ejercicio 6"
   ]
  },
  {
   "cell_type": "markdown",
   "id": "1ecc6280",
   "metadata": {},
   "source": [
    "***Ejercicio 7.***\n",
    "Escribir un programa que pida ingresar un número entero mayor que cero por teclado.\n",
    "Verificar si el número ingresado es múltiplo de 2, 3, 4, 5, 6, 7,8 o 9.\n",
    "Armar una lista con los números encontrados (por ejemplo, si el número ingresado es múltiplo de 3,6 y 7, armamos una lista que contenga estos tres números).\n",
    "Mostrar la lista por pantalla, ordenada de mayor a menor.\n",
    "En caso de que el número ingresado no sea múltiplo de estos números, mostrar por pantalla el mensaje “No se encontraron divisores exactos”.\n"
   ]
  },
  {
   "cell_type": "code",
   "execution_count": null,
   "id": "bb4ceda2",
   "metadata": {},
   "outputs": [],
   "source": [
    "# Código del ejercicio 7"
   ]
  },
  {
   "cell_type": "markdown",
   "id": "d163784f",
   "metadata": {},
   "source": [
    "***Ejercicio 8.***\n",
    "Pedirle al usuario que ingrese dos números enteros por teclado y contar cuantos números pares hay entre ambos valores ingresados.\n"
   ]
  },
  {
   "cell_type": "code",
   "execution_count": null,
   "id": "6236b2c0",
   "metadata": {},
   "outputs": [],
   "source": [
    "# Código del ejercicio 8"
   ]
  },
  {
   "cell_type": "markdown",
   "id": "c793336b",
   "metadata": {},
   "source": [
    "***Ejercicio 9.***\n",
    "Escribir un programa que permita al usuario ingresar por teclado tantos números enteros como desee. Cuando no quiera ingresar más números, deberá ingresar el cero.\n",
    "A continuación, determinar cuál de los números ingresados es el mayor y cuál es el menor. Mostrar ambos por pantalla.\n"
   ]
  },
  {
   "cell_type": "code",
   "execution_count": null,
   "id": "9029fbcb",
   "metadata": {},
   "outputs": [],
   "source": [
    "# Código del ejercicio 9"
   ]
  },
  {
   "cell_type": "code",
   "execution_count": null,
   "id": "132a5d72",
   "metadata": {},
   "outputs": [],
   "source": [
    "valor = input(\"ingrese un valor entre 1 y 3\")\n",
    "lista = ['1','2','3']\n",
    "print(valor in lista)\n"
   ]
  },
  {
   "cell_type": "markdown",
   "id": "5825133a",
   "metadata": {},
   "source": [
    "### Estructuras (parte 2)"
   ]
  },
  {
   "cell_type": "markdown",
   "id": "417e9984",
   "metadata": {},
   "source": [
    "***Estructura While***"
   ]
  },
  {
   "cell_type": "code",
   "execution_count": null,
   "id": "d4fda10e",
   "metadata": {},
   "outputs": [],
   "source": [
    "# Estructura While por contador.\n",
    "control = 1\n",
    "\n",
    "while control <= 5:\n",
    "    print(\"Valor de la variable de control: {}\".format(control))\n",
    "    control = control + 1\n",
    "    \n",
    "print(\"Fin del ciclo While, valor final de la variable: {}\".format(control))"
   ]
  },
  {
   "cell_type": "code",
   "execution_count": null,
   "id": "0bebf36b",
   "metadata": {},
   "outputs": [],
   "source": [
    "# Ejemplo de While simulando un DO WHILE\n",
    "contador = 0\n",
    "\n",
    "while True:\n",
    "    contador = contador + 1\n",
    "    print(\"Valor del contador: {}\".format(contador))\n",
    "    if contador == 4:\n",
    "        break\n",
    "        \n",
    "print(\"Fin del ciclo, valor final de la variable de control: {}\".format(contador))"
   ]
  },
  {
   "cell_type": "code",
   "execution_count": null,
   "id": "cf0dbfba",
   "metadata": {},
   "outputs": [],
   "source": [
    "# Ejercicio de ejemplo.\n",
    "notas = []\n",
    "nota = 0\n",
    "\n",
    "while nota != -1:\n",
    "    nota = int(input(\"Ingrese notas del 1 al 10 o -1 para finalizar.\"))\n",
    "    if nota == -1:\n",
    "        break\n",
    "    notas.append(nota)\n",
    "    \n",
    "print(\"Notas ingresadas: \",notas)\n",
    "print(\"Suma de las notas: \",sum(notas))\n",
    "print(\"Promedio de las notas: \",sum(notas)/len(notas))\n",
    "\n",
    "# Arreglar el problema de la división sobre cero."
   ]
  },
  {
   "cell_type": "markdown",
   "id": "5e908338",
   "metadata": {},
   "source": [
    "***Estructura FOR***"
   ]
  },
  {
   "cell_type": "code",
   "execution_count": null,
   "id": "d80c835e",
   "metadata": {},
   "outputs": [],
   "source": [
    "# Ejemplo de FOR\n",
    "lista = [1,2,3,4,'Hola',6]\n",
    "for valor in lista:\n",
    "    print(\"Valor cargado dentro del Iterador: {}\".format(valor))\n"
   ]
  },
  {
   "cell_type": "code",
   "execution_count": null,
   "id": "caca8f65",
   "metadata": {},
   "outputs": [],
   "source": [
    "# Función RANGE\n",
    "for mes in range(4,13):\n",
    "    print(\"Valor de mes obtenido; {}\".format(mes))"
   ]
  },
  {
   "cell_type": "code",
   "execution_count": null,
   "id": "97e68fff",
   "metadata": {},
   "outputs": [],
   "source": [
    "# Función RANGE con incremento / decremento\n",
    "for numero in range(1,6,2):\n",
    "    print(\"Valor del iterador: {}\".format(numero))"
   ]
  },
  {
   "cell_type": "code",
   "execution_count": null,
   "id": "8100a1a1",
   "metadata": {},
   "outputs": [],
   "source": [
    "# FOR con range y decremento\n",
    "for x in range(5,0,-1):\n",
    "    print(x)"
   ]
  },
  {
   "cell_type": "markdown",
   "id": "a3dc351f",
   "metadata": {},
   "source": [
    "***Cadenas de caracteres***"
   ]
  },
  {
   "cell_type": "code",
   "execution_count": null,
   "id": "5ea3f1cc",
   "metadata": {},
   "outputs": [],
   "source": [
    "# Caracter de escape\n",
    "print(\"Uso del caracter \\\"de\\\" escape.\")"
   ]
  },
  {
   "cell_type": "code",
   "execution_count": null,
   "id": "8c113f3e",
   "metadata": {},
   "outputs": [],
   "source": [
    "print(\"Taller\"+\" - \"+\"Integrador\")\n",
    "print(2 * \"Vamos Chaca\")\n",
    "print('Hola ' 'Mundo')"
   ]
  },
  {
   "cell_type": "code",
   "execution_count": null,
   "id": "c6bb9bf6",
   "metadata": {},
   "outputs": [],
   "source": [
    "# Lass cadenas están indexadas\n",
    "texto = \"Me gusta cursar los Martes\"\n",
    "print(texto[-1])"
   ]
  },
  {
   "cell_type": "code",
   "execution_count": null,
   "id": "7980a32c",
   "metadata": {},
   "outputs": [],
   "source": [
    "# Podemos convertir a lista el texto para usar sus métodos.\n",
    "a = \"Hola mundo\"\n",
    "print(type(a))\n",
    "a = list(a)\n",
    "print(type(a))\n",
    "print(a)\n",
    "a.append(12)\n",
    "print(a)"
   ]
  },
  {
   "cell_type": "markdown",
   "id": "517bcaff",
   "metadata": {},
   "source": [
    "***Sub cadenas***"
   ]
  },
  {
   "cell_type": "code",
   "execution_count": null,
   "id": "d46bfa3e",
   "metadata": {},
   "outputs": [],
   "source": [
    "# Ejemplo 1\n",
    "cadena = \"Taller integrador\"\n",
    "sub_cadena = cadena[1:6]\n",
    "print(sub_cadena)"
   ]
  },
  {
   "cell_type": "code",
   "execution_count": null,
   "id": "a505865c",
   "metadata": {},
   "outputs": [],
   "source": [
    "# Podemos ignorar alguno de los extremos\n",
    "cadena = \"Python\"\n",
    "print(cadena[:4])\n",
    "print(cadena[2:])\n",
    "print(cadena[:])"
   ]
  },
  {
   "cell_type": "code",
   "execution_count": null,
   "id": "3a316c6f",
   "metadata": {},
   "outputs": [],
   "source": [
    "# Las cadenas de texto son Inmutables\n",
    "texto = 'Hola'\n",
    "texto[0]='L'"
   ]
  },
  {
   "cell_type": "code",
   "execution_count": null,
   "id": "057ea57e",
   "metadata": {},
   "outputs": [],
   "source": [
    "# Las listas son Mutables\n",
    "lista = [1,2,3]\n",
    "lista[0] = 'a'\n",
    "print(lista)"
   ]
  },
  {
   "cell_type": "markdown",
   "id": "90bd659f",
   "metadata": {},
   "source": [
    "### Listas (continuación)"
   ]
  },
  {
   "cell_type": "code",
   "execution_count": null,
   "id": "10d8c6b5",
   "metadata": {},
   "outputs": [],
   "source": [
    "# Las listas se pueden rebanar creando sub listas\n",
    "lista = ['1','2','3','4','5','6']\n",
    "sub1 = lista[0:3]\n",
    "print(lista)\n",
    "print(sub1)\n",
    "\n",
    "# Probar la sintaxis aprendida con cadenas de texto"
   ]
  },
  {
   "cell_type": "markdown",
   "id": "b0a4245e",
   "metadata": {},
   "source": [
    "***Creamos una lista usando RANGE***"
   ]
  },
  {
   "cell_type": "code",
   "execution_count": null,
   "id": "249691b0",
   "metadata": {},
   "outputs": [],
   "source": [
    "# Si a Range le pasamos un solo argumento, lo toma com valor \"Hasta\"\n",
    "numeros = list(range(11))\n",
    "print(numeros)"
   ]
  },
  {
   "cell_type": "code",
   "execution_count": null,
   "id": "36b3fd9e",
   "metadata": {},
   "outputs": [],
   "source": [
    "lista = list(range(1,11,2))\n",
    "print(lista)"
   ]
  },
  {
   "cell_type": "markdown",
   "id": "f1fe0891",
   "metadata": {},
   "source": [
    "***Estructruras vacías***"
   ]
  },
  {
   "cell_type": "code",
   "execution_count": null,
   "id": "929f3953",
   "metadata": {},
   "outputs": [],
   "source": [
    "while True:\n",
    "    pass"
   ]
  },
  {
   "cell_type": "markdown",
   "id": "54519386",
   "metadata": {},
   "source": [
    "### Funciones "
   ]
  },
  {
   "cell_type": "code",
   "execution_count": 1,
   "id": "eabf977e",
   "metadata": {},
   "outputs": [
    {
     "name": "stdout",
     "output_type": "stream",
     "text": [
      "El valor 4 elevado al cuadrado es: 16\n"
     ]
    }
   ],
   "source": [
    "# Para definir una función utilizamos la palabra reservada DEF\n",
    "def cuadrado(valor):\n",
    "    resultado = valor**2\n",
    "    print(\"El valor {} elevado al cuadrado es: {}\".format(valor,resultado))\n",
    "    \n",
    "cuadrado(4)"
   ]
  },
  {
   "cell_type": "markdown",
   "id": "fda12906",
   "metadata": {},
   "source": [
    "***Ejercico propuesto***\n",
    "<br>\n",
    "Armar un programa que pida números a un usuario, cada uno lo eleve al cubo y muestre el resultado, hasta que el usuairo ingrese el valor 0."
   ]
  },
  {
   "cell_type": "code",
   "execution_count": 2,
   "id": "7b529490",
   "metadata": {},
   "outputs": [
    {
     "name": "stdout",
     "output_type": "stream",
     "text": [
      "<class 'function'>\n"
     ]
    }
   ],
   "source": [
    "# Las funciones tienen su propia clase\n",
    "print(type(cuadrado))"
   ]
  },
  {
   "cell_type": "code",
   "execution_count": 3,
   "id": "228b94cb",
   "metadata": {},
   "outputs": [
    {
     "name": "stdout",
     "output_type": "stream",
     "text": [
      "<class 'int'>\n",
      "<class 'function'>\n"
     ]
    }
   ],
   "source": [
    "# \n",
    "a = 4\n",
    "print(type(a))\n",
    "\n",
    "a = cuadrado\n",
    "print(type(a))"
   ]
  },
  {
   "cell_type": "code",
   "execution_count": 4,
   "id": "bbb5fb0d",
   "metadata": {},
   "outputs": [
    {
     "name": "stdout",
     "output_type": "stream",
     "text": [
      "El valor 3 elevado al cuadrado es: 9\n"
     ]
    }
   ],
   "source": [
    "a(3)"
   ]
  },
  {
   "cell_type": "markdown",
   "id": "a92b7535",
   "metadata": {},
   "source": [
    "***Retorno de valores.***"
   ]
  },
  {
   "cell_type": "code",
   "execution_count": 5,
   "id": "b7f2416c",
   "metadata": {},
   "outputs": [
    {
     "name": "stdout",
     "output_type": "stream",
     "text": [
      "El resultado de elevar 5 al cuadrado es: 25\n"
     ]
    }
   ],
   "source": [
    "def cuadrado(valor):\n",
    "    resultado = valor**2\n",
    "    return(resultado)\n",
    "\n",
    "valor = cuadrado(5)\n",
    "print(\"El resultado de elevar 5 al cuadrado es: {}\".format(valor))"
   ]
  },
  {
   "cell_type": "markdown",
   "id": "4c3c75b5",
   "metadata": {},
   "source": [
    "***Pasaje de argumentos por posición.***"
   ]
  },
  {
   "cell_type": "code",
   "execution_count": 7,
   "id": "8e71d4f0",
   "metadata": {},
   "outputs": [
    {
     "name": "stdout",
     "output_type": "stream",
     "text": [
      "Resultado de la resta: -7\n"
     ]
    }
   ],
   "source": [
    "def resta(x,y):\n",
    "    res = x - y\n",
    "    print(\"Resultado de la resta: {}\".format(res))\n",
    "    \n",
    "resta(3,10)"
   ]
  },
  {
   "cell_type": "markdown",
   "id": "a39127e2",
   "metadata": {},
   "source": [
    "***Pasaje de argumentos por nombre.***"
   ]
  },
  {
   "cell_type": "code",
   "execution_count": 8,
   "id": "9ed185af",
   "metadata": {},
   "outputs": [
    {
     "name": "stdout",
     "output_type": "stream",
     "text": [
      "Resultado de la resta: 7\n"
     ]
    }
   ],
   "source": [
    "resta(y=3,x=10)"
   ]
  },
  {
   "cell_type": "markdown",
   "id": "17d08ebd",
   "metadata": {},
   "source": [
    "***Función invocada sin argumentos*** "
   ]
  },
  {
   "cell_type": "code",
   "execution_count": 14,
   "id": "dbefc5b5",
   "metadata": {},
   "outputs": [
    {
     "name": "stdout",
     "output_type": "stream",
     "text": [
      "Resultado de la resta: 0\n"
     ]
    }
   ],
   "source": [
    "def resta(x=None,y=None):\n",
    "    if x==None or y==None:\n",
    "        print(\"Error, debe ingresar dos valores.\")\n",
    "        return\n",
    "    res = x-y\n",
    "    print(\"Resultado de la resta: {}\".format(res))\n",
    "    \n",
    "resta(4,4)\n",
    "\n",
    "# Corregir el caso (,4)"
   ]
  },
  {
   "cell_type": "markdown",
   "id": "aa905d11",
   "metadata": {},
   "source": [
    "### Números aleatorios"
   ]
  },
  {
   "cell_type": "code",
   "execution_count": 16,
   "id": "9abab269",
   "metadata": {},
   "outputs": [
    {
     "name": "stdout",
     "output_type": "stream",
     "text": [
      "Número al azar entre 0 y 10 6\n"
     ]
    }
   ],
   "source": [
    "import random\n",
    "print(\"Número al azar entre 0 y 10\",random.randrange(11))"
   ]
  },
  {
   "cell_type": "code",
   "execution_count": 18,
   "id": "5a77c088",
   "metadata": {},
   "outputs": [
    {
     "name": "stdout",
     "output_type": "stream",
     "text": [
      "Número al azar entre 20 y 40 20\n"
     ]
    }
   ],
   "source": [
    "print(\"Número al azar entre 20 y 40\",random.randrange(20,41))"
   ]
  },
  {
   "cell_type": "code",
   "execution_count": 21,
   "id": "7ca73eff",
   "metadata": {},
   "outputs": [
    {
     "name": "stdout",
     "output_type": "stream",
     "text": [
      "Número al azar entre 1 y 20, que sea impar. 9\n"
     ]
    }
   ],
   "source": [
    "print(\"Número al azar entre 1 y 20, que sea impar.\",random.randrange(1,21,2))"
   ]
  },
  {
   "cell_type": "code",
   "execution_count": 28,
   "id": "a4bc6768",
   "metadata": {},
   "outputs": [
    {
     "name": "stdout",
     "output_type": "stream",
     "text": [
      "Número al azar entre 1 y 5:  5\n"
     ]
    }
   ],
   "source": [
    "# RANDINT: incluye también el HASTA\n",
    "print(\"Número al azar entre 1 y 5: \",random.randint(1,5))"
   ]
  },
  {
   "cell_type": "code",
   "execution_count": 31,
   "id": "bfcea8b9",
   "metadata": {},
   "outputs": [
    {
     "name": "stdout",
     "output_type": "stream",
     "text": [
      "Próximo campeón:  Chaca\n"
     ]
    }
   ],
   "source": [
    "# Método CHOICE\n",
    "# Devuelce un elemento al azar, de una lista predefinida.\n",
    "lista = [\"River\",\"Boca\",\"Chaca\"]\n",
    "print(\"Próximo campeón: \",random.choice(lista))"
   ]
  },
  {
   "cell_type": "code",
   "execution_count": 32,
   "id": "3984a067",
   "metadata": {},
   "outputs": [
    {
     "name": "stdout",
     "output_type": "stream",
     "text": [
      "[1, 2, 3, 4, 5, 6]\n",
      "[5, 4, 2, 3, 6, 1]\n",
      "[3, 4, 6, 5, 2, 1]\n"
     ]
    }
   ],
   "source": [
    "# Método SHUFFLE\n",
    "# Mezcla al azar los elementos de una lista\n",
    "numeros = [1,2,3,4,5,6]\n",
    "print(numeros)\n",
    "\n",
    "random.shuffle(numeros)\n",
    "print(numeros)\n",
    "\n",
    "random.shuffle(numeros)\n",
    "print(numeros)"
   ]
  },
  {
   "cell_type": "code",
   "execution_count": null,
   "id": "337f43aa",
   "metadata": {},
   "outputs": [],
   "source": []
  }
 ],
 "metadata": {
  "kernelspec": {
   "display_name": "Python 3 (ipykernel)",
   "language": "python",
   "name": "python3"
  },
  "language_info": {
   "codemirror_mode": {
    "name": "ipython",
    "version": 3
   },
   "file_extension": ".py",
   "mimetype": "text/x-python",
   "name": "python",
   "nbconvert_exporter": "python",
   "pygments_lexer": "ipython3",
   "version": "3.9.13"
  }
 },
 "nbformat": 4,
 "nbformat_minor": 5
}
